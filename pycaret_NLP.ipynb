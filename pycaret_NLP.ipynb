{
 "cells": [
  {
   "cell_type": "code",
   "execution_count": 1,
   "metadata": {},
   "outputs": [
    {
     "name": "stdout",
     "output_type": "stream",
     "text": [
      "Requirement already satisfied: pycaret in /Users/patsnap/anaconda2/lib/python3.7/site-packages (1.0.0)\n",
      "Requirement already satisfied: yellowbrick==1.0.1 in /Users/patsnap/anaconda2/lib/python3.7/site-packages (from pycaret) (1.0.1)\n",
      "Requirement already satisfied: nltk in /Users/patsnap/anaconda2/lib/python3.7/site-packages (from pycaret) (3.4.5)\n",
      "Requirement already satisfied: textblob in /Users/patsnap/anaconda2/lib/python3.7/site-packages (from pycaret) (0.15.3)\n",
      "Requirement already satisfied: pandas-profiling==2.3.0 in /Users/patsnap/anaconda2/lib/python3.7/site-packages (from pycaret) (2.3.0)\n",
      "Requirement already satisfied: datetime in /Users/patsnap/anaconda2/lib/python3.7/site-packages (from pycaret) (4.3)\n",
      "Requirement already satisfied: awscli in /Users/patsnap/anaconda2/lib/python3.7/site-packages (from pycaret) (1.18.16)\n",
      "Requirement already satisfied: cufflinks==0.17.0 in /Users/patsnap/anaconda2/lib/python3.7/site-packages (from pycaret) (0.17.0)\n",
      "Requirement already satisfied: gensim in /Users/patsnap/anaconda2/lib/python3.7/site-packages (from pycaret) (3.8.0)\n",
      "Requirement already satisfied: IPython in /Users/patsnap/anaconda2/lib/python3.7/site-packages (from pycaret) (7.9.0)\n",
      "Requirement already satisfied: matplotlib in /Users/patsnap/anaconda2/lib/python3.7/site-packages (from pycaret) (3.1.1)\n",
      "Requirement already satisfied: xgboost==0.90 in /Users/patsnap/anaconda2/lib/python3.7/site-packages (from pycaret) (0.90)\n",
      "Requirement already satisfied: kmodes==0.10.1 in /Users/patsnap/anaconda2/lib/python3.7/site-packages (from pycaret) (0.10.1)\n",
      "Requirement already satisfied: joblib in /Users/patsnap/anaconda2/lib/python3.7/site-packages (from pycaret) (0.14.0)\n",
      "Requirement already satisfied: seaborn in /Users/patsnap/anaconda2/lib/python3.7/site-packages (from pycaret) (0.9.0)\n",
      "Requirement already satisfied: numpy in /Users/patsnap/.local/lib/python3.7/site-packages (from pycaret) (1.18.4)\n",
      "Requirement already satisfied: pyod in /Users/patsnap/anaconda2/lib/python3.7/site-packages (from pycaret) (0.7.9)\n",
      "Requirement already satisfied: datefinder==0.7.0 in /Users/patsnap/anaconda2/lib/python3.7/site-packages (from pycaret) (0.7.0)\n",
      "Requirement already satisfied: shap==0.32.1 in /Users/patsnap/anaconda2/lib/python3.7/site-packages (from pycaret) (0.32.1)\n",
      "Requirement already satisfied: plotly==4.4.1 in /Users/patsnap/anaconda2/lib/python3.7/site-packages (from pycaret) (4.4.1)\n",
      "Requirement already satisfied: ipywidgets in /Users/patsnap/anaconda2/lib/python3.7/site-packages (from pycaret) (7.5.1)\n",
      "Requirement already satisfied: lightgbm==2.3.1 in /Users/patsnap/anaconda2/lib/python3.7/site-packages (from pycaret) (2.3.1)\n",
      "Requirement already satisfied: pyLDAvis in /Users/patsnap/anaconda2/lib/python3.7/site-packages (from pycaret) (2.1.2)\n",
      "Requirement already satisfied: catboost==0.20.2 in /Users/patsnap/anaconda2/lib/python3.7/site-packages (from pycaret) (0.20.2)\n",
      "Requirement already satisfied: pandas in /Users/patsnap/anaconda2/lib/python3.7/site-packages (from pycaret) (0.25.3)\n",
      "Requirement already satisfied: scikit-learn==0.22 in /Users/patsnap/anaconda2/lib/python3.7/site-packages (from pycaret) (0.22)\n",
      "Requirement already satisfied: mlxtend in /Users/patsnap/anaconda2/lib/python3.7/site-packages (from pycaret) (0.17.2)\n",
      "Requirement already satisfied: spacy in /Users/patsnap/anaconda2/lib/python3.7/site-packages (from pycaret) (2.2.4)\n",
      "Requirement already satisfied: umap-learn in /Users/patsnap/anaconda2/lib/python3.7/site-packages (from pycaret) (0.4.3)\n",
      "Requirement already satisfied: wordcloud in /Users/patsnap/anaconda2/lib/python3.7/site-packages (from pycaret) (1.6.0)\n",
      "Requirement already satisfied: scipy>=1.0.0 in /Users/patsnap/anaconda2/lib/python3.7/site-packages (from yellowbrick==1.0.1->pycaret) (1.4.1)\n",
      "Requirement already satisfied: cycler>=0.10.0 in /Users/patsnap/anaconda2/lib/python3.7/site-packages (from yellowbrick==1.0.1->pycaret) (0.10.0)\n",
      "Requirement already satisfied: six in /Users/patsnap/.local/lib/python3.7/site-packages (from nltk->pycaret) (1.14.0)\n",
      "Requirement already satisfied: missingno>=0.4.2 in /Users/patsnap/anaconda2/lib/python3.7/site-packages (from pandas-profiling==2.3.0->pycaret) (0.4.2)\n",
      "Requirement already satisfied: htmlmin>=0.1.12 in /Users/patsnap/anaconda2/lib/python3.7/site-packages (from pandas-profiling==2.3.0->pycaret) (0.1.12)\n",
      "Requirement already satisfied: confuse>=1.0.0 in /Users/patsnap/anaconda2/lib/python3.7/site-packages (from pandas-profiling==2.3.0->pycaret) (1.1.0)\n",
      "Requirement already satisfied: astropy in /Users/patsnap/anaconda2/lib/python3.7/site-packages (from pandas-profiling==2.3.0->pycaret) (3.2.3)\n",
      "Requirement already satisfied: jinja2>=2.8 in /Users/patsnap/anaconda2/lib/python3.7/site-packages (from pandas-profiling==2.3.0->pycaret) (2.10.3)\n",
      "Requirement already satisfied: phik>=0.9.8 in /Users/patsnap/anaconda2/lib/python3.7/site-packages (from pandas-profiling==2.3.0->pycaret) (0.9.12)\n",
      "Requirement already satisfied: pytz in /Users/patsnap/anaconda2/lib/python3.7/site-packages (from datetime->pycaret) (2019.3)\n",
      "Requirement already satisfied: zope.interface in /Users/patsnap/anaconda2/lib/python3.7/site-packages (from datetime->pycaret) (4.6.0)\n",
      "Requirement already satisfied: rsa<=3.5.0,>=3.1.2 in /Users/patsnap/anaconda2/lib/python3.7/site-packages (from awscli->pycaret) (3.4.2)\n",
      "Requirement already satisfied: docutils<0.16,>=0.10 in /Users/patsnap/anaconda2/lib/python3.7/site-packages (from awscli->pycaret) (0.15.2)\n",
      "Requirement already satisfied: s3transfer<0.4.0,>=0.3.0 in /Users/patsnap/anaconda2/lib/python3.7/site-packages (from awscli->pycaret) (0.3.3)\n",
      "Requirement already satisfied: botocore==1.15.16 in /Users/patsnap/anaconda2/lib/python3.7/site-packages (from awscli->pycaret) (1.15.16)\n",
      "Requirement already satisfied: colorama<0.4.4,>=0.2.5; python_version != \"3.4\" in /Users/patsnap/anaconda2/lib/python3.7/site-packages (from awscli->pycaret) (0.4.1)\n",
      "Requirement already satisfied: PyYAML<5.4,>=3.10; python_version != \"3.4\" in /Users/patsnap/anaconda2/lib/python3.7/site-packages (from awscli->pycaret) (5.1.2)\n",
      "Requirement already satisfied: chart-studio>=1.0.0 in /Users/patsnap/anaconda2/lib/python3.7/site-packages (from cufflinks==0.17.0->pycaret) (1.1.0)\n",
      "Requirement already satisfied: colorlover>=0.2.1 in /Users/patsnap/anaconda2/lib/python3.7/site-packages (from cufflinks==0.17.0->pycaret) (0.3.0)\n",
      "Requirement already satisfied: setuptools>=34.4.1 in /Users/patsnap/.local/lib/python3.7/site-packages (from cufflinks==0.17.0->pycaret) (46.3.0)\n",
      "Requirement already satisfied: smart-open>=1.7.0 in /Users/patsnap/anaconda2/lib/python3.7/site-packages (from gensim->pycaret) (1.10.0)\n",
      "Requirement already satisfied: decorator in /Users/patsnap/anaconda2/lib/python3.7/site-packages (from IPython->pycaret) (4.4.1)\n",
      "Requirement already satisfied: prompt-toolkit<2.1.0,>=2.0.0 in /Users/patsnap/anaconda2/lib/python3.7/site-packages (from IPython->pycaret) (2.0.10)\n",
      "Requirement already satisfied: pygments in /Users/patsnap/anaconda2/lib/python3.7/site-packages (from IPython->pycaret) (2.4.2)\n",
      "Requirement already satisfied: backcall in /Users/patsnap/anaconda2/lib/python3.7/site-packages (from IPython->pycaret) (0.1.0)\n",
      "Requirement already satisfied: traitlets>=4.2 in /Users/patsnap/anaconda2/lib/python3.7/site-packages (from IPython->pycaret) (4.3.3)\n",
      "Requirement already satisfied: jedi>=0.10 in /Users/patsnap/anaconda2/lib/python3.7/site-packages (from IPython->pycaret) (0.15.1)\n",
      "Requirement already satisfied: appnope; sys_platform == \"darwin\" in /Users/patsnap/anaconda2/lib/python3.7/site-packages (from IPython->pycaret) (0.1.0)\n",
      "Requirement already satisfied: pickleshare in /Users/patsnap/anaconda2/lib/python3.7/site-packages (from IPython->pycaret) (0.7.5)\n",
      "Requirement already satisfied: pexpect; sys_platform != \"win32\" in /Users/patsnap/anaconda2/lib/python3.7/site-packages (from IPython->pycaret) (4.7.0)\n",
      "Requirement already satisfied: kiwisolver>=1.0.1 in /Users/patsnap/anaconda2/lib/python3.7/site-packages (from matplotlib->pycaret) (1.1.0)\n",
      "Requirement already satisfied: pyparsing!=2.0.4,!=2.1.2,!=2.1.6,>=2.0.1 in /Users/patsnap/anaconda2/lib/python3.7/site-packages (from matplotlib->pycaret) (2.4.2)\n",
      "Requirement already satisfied: python-dateutil>=2.1 in /Users/patsnap/anaconda2/lib/python3.7/site-packages (from matplotlib->pycaret) (2.8.1)\n",
      "Requirement already satisfied: suod in /Users/patsnap/anaconda2/lib/python3.7/site-packages (from pyod->pycaret) (0.0.4)\n",
      "Requirement already satisfied: numba>=0.35 in /Users/patsnap/anaconda2/lib/python3.7/site-packages (from pyod->pycaret) (0.46.0)\n"
     ]
    },
    {
     "name": "stdout",
     "output_type": "stream",
     "text": [
      "Requirement already satisfied: combo in /Users/patsnap/anaconda2/lib/python3.7/site-packages (from pyod->pycaret) (0.1.0)\n",
      "Requirement already satisfied: regex>=2017.02.08 in /Users/patsnap/anaconda2/lib/python3.7/site-packages (from datefinder==0.7.0->pycaret) (2020.2.20)\n",
      "Requirement already satisfied: tqdm>4.25.0 in /Users/patsnap/anaconda2/lib/python3.7/site-packages (from shap==0.32.1->pycaret) (4.41.1)\n",
      "Requirement already satisfied: retrying>=1.3.3 in /Users/patsnap/anaconda2/lib/python3.7/site-packages (from plotly==4.4.1->pycaret) (1.3.3)\n",
      "Requirement already satisfied: widgetsnbextension~=3.5.0 in /Users/patsnap/anaconda2/lib/python3.7/site-packages (from ipywidgets->pycaret) (3.5.1)\n",
      "Requirement already satisfied: nbformat>=4.2.0 in /Users/patsnap/anaconda2/lib/python3.7/site-packages (from ipywidgets->pycaret) (4.4.0)\n",
      "Requirement already satisfied: ipykernel>=4.5.1 in /Users/patsnap/anaconda2/lib/python3.7/site-packages (from ipywidgets->pycaret) (5.1.3)\n",
      "Requirement already satisfied: wheel>=0.23.0 in /Users/patsnap/.local/lib/python3.7/site-packages (from pyLDAvis->pycaret) (0.34.2)\n",
      "Requirement already satisfied: numexpr in /Users/patsnap/anaconda2/lib/python3.7/site-packages (from pyLDAvis->pycaret) (2.7.0)\n",
      "Requirement already satisfied: funcy in /Users/patsnap/anaconda2/lib/python3.7/site-packages (from pyLDAvis->pycaret) (1.14)\n",
      "Requirement already satisfied: pytest in /Users/patsnap/anaconda2/lib/python3.7/site-packages (from pyLDAvis->pycaret) (5.4.2)\n",
      "Requirement already satisfied: future in /Users/patsnap/anaconda2/lib/python3.7/site-packages (from pyLDAvis->pycaret) (0.18.2)\n",
      "Requirement already satisfied: graphviz in /Users/patsnap/anaconda2/lib/python3.7/site-packages (from catboost==0.20.2->pycaret) (0.8.4)\n",
      "Requirement already satisfied: thinc==7.4.0 in /Users/patsnap/anaconda2/lib/python3.7/site-packages (from spacy->pycaret) (7.4.0)\n",
      "Requirement already satisfied: plac<1.2.0,>=0.9.6 in /Users/patsnap/anaconda2/lib/python3.7/site-packages (from spacy->pycaret) (0.9.6)\n",
      "Requirement already satisfied: murmurhash<1.1.0,>=0.28.0 in /Users/patsnap/anaconda2/lib/python3.7/site-packages (from spacy->pycaret) (1.0.2)\n",
      "Requirement already satisfied: requests<3.0.0,>=2.13.0 in /Users/patsnap/anaconda2/lib/python3.7/site-packages (from spacy->pycaret) (2.22.0)\n",
      "Requirement already satisfied: blis<0.5.0,>=0.4.0 in /Users/patsnap/anaconda2/lib/python3.7/site-packages (from spacy->pycaret) (0.4.1)\n",
      "Requirement already satisfied: wasabi<1.1.0,>=0.4.0 in /Users/patsnap/anaconda2/lib/python3.7/site-packages (from spacy->pycaret) (0.4.0)\n",
      "Requirement already satisfied: catalogue<1.1.0,>=0.0.7 in /Users/patsnap/anaconda2/lib/python3.7/site-packages (from spacy->pycaret) (1.0.0)\n",
      "Requirement already satisfied: preshed<3.1.0,>=3.0.2 in /Users/patsnap/anaconda2/lib/python3.7/site-packages (from spacy->pycaret) (3.0.2)\n",
      "Requirement already satisfied: cymem<2.1.0,>=2.0.2 in /Users/patsnap/anaconda2/lib/python3.7/site-packages (from spacy->pycaret) (2.0.2)\n",
      "Requirement already satisfied: srsly<1.1.0,>=1.0.2 in /Users/patsnap/anaconda2/lib/python3.7/site-packages (from spacy->pycaret) (1.0.2)\n",
      "Requirement already satisfied: tbb in /Users/patsnap/anaconda2/lib/python3.7/site-packages (from umap-learn->pycaret) (2019.0)\n",
      "Requirement already satisfied: pillow in /Users/patsnap/anaconda2/lib/python3.7/site-packages (from wordcloud->pycaret) (6.2.1)\n",
      "Requirement already satisfied: MarkupSafe>=0.23 in /Users/patsnap/anaconda2/lib/python3.7/site-packages (from jinja2>=2.8->pandas-profiling==2.3.0->pycaret) (1.1.1)\n",
      "Requirement already satisfied: pyasn1>=0.1.3 in /Users/patsnap/anaconda2/lib/python3.7/site-packages (from rsa<=3.5.0,>=3.1.2->awscli->pycaret) (0.4.7)\n",
      "Requirement already satisfied: urllib3<1.26,>=1.20; python_version != \"3.4\" in /Users/patsnap/anaconda2/lib/python3.7/site-packages (from botocore==1.15.16->awscli->pycaret) (1.24.2)\n",
      "Requirement already satisfied: jmespath<1.0.0,>=0.7.1 in /Users/patsnap/anaconda2/lib/python3.7/site-packages (from botocore==1.15.16->awscli->pycaret) (0.9.5)\n",
      "Requirement already satisfied: boto3 in /Users/patsnap/anaconda2/lib/python3.7/site-packages (from smart-open>=1.7.0->gensim->pycaret) (1.12.31)\n",
      "Requirement already satisfied: google-cloud-storage in /Users/patsnap/anaconda2/lib/python3.7/site-packages (from smart-open>=1.7.0->gensim->pycaret) (1.26.0)\n",
      "Requirement already satisfied: wcwidth in /Users/patsnap/anaconda2/lib/python3.7/site-packages (from prompt-toolkit<2.1.0,>=2.0.0->IPython->pycaret) (0.1.7)\n",
      "Requirement already satisfied: ipython-genutils in /Users/patsnap/anaconda2/lib/python3.7/site-packages (from traitlets>=4.2->IPython->pycaret) (0.2.0)\n",
      "Requirement already satisfied: parso>=0.5.0 in /Users/patsnap/anaconda2/lib/python3.7/site-packages (from jedi>=0.10->IPython->pycaret) (0.5.1)\n",
      "Requirement already satisfied: ptyprocess>=0.5 in /Users/patsnap/anaconda2/lib/python3.7/site-packages (from pexpect; sys_platform != \"win32\"->IPython->pycaret) (0.6.0)\n",
      "Requirement already satisfied: llvmlite>=0.30.0dev0 in /Users/patsnap/anaconda2/lib/python3.7/site-packages (from numba>=0.35->pyod->pycaret) (0.30.0)\n",
      "Requirement already satisfied: notebook>=4.4.1 in /Users/patsnap/anaconda2/lib/python3.7/site-packages (from widgetsnbextension~=3.5.0->ipywidgets->pycaret) (6.0.1)\n",
      "Requirement already satisfied: jsonschema!=2.5.0,>=2.4 in /Users/patsnap/anaconda2/lib/python3.7/site-packages (from nbformat>=4.2.0->ipywidgets->pycaret) (2.6.0)\n",
      "Requirement already satisfied: jupyter-core in /Users/patsnap/anaconda2/lib/python3.7/site-packages (from nbformat>=4.2.0->ipywidgets->pycaret) (4.6.1)\n",
      "Requirement already satisfied: tornado>=4.2 in /Users/patsnap/anaconda2/lib/python3.7/site-packages (from ipykernel>=4.5.1->ipywidgets->pycaret) (6.0.3)\n",
      "Requirement already satisfied: jupyter-client in /Users/patsnap/anaconda2/lib/python3.7/site-packages (from ipykernel>=4.5.1->ipywidgets->pycaret) (5.3.4)\n",
      "Requirement already satisfied: attrs>=17.4.0 in /Users/patsnap/anaconda2/lib/python3.7/site-packages (from pytest->pyLDAvis->pycaret) (19.3.0)\n",
      "Requirement already satisfied: py>=1.5.0 in /Users/patsnap/anaconda2/lib/python3.7/site-packages (from pytest->pyLDAvis->pycaret) (1.8.0)\n",
      "Requirement already satisfied: more-itertools>=4.0.0 in /Users/patsnap/anaconda2/lib/python3.7/site-packages (from pytest->pyLDAvis->pycaret) (7.2.0)\n",
      "Requirement already satisfied: importlib-metadata>=0.12; python_version < \"3.8\" in /Users/patsnap/.local/lib/python3.7/site-packages (from pytest->pyLDAvis->pycaret) (1.6.0)\n",
      "Requirement already satisfied: pluggy<1.0,>=0.12 in /Users/patsnap/anaconda2/lib/python3.7/site-packages (from pytest->pyLDAvis->pycaret) (0.13.0)\n",
      "Requirement already satisfied: packaging in /Users/patsnap/anaconda2/lib/python3.7/site-packages (from pytest->pyLDAvis->pycaret) (19.2)\n",
      "Requirement already satisfied: idna<2.9,>=2.5 in /Users/patsnap/anaconda2/lib/python3.7/site-packages (from requests<3.0.0,>=2.13.0->spacy->pycaret) (2.8)\n",
      "Requirement already satisfied: certifi>=2017.4.17 in /Users/patsnap/anaconda2/lib/python3.7/site-packages (from requests<3.0.0,>=2.13.0->spacy->pycaret) (2019.9.11)\n",
      "Requirement already satisfied: chardet<3.1.0,>=3.0.2 in /Users/patsnap/anaconda2/lib/python3.7/site-packages (from requests<3.0.0,>=2.13.0->spacy->pycaret) (3.0.4)\n",
      "Requirement already satisfied: google-cloud-core<2.0dev,>=1.2.0 in /Users/patsnap/anaconda2/lib/python3.7/site-packages (from google-cloud-storage->smart-open>=1.7.0->gensim->pycaret) (1.3.0)\n",
      "Requirement already satisfied: google-auth<2.0dev,>=1.11.0 in /Users/patsnap/anaconda2/lib/python3.7/site-packages (from google-cloud-storage->smart-open>=1.7.0->gensim->pycaret) (1.12.0)\n",
      "Requirement already satisfied: google-resumable-media<0.6dev,>=0.5.0 in /Users/patsnap/anaconda2/lib/python3.7/site-packages (from google-cloud-storage->smart-open>=1.7.0->gensim->pycaret) (0.5.0)\n",
      "Requirement already satisfied: prometheus-client in /Users/patsnap/anaconda2/lib/python3.7/site-packages (from notebook>=4.4.1->widgetsnbextension~=3.5.0->ipywidgets->pycaret) (0.7.1)\n",
      "Requirement already satisfied: nbconvert in /Users/patsnap/anaconda2/lib/python3.7/site-packages (from notebook>=4.4.1->widgetsnbextension~=3.5.0->ipywidgets->pycaret) (5.6.1)\n"
     ]
    },
    {
     "name": "stdout",
     "output_type": "stream",
     "text": [
      "Requirement already satisfied: terminado>=0.8.1 in /Users/patsnap/anaconda2/lib/python3.7/site-packages (from notebook>=4.4.1->widgetsnbextension~=3.5.0->ipywidgets->pycaret) (0.8.2)\n",
      "Requirement already satisfied: Send2Trash in /Users/patsnap/anaconda2/lib/python3.7/site-packages (from notebook>=4.4.1->widgetsnbextension~=3.5.0->ipywidgets->pycaret) (1.5.0)\n",
      "Requirement already satisfied: pyzmq>=17 in /Users/patsnap/anaconda2/lib/python3.7/site-packages (from notebook>=4.4.1->widgetsnbextension~=3.5.0->ipywidgets->pycaret) (18.1.0)\n",
      "Requirement already satisfied: zipp>=0.5 in /Users/patsnap/.local/lib/python3.7/site-packages (from importlib-metadata>=0.12; python_version < \"3.8\"->pytest->pyLDAvis->pycaret) (3.1.0)\n",
      "Requirement already satisfied: google-api-core<2.0.0dev,>=1.16.0 in /Users/patsnap/anaconda2/lib/python3.7/site-packages (from google-cloud-core<2.0dev,>=1.2.0->google-cloud-storage->smart-open>=1.7.0->gensim->pycaret) (1.16.0)\n",
      "Requirement already satisfied: pyasn1-modules>=0.2.1 in /Users/patsnap/anaconda2/lib/python3.7/site-packages (from google-auth<2.0dev,>=1.11.0->google-cloud-storage->smart-open>=1.7.0->gensim->pycaret) (0.2.6)\n",
      "Requirement already satisfied: cachetools<5.0,>=2.0.0 in /Users/patsnap/anaconda2/lib/python3.7/site-packages (from google-auth<2.0dev,>=1.11.0->google-cloud-storage->smart-open>=1.7.0->gensim->pycaret) (3.1.1)\n",
      "Requirement already satisfied: mistune<2,>=0.8.1 in /Users/patsnap/anaconda2/lib/python3.7/site-packages (from nbconvert->notebook>=4.4.1->widgetsnbextension~=3.5.0->ipywidgets->pycaret) (0.8.4)\n",
      "Requirement already satisfied: pandocfilters>=1.4.1 in /Users/patsnap/anaconda2/lib/python3.7/site-packages (from nbconvert->notebook>=4.4.1->widgetsnbextension~=3.5.0->ipywidgets->pycaret) (1.4.2)\n",
      "Requirement already satisfied: entrypoints>=0.2.2 in /Users/patsnap/anaconda2/lib/python3.7/site-packages (from nbconvert->notebook>=4.4.1->widgetsnbextension~=3.5.0->ipywidgets->pycaret) (0.3)\n",
      "Requirement already satisfied: testpath in /Users/patsnap/anaconda2/lib/python3.7/site-packages (from nbconvert->notebook>=4.4.1->widgetsnbextension~=3.5.0->ipywidgets->pycaret) (0.4.2)\n",
      "Requirement already satisfied: defusedxml in /Users/patsnap/anaconda2/lib/python3.7/site-packages (from nbconvert->notebook>=4.4.1->widgetsnbextension~=3.5.0->ipywidgets->pycaret) (0.6.0)\n",
      "Requirement already satisfied: bleach in /Users/patsnap/anaconda2/lib/python3.7/site-packages (from nbconvert->notebook>=4.4.1->widgetsnbextension~=3.5.0->ipywidgets->pycaret) (3.1.0)\n",
      "Requirement already satisfied: googleapis-common-protos<2.0dev,>=1.6.0 in /Users/patsnap/anaconda2/lib/python3.7/site-packages (from google-api-core<2.0.0dev,>=1.16.0->google-cloud-core<2.0dev,>=1.2.0->google-cloud-storage->smart-open>=1.7.0->gensim->pycaret) (1.51.0)\n",
      "Requirement already satisfied: protobuf>=3.4.0 in /Users/patsnap/.local/lib/python3.7/site-packages (from google-api-core<2.0.0dev,>=1.16.0->google-cloud-core<2.0dev,>=1.2.0->google-cloud-storage->smart-open>=1.7.0->gensim->pycaret) (3.11.3)\n",
      "Requirement already satisfied: webencodings in /Users/patsnap/anaconda2/lib/python3.7/site-packages (from bleach->nbconvert->notebook>=4.4.1->widgetsnbextension~=3.5.0->ipywidgets->pycaret) (0.5.1)\n",
      "\u001b[33mWARNING: You are using pip version 20.1; however, version 20.1.1 is available.\n",
      "You should consider upgrading via the '/Users/patsnap/anaconda2/bin/python -m pip install --upgrade pip' command.\u001b[0m\n"
     ]
    }
   ],
   "source": [
    "!pip install pycaret"
   ]
  },
  {
   "cell_type": "code",
   "execution_count": 2,
   "metadata": {},
   "outputs": [
    {
     "data": {
      "text/html": [
       "<div>\n",
       "<style scoped>\n",
       "    .dataframe tbody tr th:only-of-type {\n",
       "        vertical-align: middle;\n",
       "    }\n",
       "\n",
       "    .dataframe tbody tr th {\n",
       "        vertical-align: top;\n",
       "    }\n",
       "\n",
       "    .dataframe thead th {\n",
       "        text-align: right;\n",
       "    }\n",
       "</style>\n",
       "<table border=\"1\" class=\"dataframe\">\n",
       "  <thead>\n",
       "    <tr style=\"text-align: right;\">\n",
       "      <th></th>\n",
       "      <th>country</th>\n",
       "      <th>en</th>\n",
       "      <th>gender</th>\n",
       "      <th>loan_amount</th>\n",
       "      <th>nonpayment</th>\n",
       "      <th>sector</th>\n",
       "      <th>status</th>\n",
       "    </tr>\n",
       "  </thead>\n",
       "  <tbody>\n",
       "    <tr>\n",
       "      <th>0</th>\n",
       "      <td>Dominican Republic</td>\n",
       "      <td>\"Banco Esperanza\" is a group of 10 women looki...</td>\n",
       "      <td>F</td>\n",
       "      <td>1225</td>\n",
       "      <td>partner</td>\n",
       "      <td>Retail</td>\n",
       "      <td>0</td>\n",
       "    </tr>\n",
       "    <tr>\n",
       "      <th>1</th>\n",
       "      <td>Dominican Republic</td>\n",
       "      <td>\"Caminemos Hacia Adelante\" or \"Walking Forward...</td>\n",
       "      <td>F</td>\n",
       "      <td>1975</td>\n",
       "      <td>lender</td>\n",
       "      <td>Clothing</td>\n",
       "      <td>0</td>\n",
       "    </tr>\n",
       "    <tr>\n",
       "      <th>2</th>\n",
       "      <td>Dominican Republic</td>\n",
       "      <td>\"Creciendo Por La Union\" is a group of 10 peop...</td>\n",
       "      <td>F</td>\n",
       "      <td>2175</td>\n",
       "      <td>partner</td>\n",
       "      <td>Clothing</td>\n",
       "      <td>0</td>\n",
       "    </tr>\n",
       "    <tr>\n",
       "      <th>3</th>\n",
       "      <td>Dominican Republic</td>\n",
       "      <td>\"Cristo Vive\" (\"Christ lives\" is a group of 10...</td>\n",
       "      <td>F</td>\n",
       "      <td>1425</td>\n",
       "      <td>partner</td>\n",
       "      <td>Clothing</td>\n",
       "      <td>0</td>\n",
       "    </tr>\n",
       "    <tr>\n",
       "      <th>4</th>\n",
       "      <td>Dominican Republic</td>\n",
       "      <td>\"Cristo Vive\" is a large group of 35 people, 2...</td>\n",
       "      <td>F</td>\n",
       "      <td>4025</td>\n",
       "      <td>partner</td>\n",
       "      <td>Food</td>\n",
       "      <td>0</td>\n",
       "    </tr>\n",
       "  </tbody>\n",
       "</table>\n",
       "</div>"
      ],
      "text/plain": [
       "              country                                                 en  \\\n",
       "0  Dominican Republic  \"Banco Esperanza\" is a group of 10 women looki...   \n",
       "1  Dominican Republic  \"Caminemos Hacia Adelante\" or \"Walking Forward...   \n",
       "2  Dominican Republic  \"Creciendo Por La Union\" is a group of 10 peop...   \n",
       "3  Dominican Republic  \"Cristo Vive\" (\"Christ lives\" is a group of 10...   \n",
       "4  Dominican Republic  \"Cristo Vive\" is a large group of 35 people, 2...   \n",
       "\n",
       "  gender  loan_amount nonpayment    sector  status  \n",
       "0      F         1225    partner    Retail       0  \n",
       "1      F         1975     lender  Clothing       0  \n",
       "2      F         2175    partner  Clothing       0  \n",
       "3      F         1425    partner  Clothing       0  \n",
       "4      F         4025    partner      Food       0  "
      ]
     },
     "metadata": {},
     "output_type": "display_data"
    }
   ],
   "source": [
    "from pycaret.datasets import get_data\n",
    "data = get_data('kiva')"
   ]
  },
  {
   "cell_type": "code",
   "execution_count": 3,
   "metadata": {},
   "outputs": [
    {
     "data": {
      "text/plain": [
       "(1000, 7)"
      ]
     },
     "execution_count": 3,
     "metadata": {},
     "output_type": "execute_result"
    }
   ],
   "source": [
    "# sampling the data to select only 1000 documents\n",
    "data = data.sample(1000, random_state=786).reset_index(drop=True)\n",
    "data.shape"
   ]
  },
  {
   "cell_type": "code",
   "execution_count": 4,
   "metadata": {},
   "outputs": [],
   "source": [
    "from pycaret.nlp import *"
   ]
  },
  {
   "cell_type": "code",
   "execution_count": 5,
   "metadata": {},
   "outputs": [
    {
     "data": {
      "text/html": [
       "<style  type=\"text/css\" >\n",
       "</style><table id=\"T_8e3d85c2_9db2_11ea_b6d8_f40f241df08e\" ><thead>    <tr>        <th class=\"col_heading level0 col0\" >Description</th>        <th class=\"col_heading level0 col1\" >Value</th>    </tr></thead><tbody>\n",
       "                <tr>\n",
       "                                <td id=\"T_8e3d85c2_9db2_11ea_b6d8_f40f241df08erow0_col0\" class=\"data row0 col0\" >session_id</td>\n",
       "                        <td id=\"T_8e3d85c2_9db2_11ea_b6d8_f40f241df08erow0_col1\" class=\"data row0 col1\" >123</td>\n",
       "            </tr>\n",
       "            <tr>\n",
       "                                <td id=\"T_8e3d85c2_9db2_11ea_b6d8_f40f241df08erow1_col0\" class=\"data row1 col0\" ># Documents</td>\n",
       "                        <td id=\"T_8e3d85c2_9db2_11ea_b6d8_f40f241df08erow1_col1\" class=\"data row1 col1\" >1000</td>\n",
       "            </tr>\n",
       "            <tr>\n",
       "                                <td id=\"T_8e3d85c2_9db2_11ea_b6d8_f40f241df08erow2_col0\" class=\"data row2 col0\" >Vocab Size</td>\n",
       "                        <td id=\"T_8e3d85c2_9db2_11ea_b6d8_f40f241df08erow2_col1\" class=\"data row2 col1\" >4573</td>\n",
       "            </tr>\n",
       "            <tr>\n",
       "                                <td id=\"T_8e3d85c2_9db2_11ea_b6d8_f40f241df08erow3_col0\" class=\"data row3 col0\" >Custom Stopwords</td>\n",
       "                        <td id=\"T_8e3d85c2_9db2_11ea_b6d8_f40f241df08erow3_col1\" class=\"data row3 col1\" >False</td>\n",
       "            </tr>\n",
       "    </tbody></table>"
      ],
      "text/plain": [
       "<pandas.io.formats.style.Styler at 0x1632f9e10>"
      ]
     },
     "metadata": {},
     "output_type": "display_data"
    }
   ],
   "source": [
    "exp_nlp101 = setup(data = data, target = 'en', session_id = 123)"
   ]
  },
  {
   "cell_type": "code",
   "execution_count": 6,
   "metadata": {},
   "outputs": [
    {
     "data": {
      "text/plain": [
       "list"
      ]
     },
     "execution_count": 6,
     "metadata": {},
     "output_type": "execute_result"
    }
   ],
   "source": [
    "#convert 'en' column of dataset into list format\n",
    "text_list = list(data['en'])\n",
    "type(text_list)"
   ]
  },
  {
   "cell_type": "code",
   "execution_count": 7,
   "metadata": {},
   "outputs": [
    {
     "data": {
      "text/html": [
       "<style  type=\"text/css\" >\n",
       "</style><table id=\"T_9996f584_9db2_11ea_b6d8_f40f241df08e\" ><thead>    <tr>        <th class=\"col_heading level0 col0\" >Description</th>        <th class=\"col_heading level0 col1\" >Value</th>    </tr></thead><tbody>\n",
       "                <tr>\n",
       "                                <td id=\"T_9996f584_9db2_11ea_b6d8_f40f241df08erow0_col0\" class=\"data row0 col0\" >session_id</td>\n",
       "                        <td id=\"T_9996f584_9db2_11ea_b6d8_f40f241df08erow0_col1\" class=\"data row0 col1\" >123</td>\n",
       "            </tr>\n",
       "            <tr>\n",
       "                                <td id=\"T_9996f584_9db2_11ea_b6d8_f40f241df08erow1_col0\" class=\"data row1 col0\" ># Documents</td>\n",
       "                        <td id=\"T_9996f584_9db2_11ea_b6d8_f40f241df08erow1_col1\" class=\"data row1 col1\" >1000</td>\n",
       "            </tr>\n",
       "            <tr>\n",
       "                                <td id=\"T_9996f584_9db2_11ea_b6d8_f40f241df08erow2_col0\" class=\"data row2 col0\" >Vocab Size</td>\n",
       "                        <td id=\"T_9996f584_9db2_11ea_b6d8_f40f241df08erow2_col1\" class=\"data row2 col1\" >4573</td>\n",
       "            </tr>\n",
       "            <tr>\n",
       "                                <td id=\"T_9996f584_9db2_11ea_b6d8_f40f241df08erow3_col0\" class=\"data row3 col0\" >Custom Stopwords</td>\n",
       "                        <td id=\"T_9996f584_9db2_11ea_b6d8_f40f241df08erow3_col1\" class=\"data row3 col1\" >False</td>\n",
       "            </tr>\n",
       "    </tbody></table>"
      ],
      "text/plain": [
       "<pandas.io.formats.style.Styler at 0x1663d7450>"
      ]
     },
     "metadata": {},
     "output_type": "display_data"
    }
   ],
   "source": [
    "exp_nlp101_list = setup(data = text_list, session_id = 123)"
   ]
  },
  {
   "cell_type": "markdown",
   "metadata": {},
   "source": [
    "# Topic Model"
   ]
  },
  {
   "cell_type": "code",
   "execution_count": 8,
   "metadata": {},
   "outputs": [
    {
     "name": "stdout",
     "output_type": "stream",
     "text": [
      "LdaModel(num_terms=4573, num_topics=4, decay=0.5, chunksize=100)\n"
     ]
    }
   ],
   "source": [
    "lda = create_model('lda')\n",
    "print(lda)"
   ]
  },
  {
   "cell_type": "code",
   "execution_count": 9,
   "metadata": {},
   "outputs": [],
   "source": [
    "lda2 = create_model('lda', num_topics = 6, multi_core = True)"
   ]
  },
  {
   "cell_type": "code",
   "execution_count": 10,
   "metadata": {},
   "outputs": [
    {
     "data": {
      "text/html": [
       "<div>\n",
       "<style scoped>\n",
       "    .dataframe tbody tr th:only-of-type {\n",
       "        vertical-align: middle;\n",
       "    }\n",
       "\n",
       "    .dataframe tbody tr th {\n",
       "        vertical-align: top;\n",
       "    }\n",
       "\n",
       "    .dataframe thead th {\n",
       "        text-align: right;\n",
       "    }\n",
       "</style>\n",
       "<table border=\"1\" class=\"dataframe\">\n",
       "  <thead>\n",
       "    <tr style=\"text-align: right;\">\n",
       "      <th></th>\n",
       "      <th>en</th>\n",
       "      <th>Topic_0</th>\n",
       "      <th>Topic_1</th>\n",
       "      <th>Topic_2</th>\n",
       "      <th>Topic_3</th>\n",
       "      <th>Dominant_Topic</th>\n",
       "      <th>Perc_Dominant_Topic</th>\n",
       "    </tr>\n",
       "  </thead>\n",
       "  <tbody>\n",
       "    <tr>\n",
       "      <th>0</th>\n",
       "      <td>praxide marry child primary school train tailo...</td>\n",
       "      <td>0.001872</td>\n",
       "      <td>0.006236</td>\n",
       "      <td>0.990371</td>\n",
       "      <td>0.001521</td>\n",
       "      <td>Topic 2</td>\n",
       "      <td>0.99</td>\n",
       "    </tr>\n",
       "    <tr>\n",
       "      <th>1</th>\n",
       "      <td>practitioner run year old life wife child biol...</td>\n",
       "      <td>0.262534</td>\n",
       "      <td>0.129097</td>\n",
       "      <td>0.606903</td>\n",
       "      <td>0.001466</td>\n",
       "      <td>Topic 2</td>\n",
       "      <td>0.61</td>\n",
       "    </tr>\n",
       "    <tr>\n",
       "      <th>2</th>\n",
       "      <td>live child boy girl range year sell use clothi...</td>\n",
       "      <td>0.002032</td>\n",
       "      <td>0.218908</td>\n",
       "      <td>0.777409</td>\n",
       "      <td>0.001651</td>\n",
       "      <td>Topic 2</td>\n",
       "      <td>0.78</td>\n",
       "    </tr>\n",
       "    <tr>\n",
       "      <th>3</th>\n",
       "      <td>phanice marry child daughter secondary school ...</td>\n",
       "      <td>0.002075</td>\n",
       "      <td>0.070740</td>\n",
       "      <td>0.925499</td>\n",
       "      <td>0.001686</td>\n",
       "      <td>Topic 2</td>\n",
       "      <td>0.93</td>\n",
       "    </tr>\n",
       "    <tr>\n",
       "      <th>4</th>\n",
       "      <td>year old hotel kaptembwa operating hotel last ...</td>\n",
       "      <td>0.001838</td>\n",
       "      <td>0.097336</td>\n",
       "      <td>0.899333</td>\n",
       "      <td>0.001493</td>\n",
       "      <td>Topic 2</td>\n",
       "      <td>0.90</td>\n",
       "    </tr>\n",
       "  </tbody>\n",
       "</table>\n",
       "</div>"
      ],
      "text/plain": [
       "                                                  en   Topic_0   Topic_1  \\\n",
       "0  praxide marry child primary school train tailo...  0.001872  0.006236   \n",
       "1  practitioner run year old life wife child biol...  0.262534  0.129097   \n",
       "2  live child boy girl range year sell use clothi...  0.002032  0.218908   \n",
       "3  phanice marry child daughter secondary school ...  0.002075  0.070740   \n",
       "4  year old hotel kaptembwa operating hotel last ...  0.001838  0.097336   \n",
       "\n",
       "    Topic_2   Topic_3 Dominant_Topic  Perc_Dominant_Topic  \n",
       "0  0.990371  0.001521        Topic 2                 0.99  \n",
       "1  0.606903  0.001466        Topic 2                 0.61  \n",
       "2  0.777409  0.001651        Topic 2                 0.78  \n",
       "3  0.925499  0.001686        Topic 2                 0.93  \n",
       "4  0.899333  0.001493        Topic 2                 0.90  "
      ]
     },
     "execution_count": 10,
     "metadata": {},
     "output_type": "execute_result"
    }
   ],
   "source": [
    "lda_results = assign_model(lda)\n",
    "lda_results.head()"
   ]
  },
  {
   "cell_type": "markdown",
   "metadata": {},
   "source": [
    "# Model plotting"
   ]
  },
  {
   "cell_type": "code",
   "execution_count": 11,
   "metadata": {},
   "outputs": [
    {
     "data": {
      "text/html": [
       "        <script type=\"text/javascript\">\n",
       "        window.PlotlyConfig = {MathJaxConfig: 'local'};\n",
       "        if (window.MathJax) {MathJax.Hub.Config({SVG: {font: \"STIX-Web\"}});}\n",
       "        if (typeof require !== 'undefined') {\n",
       "        require.undef(\"plotly\");\n",
       "        requirejs.config({\n",
       "            paths: {\n",
       "                'plotly': ['https://cdn.plot.ly/plotly-latest.min']\n",
       "            }\n",
       "        });\n",
       "        require(['plotly'], function(Plotly) {\n",
       "            window._Plotly = Plotly;\n",
       "        });\n",
       "        }\n",
       "        </script>\n",
       "        "
      ]
     },
     "metadata": {},
     "output_type": "display_data"
    },
    {
     "data": {
      "application/vnd.plotly.v1+json": {
       "config": {
        "linkText": "Export to plot.ly",
        "plotlyServerURL": "https://plot.ly",
        "showLink": true
       },
       "data": [
        {
         "marker": {
          "color": "rgba(255, 153, 51, 0.6)",
          "line": {
           "color": "rgba(255, 153, 51, 1.0)",
           "width": 1
          }
         },
         "name": "count",
         "orientation": "v",
         "text": "",
         "type": "bar",
         "x": [
          "business",
          "loan",
          "child",
          "year",
          "sell",
          "buy",
          "also",
          "school",
          "work",
          "old",
          "use",
          "family",
          "make",
          "able",
          "start",
          "group",
          "help",
          "small",
          "live",
          "purchase",
          "product",
          "income",
          "husband",
          "increase",
          "home",
          "community",
          "well",
          "customer",
          "woman",
          "good",
          "need",
          "order",
          "hope",
          "request",
          "pay",
          "expand",
          "member",
          "stock",
          "marry",
          "grow",
          "new",
          "want",
          "people",
          "time",
          "store",
          "provide",
          "farmer",
          "get",
          "many",
          "client",
          "clothing",
          "go",
          "area",
          "support",
          "money",
          "entrepreneur",
          "improve",
          "give",
          "market",
          "hard",
          "shop",
          "sale",
          "first",
          "ago",
          "invest",
          "run",
          "food",
          "mother",
          "plan",
          "take",
          "profit",
          "life",
          "high",
          "continue",
          "service",
          "education",
          "capital",
          "farm",
          "local",
          "rice",
          "clothe",
          "young",
          "repay",
          "month",
          "fee",
          "married",
          "item",
          "wife",
          "demand",
          "enable",
          "operate",
          "large",
          "usd",
          "say",
          "receive",
          "meet",
          "offer",
          "day",
          "supply",
          "still"
         ],
         "y": [
          1900,
          1840,
          1193,
          1148,
          1094,
          793,
          647,
          643,
          614,
          594,
          591,
          590,
          526,
          516,
          488,
          477,
          476,
          475,
          451,
          390,
          389,
          359,
          359,
          350,
          330,
          321,
          317,
          315,
          315,
          304,
          295,
          288,
          275,
          273,
          263,
          261,
          251,
          248,
          248,
          247,
          245,
          245,
          242,
          240,
          235,
          233,
          223,
          221,
          217,
          214,
          213,
          212,
          212,
          212,
          209,
          206,
          200,
          200,
          194,
          191,
          187,
          185,
          184,
          184,
          180,
          179,
          174,
          174,
          172,
          172,
          171,
          167,
          165,
          160,
          159,
          158,
          157,
          157,
          156,
          154,
          153,
          146,
          145,
          144,
          142,
          142,
          142,
          141,
          140,
          139,
          137,
          136,
          134,
          132,
          132,
          130,
          127,
          127,
          126,
          126
         ]
        }
       ],
       "layout": {
        "legend": {
         "bgcolor": "#F5F6F9",
         "font": {
          "color": "#4D5663"
         }
        },
        "paper_bgcolor": "#F5F6F9",
        "plot_bgcolor": "#F5F6F9",
        "template": {
         "data": {
          "bar": [
           {
            "error_x": {
             "color": "#2a3f5f"
            },
            "error_y": {
             "color": "#2a3f5f"
            },
            "marker": {
             "line": {
              "color": "#E5ECF6",
              "width": 0.5
             }
            },
            "type": "bar"
           }
          ],
          "barpolar": [
           {
            "marker": {
             "line": {
              "color": "#E5ECF6",
              "width": 0.5
             }
            },
            "type": "barpolar"
           }
          ],
          "carpet": [
           {
            "aaxis": {
             "endlinecolor": "#2a3f5f",
             "gridcolor": "white",
             "linecolor": "white",
             "minorgridcolor": "white",
             "startlinecolor": "#2a3f5f"
            },
            "baxis": {
             "endlinecolor": "#2a3f5f",
             "gridcolor": "white",
             "linecolor": "white",
             "minorgridcolor": "white",
             "startlinecolor": "#2a3f5f"
            },
            "type": "carpet"
           }
          ],
          "choropleth": [
           {
            "colorbar": {
             "outlinewidth": 0,
             "ticks": ""
            },
            "type": "choropleth"
           }
          ],
          "contour": [
           {
            "colorbar": {
             "outlinewidth": 0,
             "ticks": ""
            },
            "colorscale": [
             [
              0,
              "#0d0887"
             ],
             [
              0.1111111111111111,
              "#46039f"
             ],
             [
              0.2222222222222222,
              "#7201a8"
             ],
             [
              0.3333333333333333,
              "#9c179e"
             ],
             [
              0.4444444444444444,
              "#bd3786"
             ],
             [
              0.5555555555555556,
              "#d8576b"
             ],
             [
              0.6666666666666666,
              "#ed7953"
             ],
             [
              0.7777777777777778,
              "#fb9f3a"
             ],
             [
              0.8888888888888888,
              "#fdca26"
             ],
             [
              1,
              "#f0f921"
             ]
            ],
            "type": "contour"
           }
          ],
          "contourcarpet": [
           {
            "colorbar": {
             "outlinewidth": 0,
             "ticks": ""
            },
            "type": "contourcarpet"
           }
          ],
          "heatmap": [
           {
            "colorbar": {
             "outlinewidth": 0,
             "ticks": ""
            },
            "colorscale": [
             [
              0,
              "#0d0887"
             ],
             [
              0.1111111111111111,
              "#46039f"
             ],
             [
              0.2222222222222222,
              "#7201a8"
             ],
             [
              0.3333333333333333,
              "#9c179e"
             ],
             [
              0.4444444444444444,
              "#bd3786"
             ],
             [
              0.5555555555555556,
              "#d8576b"
             ],
             [
              0.6666666666666666,
              "#ed7953"
             ],
             [
              0.7777777777777778,
              "#fb9f3a"
             ],
             [
              0.8888888888888888,
              "#fdca26"
             ],
             [
              1,
              "#f0f921"
             ]
            ],
            "type": "heatmap"
           }
          ],
          "heatmapgl": [
           {
            "colorbar": {
             "outlinewidth": 0,
             "ticks": ""
            },
            "colorscale": [
             [
              0,
              "#0d0887"
             ],
             [
              0.1111111111111111,
              "#46039f"
             ],
             [
              0.2222222222222222,
              "#7201a8"
             ],
             [
              0.3333333333333333,
              "#9c179e"
             ],
             [
              0.4444444444444444,
              "#bd3786"
             ],
             [
              0.5555555555555556,
              "#d8576b"
             ],
             [
              0.6666666666666666,
              "#ed7953"
             ],
             [
              0.7777777777777778,
              "#fb9f3a"
             ],
             [
              0.8888888888888888,
              "#fdca26"
             ],
             [
              1,
              "#f0f921"
             ]
            ],
            "type": "heatmapgl"
           }
          ],
          "histogram": [
           {
            "marker": {
             "colorbar": {
              "outlinewidth": 0,
              "ticks": ""
             }
            },
            "type": "histogram"
           }
          ],
          "histogram2d": [
           {
            "colorbar": {
             "outlinewidth": 0,
             "ticks": ""
            },
            "colorscale": [
             [
              0,
              "#0d0887"
             ],
             [
              0.1111111111111111,
              "#46039f"
             ],
             [
              0.2222222222222222,
              "#7201a8"
             ],
             [
              0.3333333333333333,
              "#9c179e"
             ],
             [
              0.4444444444444444,
              "#bd3786"
             ],
             [
              0.5555555555555556,
              "#d8576b"
             ],
             [
              0.6666666666666666,
              "#ed7953"
             ],
             [
              0.7777777777777778,
              "#fb9f3a"
             ],
             [
              0.8888888888888888,
              "#fdca26"
             ],
             [
              1,
              "#f0f921"
             ]
            ],
            "type": "histogram2d"
           }
          ],
          "histogram2dcontour": [
           {
            "colorbar": {
             "outlinewidth": 0,
             "ticks": ""
            },
            "colorscale": [
             [
              0,
              "#0d0887"
             ],
             [
              0.1111111111111111,
              "#46039f"
             ],
             [
              0.2222222222222222,
              "#7201a8"
             ],
             [
              0.3333333333333333,
              "#9c179e"
             ],
             [
              0.4444444444444444,
              "#bd3786"
             ],
             [
              0.5555555555555556,
              "#d8576b"
             ],
             [
              0.6666666666666666,
              "#ed7953"
             ],
             [
              0.7777777777777778,
              "#fb9f3a"
             ],
             [
              0.8888888888888888,
              "#fdca26"
             ],
             [
              1,
              "#f0f921"
             ]
            ],
            "type": "histogram2dcontour"
           }
          ],
          "mesh3d": [
           {
            "colorbar": {
             "outlinewidth": 0,
             "ticks": ""
            },
            "type": "mesh3d"
           }
          ],
          "parcoords": [
           {
            "line": {
             "colorbar": {
              "outlinewidth": 0,
              "ticks": ""
             }
            },
            "type": "parcoords"
           }
          ],
          "pie": [
           {
            "automargin": true,
            "type": "pie"
           }
          ],
          "scatter": [
           {
            "marker": {
             "colorbar": {
              "outlinewidth": 0,
              "ticks": ""
             }
            },
            "type": "scatter"
           }
          ],
          "scatter3d": [
           {
            "line": {
             "colorbar": {
              "outlinewidth": 0,
              "ticks": ""
             }
            },
            "marker": {
             "colorbar": {
              "outlinewidth": 0,
              "ticks": ""
             }
            },
            "type": "scatter3d"
           }
          ],
          "scattercarpet": [
           {
            "marker": {
             "colorbar": {
              "outlinewidth": 0,
              "ticks": ""
             }
            },
            "type": "scattercarpet"
           }
          ],
          "scattergeo": [
           {
            "marker": {
             "colorbar": {
              "outlinewidth": 0,
              "ticks": ""
             }
            },
            "type": "scattergeo"
           }
          ],
          "scattergl": [
           {
            "marker": {
             "colorbar": {
              "outlinewidth": 0,
              "ticks": ""
             }
            },
            "type": "scattergl"
           }
          ],
          "scattermapbox": [
           {
            "marker": {
             "colorbar": {
              "outlinewidth": 0,
              "ticks": ""
             }
            },
            "type": "scattermapbox"
           }
          ],
          "scatterpolar": [
           {
            "marker": {
             "colorbar": {
              "outlinewidth": 0,
              "ticks": ""
             }
            },
            "type": "scatterpolar"
           }
          ],
          "scatterpolargl": [
           {
            "marker": {
             "colorbar": {
              "outlinewidth": 0,
              "ticks": ""
             }
            },
            "type": "scatterpolargl"
           }
          ],
          "scatterternary": [
           {
            "marker": {
             "colorbar": {
              "outlinewidth": 0,
              "ticks": ""
             }
            },
            "type": "scatterternary"
           }
          ],
          "surface": [
           {
            "colorbar": {
             "outlinewidth": 0,
             "ticks": ""
            },
            "colorscale": [
             [
              0,
              "#0d0887"
             ],
             [
              0.1111111111111111,
              "#46039f"
             ],
             [
              0.2222222222222222,
              "#7201a8"
             ],
             [
              0.3333333333333333,
              "#9c179e"
             ],
             [
              0.4444444444444444,
              "#bd3786"
             ],
             [
              0.5555555555555556,
              "#d8576b"
             ],
             [
              0.6666666666666666,
              "#ed7953"
             ],
             [
              0.7777777777777778,
              "#fb9f3a"
             ],
             [
              0.8888888888888888,
              "#fdca26"
             ],
             [
              1,
              "#f0f921"
             ]
            ],
            "type": "surface"
           }
          ],
          "table": [
           {
            "cells": {
             "fill": {
              "color": "#EBF0F8"
             },
             "line": {
              "color": "white"
             }
            },
            "header": {
             "fill": {
              "color": "#C8D4E3"
             },
             "line": {
              "color": "white"
             }
            },
            "type": "table"
           }
          ]
         },
         "layout": {
          "annotationdefaults": {
           "arrowcolor": "#2a3f5f",
           "arrowhead": 0,
           "arrowwidth": 1
          },
          "coloraxis": {
           "colorbar": {
            "outlinewidth": 0,
            "ticks": ""
           }
          },
          "colorscale": {
           "diverging": [
            [
             0,
             "#8e0152"
            ],
            [
             0.1,
             "#c51b7d"
            ],
            [
             0.2,
             "#de77ae"
            ],
            [
             0.3,
             "#f1b6da"
            ],
            [
             0.4,
             "#fde0ef"
            ],
            [
             0.5,
             "#f7f7f7"
            ],
            [
             0.6,
             "#e6f5d0"
            ],
            [
             0.7,
             "#b8e186"
            ],
            [
             0.8,
             "#7fbc41"
            ],
            [
             0.9,
             "#4d9221"
            ],
            [
             1,
             "#276419"
            ]
           ],
           "sequential": [
            [
             0,
             "#0d0887"
            ],
            [
             0.1111111111111111,
             "#46039f"
            ],
            [
             0.2222222222222222,
             "#7201a8"
            ],
            [
             0.3333333333333333,
             "#9c179e"
            ],
            [
             0.4444444444444444,
             "#bd3786"
            ],
            [
             0.5555555555555556,
             "#d8576b"
            ],
            [
             0.6666666666666666,
             "#ed7953"
            ],
            [
             0.7777777777777778,
             "#fb9f3a"
            ],
            [
             0.8888888888888888,
             "#fdca26"
            ],
            [
             1,
             "#f0f921"
            ]
           ],
           "sequentialminus": [
            [
             0,
             "#0d0887"
            ],
            [
             0.1111111111111111,
             "#46039f"
            ],
            [
             0.2222222222222222,
             "#7201a8"
            ],
            [
             0.3333333333333333,
             "#9c179e"
            ],
            [
             0.4444444444444444,
             "#bd3786"
            ],
            [
             0.5555555555555556,
             "#d8576b"
            ],
            [
             0.6666666666666666,
             "#ed7953"
            ],
            [
             0.7777777777777778,
             "#fb9f3a"
            ],
            [
             0.8888888888888888,
             "#fdca26"
            ],
            [
             1,
             "#f0f921"
            ]
           ]
          },
          "colorway": [
           "#636efa",
           "#EF553B",
           "#00cc96",
           "#ab63fa",
           "#FFA15A",
           "#19d3f3",
           "#FF6692",
           "#B6E880",
           "#FF97FF",
           "#FECB52"
          ],
          "font": {
           "color": "#2a3f5f"
          },
          "geo": {
           "bgcolor": "white",
           "lakecolor": "white",
           "landcolor": "#E5ECF6",
           "showlakes": true,
           "showland": true,
           "subunitcolor": "white"
          },
          "hoverlabel": {
           "align": "left"
          },
          "hovermode": "closest",
          "mapbox": {
           "style": "light"
          },
          "paper_bgcolor": "white",
          "plot_bgcolor": "#E5ECF6",
          "polar": {
           "angularaxis": {
            "gridcolor": "white",
            "linecolor": "white",
            "ticks": ""
           },
           "bgcolor": "#E5ECF6",
           "radialaxis": {
            "gridcolor": "white",
            "linecolor": "white",
            "ticks": ""
           }
          },
          "scene": {
           "xaxis": {
            "backgroundcolor": "#E5ECF6",
            "gridcolor": "white",
            "gridwidth": 2,
            "linecolor": "white",
            "showbackground": true,
            "ticks": "",
            "zerolinecolor": "white"
           },
           "yaxis": {
            "backgroundcolor": "#E5ECF6",
            "gridcolor": "white",
            "gridwidth": 2,
            "linecolor": "white",
            "showbackground": true,
            "ticks": "",
            "zerolinecolor": "white"
           },
           "zaxis": {
            "backgroundcolor": "#E5ECF6",
            "gridcolor": "white",
            "gridwidth": 2,
            "linecolor": "white",
            "showbackground": true,
            "ticks": "",
            "zerolinecolor": "white"
           }
          },
          "shapedefaults": {
           "line": {
            "color": "#2a3f5f"
           }
          },
          "ternary": {
           "aaxis": {
            "gridcolor": "white",
            "linecolor": "white",
            "ticks": ""
           },
           "baxis": {
            "gridcolor": "white",
            "linecolor": "white",
            "ticks": ""
           },
           "bgcolor": "#E5ECF6",
           "caxis": {
            "gridcolor": "white",
            "linecolor": "white",
            "ticks": ""
           }
          },
          "title": {
           "x": 0.05
          },
          "xaxis": {
           "automargin": true,
           "gridcolor": "white",
           "linecolor": "white",
           "ticks": "",
           "title": {
            "standoff": 15
           },
           "zerolinecolor": "white",
           "zerolinewidth": 2
          },
          "yaxis": {
           "automargin": true,
           "gridcolor": "white",
           "linecolor": "white",
           "ticks": "",
           "title": {
            "standoff": 15
           },
           "zerolinecolor": "white",
           "zerolinewidth": 2
          }
         }
        },
        "title": {
         "font": {
          "color": "#4D5663"
         },
         "text": "Top 100 words after removing stop words"
        },
        "xaxis": {
         "gridcolor": "#E1E5ED",
         "linecolor": "black",
         "showgrid": true,
         "tickfont": {
          "color": "#4D5663"
         },
         "title": {
          "font": {
           "color": "#4D5663"
          },
          "text": ""
         },
         "zerolinecolor": "#E1E5ED"
        },
        "yaxis": {
         "gridcolor": "#E1E5ED",
         "linecolor": "black",
         "showgrid": true,
         "tickfont": {
          "color": "#4D5663"
         },
         "title": {
          "font": {
           "color": "#4D5663"
          },
          "text": "Count"
         },
         "zerolinecolor": "#E1E5ED"
        }
       }
      },
      "text/html": [
       "<div>\n",
       "        \n",
       "        \n",
       "            <div id=\"0abdf737-3b8b-4fec-a408-cc9a8b34d514\" class=\"plotly-graph-div\" style=\"height:525px; width:100%;\"></div>\n",
       "            <script type=\"text/javascript\">\n",
       "                require([\"plotly\"], function(Plotly) {\n",
       "                    window.PLOTLYENV=window.PLOTLYENV || {};\n",
       "                    window.PLOTLYENV.BASE_URL='https://plot.ly';\n",
       "                    \n",
       "                if (document.getElementById(\"0abdf737-3b8b-4fec-a408-cc9a8b34d514\")) {\n",
       "                    Plotly.newPlot(\n",
       "                        '0abdf737-3b8b-4fec-a408-cc9a8b34d514',\n",
       "                        [{\"marker\": {\"color\": \"rgba(255, 153, 51, 0.6)\", \"line\": {\"color\": \"rgba(255, 153, 51, 1.0)\", \"width\": 1}}, \"name\": \"count\", \"orientation\": \"v\", \"text\": \"\", \"type\": \"bar\", \"x\": [\"business\", \"loan\", \"child\", \"year\", \"sell\", \"buy\", \"also\", \"school\", \"work\", \"old\", \"use\", \"family\", \"make\", \"able\", \"start\", \"group\", \"help\", \"small\", \"live\", \"purchase\", \"product\", \"income\", \"husband\", \"increase\", \"home\", \"community\", \"well\", \"customer\", \"woman\", \"good\", \"need\", \"order\", \"hope\", \"request\", \"pay\", \"expand\", \"member\", \"stock\", \"marry\", \"grow\", \"new\", \"want\", \"people\", \"time\", \"store\", \"provide\", \"farmer\", \"get\", \"many\", \"client\", \"clothing\", \"go\", \"area\", \"support\", \"money\", \"entrepreneur\", \"improve\", \"give\", \"market\", \"hard\", \"shop\", \"sale\", \"first\", \"ago\", \"invest\", \"run\", \"food\", \"mother\", \"plan\", \"take\", \"profit\", \"life\", \"high\", \"continue\", \"service\", \"education\", \"capital\", \"farm\", \"local\", \"rice\", \"clothe\", \"young\", \"repay\", \"month\", \"fee\", \"married\", \"item\", \"wife\", \"demand\", \"enable\", \"operate\", \"large\", \"usd\", \"say\", \"receive\", \"meet\", \"offer\", \"day\", \"supply\", \"still\"], \"y\": [1900, 1840, 1193, 1148, 1094, 793, 647, 643, 614, 594, 591, 590, 526, 516, 488, 477, 476, 475, 451, 390, 389, 359, 359, 350, 330, 321, 317, 315, 315, 304, 295, 288, 275, 273, 263, 261, 251, 248, 248, 247, 245, 245, 242, 240, 235, 233, 223, 221, 217, 214, 213, 212, 212, 212, 209, 206, 200, 200, 194, 191, 187, 185, 184, 184, 180, 179, 174, 174, 172, 172, 171, 167, 165, 160, 159, 158, 157, 157, 156, 154, 153, 146, 145, 144, 142, 142, 142, 141, 140, 139, 137, 136, 134, 132, 132, 130, 127, 127, 126, 126]}],\n",
       "                        {\"legend\": {\"bgcolor\": \"#F5F6F9\", \"font\": {\"color\": \"#4D5663\"}}, \"paper_bgcolor\": \"#F5F6F9\", \"plot_bgcolor\": \"#F5F6F9\", \"template\": {\"data\": {\"bar\": [{\"error_x\": {\"color\": \"#2a3f5f\"}, \"error_y\": {\"color\": \"#2a3f5f\"}, \"marker\": {\"line\": {\"color\": \"#E5ECF6\", \"width\": 0.5}}, \"type\": \"bar\"}], \"barpolar\": [{\"marker\": {\"line\": {\"color\": \"#E5ECF6\", \"width\": 0.5}}, \"type\": \"barpolar\"}], \"carpet\": [{\"aaxis\": {\"endlinecolor\": \"#2a3f5f\", \"gridcolor\": \"white\", \"linecolor\": \"white\", \"minorgridcolor\": \"white\", \"startlinecolor\": \"#2a3f5f\"}, \"baxis\": {\"endlinecolor\": \"#2a3f5f\", \"gridcolor\": \"white\", \"linecolor\": \"white\", \"minorgridcolor\": \"white\", \"startlinecolor\": \"#2a3f5f\"}, \"type\": \"carpet\"}], \"choropleth\": [{\"colorbar\": {\"outlinewidth\": 0, \"ticks\": \"\"}, \"type\": \"choropleth\"}], \"contour\": [{\"colorbar\": {\"outlinewidth\": 0, \"ticks\": \"\"}, \"colorscale\": [[0.0, \"#0d0887\"], [0.1111111111111111, \"#46039f\"], [0.2222222222222222, \"#7201a8\"], [0.3333333333333333, \"#9c179e\"], [0.4444444444444444, \"#bd3786\"], [0.5555555555555556, \"#d8576b\"], [0.6666666666666666, \"#ed7953\"], [0.7777777777777778, \"#fb9f3a\"], [0.8888888888888888, \"#fdca26\"], [1.0, \"#f0f921\"]], \"type\": \"contour\"}], \"contourcarpet\": [{\"colorbar\": {\"outlinewidth\": 0, \"ticks\": \"\"}, \"type\": \"contourcarpet\"}], \"heatmap\": [{\"colorbar\": {\"outlinewidth\": 0, \"ticks\": \"\"}, \"colorscale\": [[0.0, \"#0d0887\"], [0.1111111111111111, \"#46039f\"], [0.2222222222222222, \"#7201a8\"], [0.3333333333333333, \"#9c179e\"], [0.4444444444444444, \"#bd3786\"], [0.5555555555555556, \"#d8576b\"], [0.6666666666666666, \"#ed7953\"], [0.7777777777777778, \"#fb9f3a\"], [0.8888888888888888, \"#fdca26\"], [1.0, \"#f0f921\"]], \"type\": \"heatmap\"}], \"heatmapgl\": [{\"colorbar\": {\"outlinewidth\": 0, \"ticks\": \"\"}, \"colorscale\": [[0.0, \"#0d0887\"], [0.1111111111111111, \"#46039f\"], [0.2222222222222222, \"#7201a8\"], [0.3333333333333333, \"#9c179e\"], [0.4444444444444444, \"#bd3786\"], [0.5555555555555556, \"#d8576b\"], [0.6666666666666666, \"#ed7953\"], [0.7777777777777778, \"#fb9f3a\"], [0.8888888888888888, \"#fdca26\"], [1.0, \"#f0f921\"]], \"type\": \"heatmapgl\"}], \"histogram\": [{\"marker\": {\"colorbar\": {\"outlinewidth\": 0, \"ticks\": \"\"}}, \"type\": \"histogram\"}], \"histogram2d\": [{\"colorbar\": {\"outlinewidth\": 0, \"ticks\": \"\"}, \"colorscale\": [[0.0, \"#0d0887\"], [0.1111111111111111, \"#46039f\"], [0.2222222222222222, \"#7201a8\"], [0.3333333333333333, \"#9c179e\"], [0.4444444444444444, \"#bd3786\"], [0.5555555555555556, \"#d8576b\"], [0.6666666666666666, \"#ed7953\"], [0.7777777777777778, \"#fb9f3a\"], [0.8888888888888888, \"#fdca26\"], [1.0, \"#f0f921\"]], \"type\": \"histogram2d\"}], \"histogram2dcontour\": [{\"colorbar\": {\"outlinewidth\": 0, \"ticks\": \"\"}, \"colorscale\": [[0.0, \"#0d0887\"], [0.1111111111111111, \"#46039f\"], [0.2222222222222222, \"#7201a8\"], [0.3333333333333333, \"#9c179e\"], [0.4444444444444444, \"#bd3786\"], [0.5555555555555556, \"#d8576b\"], [0.6666666666666666, \"#ed7953\"], [0.7777777777777778, \"#fb9f3a\"], [0.8888888888888888, \"#fdca26\"], [1.0, \"#f0f921\"]], \"type\": \"histogram2dcontour\"}], \"mesh3d\": [{\"colorbar\": {\"outlinewidth\": 0, \"ticks\": \"\"}, \"type\": \"mesh3d\"}], \"parcoords\": [{\"line\": {\"colorbar\": {\"outlinewidth\": 0, \"ticks\": \"\"}}, \"type\": \"parcoords\"}], \"pie\": [{\"automargin\": true, \"type\": \"pie\"}], \"scatter\": [{\"marker\": {\"colorbar\": {\"outlinewidth\": 0, \"ticks\": \"\"}}, \"type\": \"scatter\"}], \"scatter3d\": [{\"line\": {\"colorbar\": {\"outlinewidth\": 0, \"ticks\": \"\"}}, \"marker\": {\"colorbar\": {\"outlinewidth\": 0, \"ticks\": \"\"}}, \"type\": \"scatter3d\"}], \"scattercarpet\": [{\"marker\": {\"colorbar\": {\"outlinewidth\": 0, \"ticks\": \"\"}}, \"type\": \"scattercarpet\"}], \"scattergeo\": [{\"marker\": {\"colorbar\": {\"outlinewidth\": 0, \"ticks\": \"\"}}, \"type\": \"scattergeo\"}], \"scattergl\": [{\"marker\": {\"colorbar\": {\"outlinewidth\": 0, \"ticks\": \"\"}}, \"type\": \"scattergl\"}], \"scattermapbox\": [{\"marker\": {\"colorbar\": {\"outlinewidth\": 0, \"ticks\": \"\"}}, \"type\": \"scattermapbox\"}], \"scatterpolar\": [{\"marker\": {\"colorbar\": {\"outlinewidth\": 0, \"ticks\": \"\"}}, \"type\": \"scatterpolar\"}], \"scatterpolargl\": [{\"marker\": {\"colorbar\": {\"outlinewidth\": 0, \"ticks\": \"\"}}, \"type\": \"scatterpolargl\"}], \"scatterternary\": [{\"marker\": {\"colorbar\": {\"outlinewidth\": 0, \"ticks\": \"\"}}, \"type\": \"scatterternary\"}], \"surface\": [{\"colorbar\": {\"outlinewidth\": 0, \"ticks\": \"\"}, \"colorscale\": [[0.0, \"#0d0887\"], [0.1111111111111111, \"#46039f\"], [0.2222222222222222, \"#7201a8\"], [0.3333333333333333, \"#9c179e\"], [0.4444444444444444, \"#bd3786\"], [0.5555555555555556, \"#d8576b\"], [0.6666666666666666, \"#ed7953\"], [0.7777777777777778, \"#fb9f3a\"], [0.8888888888888888, \"#fdca26\"], [1.0, \"#f0f921\"]], \"type\": \"surface\"}], \"table\": [{\"cells\": {\"fill\": {\"color\": \"#EBF0F8\"}, \"line\": {\"color\": \"white\"}}, \"header\": {\"fill\": {\"color\": \"#C8D4E3\"}, \"line\": {\"color\": \"white\"}}, \"type\": \"table\"}]}, \"layout\": {\"annotationdefaults\": {\"arrowcolor\": \"#2a3f5f\", \"arrowhead\": 0, \"arrowwidth\": 1}, \"coloraxis\": {\"colorbar\": {\"outlinewidth\": 0, \"ticks\": \"\"}}, \"colorscale\": {\"diverging\": [[0, \"#8e0152\"], [0.1, \"#c51b7d\"], [0.2, \"#de77ae\"], [0.3, \"#f1b6da\"], [0.4, \"#fde0ef\"], [0.5, \"#f7f7f7\"], [0.6, \"#e6f5d0\"], [0.7, \"#b8e186\"], [0.8, \"#7fbc41\"], [0.9, \"#4d9221\"], [1, \"#276419\"]], \"sequential\": [[0.0, \"#0d0887\"], [0.1111111111111111, \"#46039f\"], [0.2222222222222222, \"#7201a8\"], [0.3333333333333333, \"#9c179e\"], [0.4444444444444444, \"#bd3786\"], [0.5555555555555556, \"#d8576b\"], [0.6666666666666666, \"#ed7953\"], [0.7777777777777778, \"#fb9f3a\"], [0.8888888888888888, \"#fdca26\"], [1.0, \"#f0f921\"]], \"sequentialminus\": [[0.0, \"#0d0887\"], [0.1111111111111111, \"#46039f\"], [0.2222222222222222, \"#7201a8\"], [0.3333333333333333, \"#9c179e\"], [0.4444444444444444, \"#bd3786\"], [0.5555555555555556, \"#d8576b\"], [0.6666666666666666, \"#ed7953\"], [0.7777777777777778, \"#fb9f3a\"], [0.8888888888888888, \"#fdca26\"], [1.0, \"#f0f921\"]]}, \"colorway\": [\"#636efa\", \"#EF553B\", \"#00cc96\", \"#ab63fa\", \"#FFA15A\", \"#19d3f3\", \"#FF6692\", \"#B6E880\", \"#FF97FF\", \"#FECB52\"], \"font\": {\"color\": \"#2a3f5f\"}, \"geo\": {\"bgcolor\": \"white\", \"lakecolor\": \"white\", \"landcolor\": \"#E5ECF6\", \"showlakes\": true, \"showland\": true, \"subunitcolor\": \"white\"}, \"hoverlabel\": {\"align\": \"left\"}, \"hovermode\": \"closest\", \"mapbox\": {\"style\": \"light\"}, \"paper_bgcolor\": \"white\", \"plot_bgcolor\": \"#E5ECF6\", \"polar\": {\"angularaxis\": {\"gridcolor\": \"white\", \"linecolor\": \"white\", \"ticks\": \"\"}, \"bgcolor\": \"#E5ECF6\", \"radialaxis\": {\"gridcolor\": \"white\", \"linecolor\": \"white\", \"ticks\": \"\"}}, \"scene\": {\"xaxis\": {\"backgroundcolor\": \"#E5ECF6\", \"gridcolor\": \"white\", \"gridwidth\": 2, \"linecolor\": \"white\", \"showbackground\": true, \"ticks\": \"\", \"zerolinecolor\": \"white\"}, \"yaxis\": {\"backgroundcolor\": \"#E5ECF6\", \"gridcolor\": \"white\", \"gridwidth\": 2, \"linecolor\": \"white\", \"showbackground\": true, \"ticks\": \"\", \"zerolinecolor\": \"white\"}, \"zaxis\": {\"backgroundcolor\": \"#E5ECF6\", \"gridcolor\": \"white\", \"gridwidth\": 2, \"linecolor\": \"white\", \"showbackground\": true, \"ticks\": \"\", \"zerolinecolor\": \"white\"}}, \"shapedefaults\": {\"line\": {\"color\": \"#2a3f5f\"}}, \"ternary\": {\"aaxis\": {\"gridcolor\": \"white\", \"linecolor\": \"white\", \"ticks\": \"\"}, \"baxis\": {\"gridcolor\": \"white\", \"linecolor\": \"white\", \"ticks\": \"\"}, \"bgcolor\": \"#E5ECF6\", \"caxis\": {\"gridcolor\": \"white\", \"linecolor\": \"white\", \"ticks\": \"\"}}, \"title\": {\"x\": 0.05}, \"xaxis\": {\"automargin\": true, \"gridcolor\": \"white\", \"linecolor\": \"white\", \"ticks\": \"\", \"title\": {\"standoff\": 15}, \"zerolinecolor\": \"white\", \"zerolinewidth\": 2}, \"yaxis\": {\"automargin\": true, \"gridcolor\": \"white\", \"linecolor\": \"white\", \"ticks\": \"\", \"title\": {\"standoff\": 15}, \"zerolinecolor\": \"white\", \"zerolinewidth\": 2}}}, \"title\": {\"font\": {\"color\": \"#4D5663\"}, \"text\": \"Top 100 words after removing stop words\"}, \"xaxis\": {\"gridcolor\": \"#E1E5ED\", \"linecolor\": \"black\", \"showgrid\": true, \"tickfont\": {\"color\": \"#4D5663\"}, \"title\": {\"font\": {\"color\": \"#4D5663\"}, \"text\": \"\"}, \"zerolinecolor\": \"#E1E5ED\"}, \"yaxis\": {\"gridcolor\": \"#E1E5ED\", \"linecolor\": \"black\", \"showgrid\": true, \"tickfont\": {\"color\": \"#4D5663\"}, \"title\": {\"font\": {\"color\": \"#4D5663\"}, \"text\": \"Count\"}, \"zerolinecolor\": \"#E1E5ED\"}},\n",
       "                        {\"showLink\": true, \"linkText\": \"Export to plot.ly\", \"plotlyServerURL\": \"https://plot.ly\", \"responsive\": true}\n",
       "                    ).then(function(){\n",
       "                            \n",
       "var gd = document.getElementById('0abdf737-3b8b-4fec-a408-cc9a8b34d514');\n",
       "var x = new MutationObserver(function (mutations, observer) {{\n",
       "        var display = window.getComputedStyle(gd).display;\n",
       "        if (!display || display === 'none') {{\n",
       "            console.log([gd, 'removed!']);\n",
       "            Plotly.purge(gd);\n",
       "            observer.disconnect();\n",
       "        }}\n",
       "}});\n",
       "\n",
       "// Listen for the removal of the full notebook cells\n",
       "var notebookContainer = gd.closest('#notebook-container');\n",
       "if (notebookContainer) {{\n",
       "    x.observe(notebookContainer, {childList: true});\n",
       "}}\n",
       "\n",
       "// Listen for the clearing of the current output cell\n",
       "var outputEl = gd.closest('.output');\n",
       "if (outputEl) {{\n",
       "    x.observe(outputEl, {childList: true});\n",
       "}}\n",
       "\n",
       "                        })\n",
       "                };\n",
       "                });\n",
       "            </script>\n",
       "        </div>"
      ]
     },
     "metadata": {},
     "output_type": "display_data"
    }
   ],
   "source": [
    "plot_model()"
   ]
  },
  {
   "cell_type": "code",
   "execution_count": 12,
   "metadata": {},
   "outputs": [
    {
     "data": {
      "text/html": [
       "        <script type=\"text/javascript\">\n",
       "        window.PlotlyConfig = {MathJaxConfig: 'local'};\n",
       "        if (window.MathJax) {MathJax.Hub.Config({SVG: {font: \"STIX-Web\"}});}\n",
       "        if (typeof require !== 'undefined') {\n",
       "        require.undef(\"plotly\");\n",
       "        requirejs.config({\n",
       "            paths: {\n",
       "                'plotly': ['https://cdn.plot.ly/plotly-latest.min']\n",
       "            }\n",
       "        });\n",
       "        require(['plotly'], function(Plotly) {\n",
       "            window._Plotly = Plotly;\n",
       "        });\n",
       "        }\n",
       "        </script>\n",
       "        "
      ]
     },
     "metadata": {},
     "output_type": "display_data"
    },
    {
     "data": {
      "application/vnd.plotly.v1+json": {
       "config": {
        "linkText": "Export to plot.ly",
        "plotlyServerURL": "https://plot.ly",
        "showLink": true
       },
       "data": [
        {
         "marker": {
          "color": "rgba(255, 153, 51, 0.6)",
          "line": {
           "color": "rgba(255, 153, 51, 1.0)",
           "width": 1
          }
         },
         "name": "count",
         "orientation": "v",
         "text": "",
         "type": "bar",
         "x": [
          "year old",
          "request loan",
          "start business",
          "marry child",
          "year ago",
          "loan buy",
          "expand business",
          "use loan",
          "business year",
          "school fee",
          "loan use",
          "old child",
          "first loan",
          "old married",
          "child school",
          "repay loan",
          "loan usd",
          "second loan",
          "business sell",
          "work hard",
          "old marry",
          "small business",
          "mother child",
          "hard work",
          "loan purchase",
          "married child",
          "primary school",
          "business able",
          "pay school",
          "use buy",
          "support family",
          "educate child",
          "secondary school",
          "increase income",
          "woman group",
          "increase stock",
          "loan order",
          "child live",
          "run business",
          "sell clothing",
          "start small",
          "need loan",
          "last year",
          "business training_educational_programs_information",
          "training_educational_programs_information microfinance_ecuador_services_please",
          "loan able",
          "business grow",
          "group member",
          "start sell",
          "help business",
          "microfinance_ecuador_services_please mifex_org_www_mifex",
          "mifex_org_www_mifex org",
          "year experience",
          "husband child",
          "also sell",
          "able buy",
          "sell product",
          "operate business",
          "farmer also",
          "high school",
          "business help",
          "child child",
          "apply loan",
          "give loan",
          "mifex_offers_client business",
          "begin business",
          "child age",
          "go school",
          "receive loan",
          "willing_repay loan",
          "husband work",
          "loan help",
          "business description",
          "provide family",
          "member group",
          "attend school",
          "child primary",
          "old mother",
          "business selling",
          "loan risk_willing_accept_additional",
          "loan invest",
          "risk_willing_accept_additional risk_making",
          "local_businesses_lender loan",
          "many local_businesses_lender",
          "risk_making loan",
          "communities_remains_unsettled_affecting many",
          "disclaimer_due_recent_event kenya_security_situation_many",
          "family need",
          "fee child",
          "loan pemci",
          "rice farmer",
          "pay loan",
          "kenya_security_situation_many communities_remains_unsettled_affecting",
          "child also",
          "able provide",
          "business loan",
          "plan use",
          "grow business",
          "high demand",
          "live child"
         ],
         "y": [
          478,
          188,
          172,
          168,
          162,
          152,
          149,
          141,
          111,
          105,
          97,
          94,
          93,
          89,
          88,
          84,
          76,
          72,
          70,
          70,
          67,
          66,
          65,
          65,
          65,
          61,
          60,
          58,
          58,
          57,
          56,
          56,
          55,
          53,
          53,
          51,
          51,
          50,
          49,
          48,
          47,
          47,
          47,
          46,
          46,
          46,
          46,
          46,
          45,
          44,
          44,
          44,
          43,
          41,
          41,
          41,
          41,
          40,
          40,
          40,
          40,
          39,
          39,
          38,
          38,
          38,
          38,
          37,
          37,
          37,
          37,
          37,
          36,
          36,
          35,
          34,
          33,
          33,
          33,
          32,
          32,
          32,
          32,
          32,
          32,
          31,
          31,
          31,
          31,
          30,
          30,
          30,
          30,
          29,
          29,
          28,
          28,
          28,
          28,
          28
         ]
        }
       ],
       "layout": {
        "legend": {
         "bgcolor": "#F5F6F9",
         "font": {
          "color": "#4D5663"
         }
        },
        "paper_bgcolor": "#F5F6F9",
        "plot_bgcolor": "#F5F6F9",
        "template": {
         "data": {
          "bar": [
           {
            "error_x": {
             "color": "#2a3f5f"
            },
            "error_y": {
             "color": "#2a3f5f"
            },
            "marker": {
             "line": {
              "color": "#E5ECF6",
              "width": 0.5
             }
            },
            "type": "bar"
           }
          ],
          "barpolar": [
           {
            "marker": {
             "line": {
              "color": "#E5ECF6",
              "width": 0.5
             }
            },
            "type": "barpolar"
           }
          ],
          "carpet": [
           {
            "aaxis": {
             "endlinecolor": "#2a3f5f",
             "gridcolor": "white",
             "linecolor": "white",
             "minorgridcolor": "white",
             "startlinecolor": "#2a3f5f"
            },
            "baxis": {
             "endlinecolor": "#2a3f5f",
             "gridcolor": "white",
             "linecolor": "white",
             "minorgridcolor": "white",
             "startlinecolor": "#2a3f5f"
            },
            "type": "carpet"
           }
          ],
          "choropleth": [
           {
            "colorbar": {
             "outlinewidth": 0,
             "ticks": ""
            },
            "type": "choropleth"
           }
          ],
          "contour": [
           {
            "colorbar": {
             "outlinewidth": 0,
             "ticks": ""
            },
            "colorscale": [
             [
              0,
              "#0d0887"
             ],
             [
              0.1111111111111111,
              "#46039f"
             ],
             [
              0.2222222222222222,
              "#7201a8"
             ],
             [
              0.3333333333333333,
              "#9c179e"
             ],
             [
              0.4444444444444444,
              "#bd3786"
             ],
             [
              0.5555555555555556,
              "#d8576b"
             ],
             [
              0.6666666666666666,
              "#ed7953"
             ],
             [
              0.7777777777777778,
              "#fb9f3a"
             ],
             [
              0.8888888888888888,
              "#fdca26"
             ],
             [
              1,
              "#f0f921"
             ]
            ],
            "type": "contour"
           }
          ],
          "contourcarpet": [
           {
            "colorbar": {
             "outlinewidth": 0,
             "ticks": ""
            },
            "type": "contourcarpet"
           }
          ],
          "heatmap": [
           {
            "colorbar": {
             "outlinewidth": 0,
             "ticks": ""
            },
            "colorscale": [
             [
              0,
              "#0d0887"
             ],
             [
              0.1111111111111111,
              "#46039f"
             ],
             [
              0.2222222222222222,
              "#7201a8"
             ],
             [
              0.3333333333333333,
              "#9c179e"
             ],
             [
              0.4444444444444444,
              "#bd3786"
             ],
             [
              0.5555555555555556,
              "#d8576b"
             ],
             [
              0.6666666666666666,
              "#ed7953"
             ],
             [
              0.7777777777777778,
              "#fb9f3a"
             ],
             [
              0.8888888888888888,
              "#fdca26"
             ],
             [
              1,
              "#f0f921"
             ]
            ],
            "type": "heatmap"
           }
          ],
          "heatmapgl": [
           {
            "colorbar": {
             "outlinewidth": 0,
             "ticks": ""
            },
            "colorscale": [
             [
              0,
              "#0d0887"
             ],
             [
              0.1111111111111111,
              "#46039f"
             ],
             [
              0.2222222222222222,
              "#7201a8"
             ],
             [
              0.3333333333333333,
              "#9c179e"
             ],
             [
              0.4444444444444444,
              "#bd3786"
             ],
             [
              0.5555555555555556,
              "#d8576b"
             ],
             [
              0.6666666666666666,
              "#ed7953"
             ],
             [
              0.7777777777777778,
              "#fb9f3a"
             ],
             [
              0.8888888888888888,
              "#fdca26"
             ],
             [
              1,
              "#f0f921"
             ]
            ],
            "type": "heatmapgl"
           }
          ],
          "histogram": [
           {
            "marker": {
             "colorbar": {
              "outlinewidth": 0,
              "ticks": ""
             }
            },
            "type": "histogram"
           }
          ],
          "histogram2d": [
           {
            "colorbar": {
             "outlinewidth": 0,
             "ticks": ""
            },
            "colorscale": [
             [
              0,
              "#0d0887"
             ],
             [
              0.1111111111111111,
              "#46039f"
             ],
             [
              0.2222222222222222,
              "#7201a8"
             ],
             [
              0.3333333333333333,
              "#9c179e"
             ],
             [
              0.4444444444444444,
              "#bd3786"
             ],
             [
              0.5555555555555556,
              "#d8576b"
             ],
             [
              0.6666666666666666,
              "#ed7953"
             ],
             [
              0.7777777777777778,
              "#fb9f3a"
             ],
             [
              0.8888888888888888,
              "#fdca26"
             ],
             [
              1,
              "#f0f921"
             ]
            ],
            "type": "histogram2d"
           }
          ],
          "histogram2dcontour": [
           {
            "colorbar": {
             "outlinewidth": 0,
             "ticks": ""
            },
            "colorscale": [
             [
              0,
              "#0d0887"
             ],
             [
              0.1111111111111111,
              "#46039f"
             ],
             [
              0.2222222222222222,
              "#7201a8"
             ],
             [
              0.3333333333333333,
              "#9c179e"
             ],
             [
              0.4444444444444444,
              "#bd3786"
             ],
             [
              0.5555555555555556,
              "#d8576b"
             ],
             [
              0.6666666666666666,
              "#ed7953"
             ],
             [
              0.7777777777777778,
              "#fb9f3a"
             ],
             [
              0.8888888888888888,
              "#fdca26"
             ],
             [
              1,
              "#f0f921"
             ]
            ],
            "type": "histogram2dcontour"
           }
          ],
          "mesh3d": [
           {
            "colorbar": {
             "outlinewidth": 0,
             "ticks": ""
            },
            "type": "mesh3d"
           }
          ],
          "parcoords": [
           {
            "line": {
             "colorbar": {
              "outlinewidth": 0,
              "ticks": ""
             }
            },
            "type": "parcoords"
           }
          ],
          "pie": [
           {
            "automargin": true,
            "type": "pie"
           }
          ],
          "scatter": [
           {
            "marker": {
             "colorbar": {
              "outlinewidth": 0,
              "ticks": ""
             }
            },
            "type": "scatter"
           }
          ],
          "scatter3d": [
           {
            "line": {
             "colorbar": {
              "outlinewidth": 0,
              "ticks": ""
             }
            },
            "marker": {
             "colorbar": {
              "outlinewidth": 0,
              "ticks": ""
             }
            },
            "type": "scatter3d"
           }
          ],
          "scattercarpet": [
           {
            "marker": {
             "colorbar": {
              "outlinewidth": 0,
              "ticks": ""
             }
            },
            "type": "scattercarpet"
           }
          ],
          "scattergeo": [
           {
            "marker": {
             "colorbar": {
              "outlinewidth": 0,
              "ticks": ""
             }
            },
            "type": "scattergeo"
           }
          ],
          "scattergl": [
           {
            "marker": {
             "colorbar": {
              "outlinewidth": 0,
              "ticks": ""
             }
            },
            "type": "scattergl"
           }
          ],
          "scattermapbox": [
           {
            "marker": {
             "colorbar": {
              "outlinewidth": 0,
              "ticks": ""
             }
            },
            "type": "scattermapbox"
           }
          ],
          "scatterpolar": [
           {
            "marker": {
             "colorbar": {
              "outlinewidth": 0,
              "ticks": ""
             }
            },
            "type": "scatterpolar"
           }
          ],
          "scatterpolargl": [
           {
            "marker": {
             "colorbar": {
              "outlinewidth": 0,
              "ticks": ""
             }
            },
            "type": "scatterpolargl"
           }
          ],
          "scatterternary": [
           {
            "marker": {
             "colorbar": {
              "outlinewidth": 0,
              "ticks": ""
             }
            },
            "type": "scatterternary"
           }
          ],
          "surface": [
           {
            "colorbar": {
             "outlinewidth": 0,
             "ticks": ""
            },
            "colorscale": [
             [
              0,
              "#0d0887"
             ],
             [
              0.1111111111111111,
              "#46039f"
             ],
             [
              0.2222222222222222,
              "#7201a8"
             ],
             [
              0.3333333333333333,
              "#9c179e"
             ],
             [
              0.4444444444444444,
              "#bd3786"
             ],
             [
              0.5555555555555556,
              "#d8576b"
             ],
             [
              0.6666666666666666,
              "#ed7953"
             ],
             [
              0.7777777777777778,
              "#fb9f3a"
             ],
             [
              0.8888888888888888,
              "#fdca26"
             ],
             [
              1,
              "#f0f921"
             ]
            ],
            "type": "surface"
           }
          ],
          "table": [
           {
            "cells": {
             "fill": {
              "color": "#EBF0F8"
             },
             "line": {
              "color": "white"
             }
            },
            "header": {
             "fill": {
              "color": "#C8D4E3"
             },
             "line": {
              "color": "white"
             }
            },
            "type": "table"
           }
          ]
         },
         "layout": {
          "annotationdefaults": {
           "arrowcolor": "#2a3f5f",
           "arrowhead": 0,
           "arrowwidth": 1
          },
          "coloraxis": {
           "colorbar": {
            "outlinewidth": 0,
            "ticks": ""
           }
          },
          "colorscale": {
           "diverging": [
            [
             0,
             "#8e0152"
            ],
            [
             0.1,
             "#c51b7d"
            ],
            [
             0.2,
             "#de77ae"
            ],
            [
             0.3,
             "#f1b6da"
            ],
            [
             0.4,
             "#fde0ef"
            ],
            [
             0.5,
             "#f7f7f7"
            ],
            [
             0.6,
             "#e6f5d0"
            ],
            [
             0.7,
             "#b8e186"
            ],
            [
             0.8,
             "#7fbc41"
            ],
            [
             0.9,
             "#4d9221"
            ],
            [
             1,
             "#276419"
            ]
           ],
           "sequential": [
            [
             0,
             "#0d0887"
            ],
            [
             0.1111111111111111,
             "#46039f"
            ],
            [
             0.2222222222222222,
             "#7201a8"
            ],
            [
             0.3333333333333333,
             "#9c179e"
            ],
            [
             0.4444444444444444,
             "#bd3786"
            ],
            [
             0.5555555555555556,
             "#d8576b"
            ],
            [
             0.6666666666666666,
             "#ed7953"
            ],
            [
             0.7777777777777778,
             "#fb9f3a"
            ],
            [
             0.8888888888888888,
             "#fdca26"
            ],
            [
             1,
             "#f0f921"
            ]
           ],
           "sequentialminus": [
            [
             0,
             "#0d0887"
            ],
            [
             0.1111111111111111,
             "#46039f"
            ],
            [
             0.2222222222222222,
             "#7201a8"
            ],
            [
             0.3333333333333333,
             "#9c179e"
            ],
            [
             0.4444444444444444,
             "#bd3786"
            ],
            [
             0.5555555555555556,
             "#d8576b"
            ],
            [
             0.6666666666666666,
             "#ed7953"
            ],
            [
             0.7777777777777778,
             "#fb9f3a"
            ],
            [
             0.8888888888888888,
             "#fdca26"
            ],
            [
             1,
             "#f0f921"
            ]
           ]
          },
          "colorway": [
           "#636efa",
           "#EF553B",
           "#00cc96",
           "#ab63fa",
           "#FFA15A",
           "#19d3f3",
           "#FF6692",
           "#B6E880",
           "#FF97FF",
           "#FECB52"
          ],
          "font": {
           "color": "#2a3f5f"
          },
          "geo": {
           "bgcolor": "white",
           "lakecolor": "white",
           "landcolor": "#E5ECF6",
           "showlakes": true,
           "showland": true,
           "subunitcolor": "white"
          },
          "hoverlabel": {
           "align": "left"
          },
          "hovermode": "closest",
          "mapbox": {
           "style": "light"
          },
          "paper_bgcolor": "white",
          "plot_bgcolor": "#E5ECF6",
          "polar": {
           "angularaxis": {
            "gridcolor": "white",
            "linecolor": "white",
            "ticks": ""
           },
           "bgcolor": "#E5ECF6",
           "radialaxis": {
            "gridcolor": "white",
            "linecolor": "white",
            "ticks": ""
           }
          },
          "scene": {
           "xaxis": {
            "backgroundcolor": "#E5ECF6",
            "gridcolor": "white",
            "gridwidth": 2,
            "linecolor": "white",
            "showbackground": true,
            "ticks": "",
            "zerolinecolor": "white"
           },
           "yaxis": {
            "backgroundcolor": "#E5ECF6",
            "gridcolor": "white",
            "gridwidth": 2,
            "linecolor": "white",
            "showbackground": true,
            "ticks": "",
            "zerolinecolor": "white"
           },
           "zaxis": {
            "backgroundcolor": "#E5ECF6",
            "gridcolor": "white",
            "gridwidth": 2,
            "linecolor": "white",
            "showbackground": true,
            "ticks": "",
            "zerolinecolor": "white"
           }
          },
          "shapedefaults": {
           "line": {
            "color": "#2a3f5f"
           }
          },
          "ternary": {
           "aaxis": {
            "gridcolor": "white",
            "linecolor": "white",
            "ticks": ""
           },
           "baxis": {
            "gridcolor": "white",
            "linecolor": "white",
            "ticks": ""
           },
           "bgcolor": "#E5ECF6",
           "caxis": {
            "gridcolor": "white",
            "linecolor": "white",
            "ticks": ""
           }
          },
          "title": {
           "x": 0.05
          },
          "xaxis": {
           "automargin": true,
           "gridcolor": "white",
           "linecolor": "white",
           "ticks": "",
           "title": {
            "standoff": 15
           },
           "zerolinecolor": "white",
           "zerolinewidth": 2
          },
          "yaxis": {
           "automargin": true,
           "gridcolor": "white",
           "linecolor": "white",
           "ticks": "",
           "title": {
            "standoff": 15
           },
           "zerolinecolor": "white",
           "zerolinewidth": 2
          }
         }
        },
        "title": {
         "font": {
          "color": "#4D5663"
         },
         "text": "Top 100 bigrams after removing stop words"
        },
        "xaxis": {
         "gridcolor": "#E1E5ED",
         "linecolor": "black",
         "showgrid": true,
         "tickfont": {
          "color": "#4D5663"
         },
         "title": {
          "font": {
           "color": "#4D5663"
          },
          "text": ""
         },
         "zerolinecolor": "#E1E5ED"
        },
        "yaxis": {
         "gridcolor": "#E1E5ED",
         "linecolor": "black",
         "showgrid": true,
         "tickfont": {
          "color": "#4D5663"
         },
         "title": {
          "font": {
           "color": "#4D5663"
          },
          "text": "Count"
         },
         "zerolinecolor": "#E1E5ED"
        }
       }
      },
      "text/html": [
       "<div>\n",
       "        \n",
       "        \n",
       "            <div id=\"4daa7a0c-db9e-449d-97d0-8ebb9e4ca6b0\" class=\"plotly-graph-div\" style=\"height:525px; width:100%;\"></div>\n",
       "            <script type=\"text/javascript\">\n",
       "                require([\"plotly\"], function(Plotly) {\n",
       "                    window.PLOTLYENV=window.PLOTLYENV || {};\n",
       "                    window.PLOTLYENV.BASE_URL='https://plot.ly';\n",
       "                    \n",
       "                if (document.getElementById(\"4daa7a0c-db9e-449d-97d0-8ebb9e4ca6b0\")) {\n",
       "                    Plotly.newPlot(\n",
       "                        '4daa7a0c-db9e-449d-97d0-8ebb9e4ca6b0',\n",
       "                        [{\"marker\": {\"color\": \"rgba(255, 153, 51, 0.6)\", \"line\": {\"color\": \"rgba(255, 153, 51, 1.0)\", \"width\": 1}}, \"name\": \"count\", \"orientation\": \"v\", \"text\": \"\", \"type\": \"bar\", \"x\": [\"year old\", \"request loan\", \"start business\", \"marry child\", \"year ago\", \"loan buy\", \"expand business\", \"use loan\", \"business year\", \"school fee\", \"loan use\", \"old child\", \"first loan\", \"old married\", \"child school\", \"repay loan\", \"loan usd\", \"second loan\", \"business sell\", \"work hard\", \"old marry\", \"small business\", \"mother child\", \"hard work\", \"loan purchase\", \"married child\", \"primary school\", \"business able\", \"pay school\", \"use buy\", \"support family\", \"educate child\", \"secondary school\", \"increase income\", \"woman group\", \"increase stock\", \"loan order\", \"child live\", \"run business\", \"sell clothing\", \"start small\", \"need loan\", \"last year\", \"business training_educational_programs_information\", \"training_educational_programs_information microfinance_ecuador_services_please\", \"loan able\", \"business grow\", \"group member\", \"start sell\", \"help business\", \"microfinance_ecuador_services_please mifex_org_www_mifex\", \"mifex_org_www_mifex org\", \"year experience\", \"husband child\", \"also sell\", \"able buy\", \"sell product\", \"operate business\", \"farmer also\", \"high school\", \"business help\", \"child child\", \"apply loan\", \"give loan\", \"mifex_offers_client business\", \"begin business\", \"child age\", \"go school\", \"receive loan\", \"willing_repay loan\", \"husband work\", \"loan help\", \"business description\", \"provide family\", \"member group\", \"attend school\", \"child primary\", \"old mother\", \"business selling\", \"loan risk_willing_accept_additional\", \"loan invest\", \"risk_willing_accept_additional risk_making\", \"local_businesses_lender loan\", \"many local_businesses_lender\", \"risk_making loan\", \"communities_remains_unsettled_affecting many\", \"disclaimer_due_recent_event kenya_security_situation_many\", \"family need\", \"fee child\", \"loan pemci\", \"rice farmer\", \"pay loan\", \"kenya_security_situation_many communities_remains_unsettled_affecting\", \"child also\", \"able provide\", \"business loan\", \"plan use\", \"grow business\", \"high demand\", \"live child\"], \"y\": [478, 188, 172, 168, 162, 152, 149, 141, 111, 105, 97, 94, 93, 89, 88, 84, 76, 72, 70, 70, 67, 66, 65, 65, 65, 61, 60, 58, 58, 57, 56, 56, 55, 53, 53, 51, 51, 50, 49, 48, 47, 47, 47, 46, 46, 46, 46, 46, 45, 44, 44, 44, 43, 41, 41, 41, 41, 40, 40, 40, 40, 39, 39, 38, 38, 38, 38, 37, 37, 37, 37, 37, 36, 36, 35, 34, 33, 33, 33, 32, 32, 32, 32, 32, 32, 31, 31, 31, 31, 30, 30, 30, 30, 29, 29, 28, 28, 28, 28, 28]}],\n",
       "                        {\"legend\": {\"bgcolor\": \"#F5F6F9\", \"font\": {\"color\": \"#4D5663\"}}, \"paper_bgcolor\": \"#F5F6F9\", \"plot_bgcolor\": \"#F5F6F9\", \"template\": {\"data\": {\"bar\": [{\"error_x\": {\"color\": \"#2a3f5f\"}, \"error_y\": {\"color\": \"#2a3f5f\"}, \"marker\": {\"line\": {\"color\": \"#E5ECF6\", \"width\": 0.5}}, \"type\": \"bar\"}], \"barpolar\": [{\"marker\": {\"line\": {\"color\": \"#E5ECF6\", \"width\": 0.5}}, \"type\": \"barpolar\"}], \"carpet\": [{\"aaxis\": {\"endlinecolor\": \"#2a3f5f\", \"gridcolor\": \"white\", \"linecolor\": \"white\", \"minorgridcolor\": \"white\", \"startlinecolor\": \"#2a3f5f\"}, \"baxis\": {\"endlinecolor\": \"#2a3f5f\", \"gridcolor\": \"white\", \"linecolor\": \"white\", \"minorgridcolor\": \"white\", \"startlinecolor\": \"#2a3f5f\"}, \"type\": \"carpet\"}], \"choropleth\": [{\"colorbar\": {\"outlinewidth\": 0, \"ticks\": \"\"}, \"type\": \"choropleth\"}], \"contour\": [{\"colorbar\": {\"outlinewidth\": 0, \"ticks\": \"\"}, \"colorscale\": [[0.0, \"#0d0887\"], [0.1111111111111111, \"#46039f\"], [0.2222222222222222, \"#7201a8\"], [0.3333333333333333, \"#9c179e\"], [0.4444444444444444, \"#bd3786\"], [0.5555555555555556, \"#d8576b\"], [0.6666666666666666, \"#ed7953\"], [0.7777777777777778, \"#fb9f3a\"], [0.8888888888888888, \"#fdca26\"], [1.0, \"#f0f921\"]], \"type\": \"contour\"}], \"contourcarpet\": [{\"colorbar\": {\"outlinewidth\": 0, \"ticks\": \"\"}, \"type\": \"contourcarpet\"}], \"heatmap\": [{\"colorbar\": {\"outlinewidth\": 0, \"ticks\": \"\"}, \"colorscale\": [[0.0, \"#0d0887\"], [0.1111111111111111, \"#46039f\"], [0.2222222222222222, \"#7201a8\"], [0.3333333333333333, \"#9c179e\"], [0.4444444444444444, \"#bd3786\"], [0.5555555555555556, \"#d8576b\"], [0.6666666666666666, \"#ed7953\"], [0.7777777777777778, \"#fb9f3a\"], [0.8888888888888888, \"#fdca26\"], [1.0, \"#f0f921\"]], \"type\": \"heatmap\"}], \"heatmapgl\": [{\"colorbar\": {\"outlinewidth\": 0, \"ticks\": \"\"}, \"colorscale\": [[0.0, \"#0d0887\"], [0.1111111111111111, \"#46039f\"], [0.2222222222222222, \"#7201a8\"], [0.3333333333333333, \"#9c179e\"], [0.4444444444444444, \"#bd3786\"], [0.5555555555555556, \"#d8576b\"], [0.6666666666666666, \"#ed7953\"], [0.7777777777777778, \"#fb9f3a\"], [0.8888888888888888, \"#fdca26\"], [1.0, \"#f0f921\"]], \"type\": \"heatmapgl\"}], \"histogram\": [{\"marker\": {\"colorbar\": {\"outlinewidth\": 0, \"ticks\": \"\"}}, \"type\": \"histogram\"}], \"histogram2d\": [{\"colorbar\": {\"outlinewidth\": 0, \"ticks\": \"\"}, \"colorscale\": [[0.0, \"#0d0887\"], [0.1111111111111111, \"#46039f\"], [0.2222222222222222, \"#7201a8\"], [0.3333333333333333, \"#9c179e\"], [0.4444444444444444, \"#bd3786\"], [0.5555555555555556, \"#d8576b\"], [0.6666666666666666, \"#ed7953\"], [0.7777777777777778, \"#fb9f3a\"], [0.8888888888888888, \"#fdca26\"], [1.0, \"#f0f921\"]], \"type\": \"histogram2d\"}], \"histogram2dcontour\": [{\"colorbar\": {\"outlinewidth\": 0, \"ticks\": \"\"}, \"colorscale\": [[0.0, \"#0d0887\"], [0.1111111111111111, \"#46039f\"], [0.2222222222222222, \"#7201a8\"], [0.3333333333333333, \"#9c179e\"], [0.4444444444444444, \"#bd3786\"], [0.5555555555555556, \"#d8576b\"], [0.6666666666666666, \"#ed7953\"], [0.7777777777777778, \"#fb9f3a\"], [0.8888888888888888, \"#fdca26\"], [1.0, \"#f0f921\"]], \"type\": \"histogram2dcontour\"}], \"mesh3d\": [{\"colorbar\": {\"outlinewidth\": 0, \"ticks\": \"\"}, \"type\": \"mesh3d\"}], \"parcoords\": [{\"line\": {\"colorbar\": {\"outlinewidth\": 0, \"ticks\": \"\"}}, \"type\": \"parcoords\"}], \"pie\": [{\"automargin\": true, \"type\": \"pie\"}], \"scatter\": [{\"marker\": {\"colorbar\": {\"outlinewidth\": 0, \"ticks\": \"\"}}, \"type\": \"scatter\"}], \"scatter3d\": [{\"line\": {\"colorbar\": {\"outlinewidth\": 0, \"ticks\": \"\"}}, \"marker\": {\"colorbar\": {\"outlinewidth\": 0, \"ticks\": \"\"}}, \"type\": \"scatter3d\"}], \"scattercarpet\": [{\"marker\": {\"colorbar\": {\"outlinewidth\": 0, \"ticks\": \"\"}}, \"type\": \"scattercarpet\"}], \"scattergeo\": [{\"marker\": {\"colorbar\": {\"outlinewidth\": 0, \"ticks\": \"\"}}, \"type\": \"scattergeo\"}], \"scattergl\": [{\"marker\": {\"colorbar\": {\"outlinewidth\": 0, \"ticks\": \"\"}}, \"type\": \"scattergl\"}], \"scattermapbox\": [{\"marker\": {\"colorbar\": {\"outlinewidth\": 0, \"ticks\": \"\"}}, \"type\": \"scattermapbox\"}], \"scatterpolar\": [{\"marker\": {\"colorbar\": {\"outlinewidth\": 0, \"ticks\": \"\"}}, \"type\": \"scatterpolar\"}], \"scatterpolargl\": [{\"marker\": {\"colorbar\": {\"outlinewidth\": 0, \"ticks\": \"\"}}, \"type\": \"scatterpolargl\"}], \"scatterternary\": [{\"marker\": {\"colorbar\": {\"outlinewidth\": 0, \"ticks\": \"\"}}, \"type\": \"scatterternary\"}], \"surface\": [{\"colorbar\": {\"outlinewidth\": 0, \"ticks\": \"\"}, \"colorscale\": [[0.0, \"#0d0887\"], [0.1111111111111111, \"#46039f\"], [0.2222222222222222, \"#7201a8\"], [0.3333333333333333, \"#9c179e\"], [0.4444444444444444, \"#bd3786\"], [0.5555555555555556, \"#d8576b\"], [0.6666666666666666, \"#ed7953\"], [0.7777777777777778, \"#fb9f3a\"], [0.8888888888888888, \"#fdca26\"], [1.0, \"#f0f921\"]], \"type\": \"surface\"}], \"table\": [{\"cells\": {\"fill\": {\"color\": \"#EBF0F8\"}, \"line\": {\"color\": \"white\"}}, \"header\": {\"fill\": {\"color\": \"#C8D4E3\"}, \"line\": {\"color\": \"white\"}}, \"type\": \"table\"}]}, \"layout\": {\"annotationdefaults\": {\"arrowcolor\": \"#2a3f5f\", \"arrowhead\": 0, \"arrowwidth\": 1}, \"coloraxis\": {\"colorbar\": {\"outlinewidth\": 0, \"ticks\": \"\"}}, \"colorscale\": {\"diverging\": [[0, \"#8e0152\"], [0.1, \"#c51b7d\"], [0.2, \"#de77ae\"], [0.3, \"#f1b6da\"], [0.4, \"#fde0ef\"], [0.5, \"#f7f7f7\"], [0.6, \"#e6f5d0\"], [0.7, \"#b8e186\"], [0.8, \"#7fbc41\"], [0.9, \"#4d9221\"], [1, \"#276419\"]], \"sequential\": [[0.0, \"#0d0887\"], [0.1111111111111111, \"#46039f\"], [0.2222222222222222, \"#7201a8\"], [0.3333333333333333, \"#9c179e\"], [0.4444444444444444, \"#bd3786\"], [0.5555555555555556, \"#d8576b\"], [0.6666666666666666, \"#ed7953\"], [0.7777777777777778, \"#fb9f3a\"], [0.8888888888888888, \"#fdca26\"], [1.0, \"#f0f921\"]], \"sequentialminus\": [[0.0, \"#0d0887\"], [0.1111111111111111, \"#46039f\"], [0.2222222222222222, \"#7201a8\"], [0.3333333333333333, \"#9c179e\"], [0.4444444444444444, \"#bd3786\"], [0.5555555555555556, \"#d8576b\"], [0.6666666666666666, \"#ed7953\"], [0.7777777777777778, \"#fb9f3a\"], [0.8888888888888888, \"#fdca26\"], [1.0, \"#f0f921\"]]}, \"colorway\": [\"#636efa\", \"#EF553B\", \"#00cc96\", \"#ab63fa\", \"#FFA15A\", \"#19d3f3\", \"#FF6692\", \"#B6E880\", \"#FF97FF\", \"#FECB52\"], \"font\": {\"color\": \"#2a3f5f\"}, \"geo\": {\"bgcolor\": \"white\", \"lakecolor\": \"white\", \"landcolor\": \"#E5ECF6\", \"showlakes\": true, \"showland\": true, \"subunitcolor\": \"white\"}, \"hoverlabel\": {\"align\": \"left\"}, \"hovermode\": \"closest\", \"mapbox\": {\"style\": \"light\"}, \"paper_bgcolor\": \"white\", \"plot_bgcolor\": \"#E5ECF6\", \"polar\": {\"angularaxis\": {\"gridcolor\": \"white\", \"linecolor\": \"white\", \"ticks\": \"\"}, \"bgcolor\": \"#E5ECF6\", \"radialaxis\": {\"gridcolor\": \"white\", \"linecolor\": \"white\", \"ticks\": \"\"}}, \"scene\": {\"xaxis\": {\"backgroundcolor\": \"#E5ECF6\", \"gridcolor\": \"white\", \"gridwidth\": 2, \"linecolor\": \"white\", \"showbackground\": true, \"ticks\": \"\", \"zerolinecolor\": \"white\"}, \"yaxis\": {\"backgroundcolor\": \"#E5ECF6\", \"gridcolor\": \"white\", \"gridwidth\": 2, \"linecolor\": \"white\", \"showbackground\": true, \"ticks\": \"\", \"zerolinecolor\": \"white\"}, \"zaxis\": {\"backgroundcolor\": \"#E5ECF6\", \"gridcolor\": \"white\", \"gridwidth\": 2, \"linecolor\": \"white\", \"showbackground\": true, \"ticks\": \"\", \"zerolinecolor\": \"white\"}}, \"shapedefaults\": {\"line\": {\"color\": \"#2a3f5f\"}}, \"ternary\": {\"aaxis\": {\"gridcolor\": \"white\", \"linecolor\": \"white\", \"ticks\": \"\"}, \"baxis\": {\"gridcolor\": \"white\", \"linecolor\": \"white\", \"ticks\": \"\"}, \"bgcolor\": \"#E5ECF6\", \"caxis\": {\"gridcolor\": \"white\", \"linecolor\": \"white\", \"ticks\": \"\"}}, \"title\": {\"x\": 0.05}, \"xaxis\": {\"automargin\": true, \"gridcolor\": \"white\", \"linecolor\": \"white\", \"ticks\": \"\", \"title\": {\"standoff\": 15}, \"zerolinecolor\": \"white\", \"zerolinewidth\": 2}, \"yaxis\": {\"automargin\": true, \"gridcolor\": \"white\", \"linecolor\": \"white\", \"ticks\": \"\", \"title\": {\"standoff\": 15}, \"zerolinecolor\": \"white\", \"zerolinewidth\": 2}}}, \"title\": {\"font\": {\"color\": \"#4D5663\"}, \"text\": \"Top 100 bigrams after removing stop words\"}, \"xaxis\": {\"gridcolor\": \"#E1E5ED\", \"linecolor\": \"black\", \"showgrid\": true, \"tickfont\": {\"color\": \"#4D5663\"}, \"title\": {\"font\": {\"color\": \"#4D5663\"}, \"text\": \"\"}, \"zerolinecolor\": \"#E1E5ED\"}, \"yaxis\": {\"gridcolor\": \"#E1E5ED\", \"linecolor\": \"black\", \"showgrid\": true, \"tickfont\": {\"color\": \"#4D5663\"}, \"title\": {\"font\": {\"color\": \"#4D5663\"}, \"text\": \"Count\"}, \"zerolinecolor\": \"#E1E5ED\"}},\n",
       "                        {\"showLink\": true, \"linkText\": \"Export to plot.ly\", \"plotlyServerURL\": \"https://plot.ly\", \"responsive\": true}\n",
       "                    ).then(function(){\n",
       "                            \n",
       "var gd = document.getElementById('4daa7a0c-db9e-449d-97d0-8ebb9e4ca6b0');\n",
       "var x = new MutationObserver(function (mutations, observer) {{\n",
       "        var display = window.getComputedStyle(gd).display;\n",
       "        if (!display || display === 'none') {{\n",
       "            console.log([gd, 'removed!']);\n",
       "            Plotly.purge(gd);\n",
       "            observer.disconnect();\n",
       "        }}\n",
       "}});\n",
       "\n",
       "// Listen for the removal of the full notebook cells\n",
       "var notebookContainer = gd.closest('#notebook-container');\n",
       "if (notebookContainer) {{\n",
       "    x.observe(notebookContainer, {childList: true});\n",
       "}}\n",
       "\n",
       "// Listen for the clearing of the current output cell\n",
       "var outputEl = gd.closest('.output');\n",
       "if (outputEl) {{\n",
       "    x.observe(outputEl, {childList: true});\n",
       "}}\n",
       "\n",
       "                        })\n",
       "                };\n",
       "                });\n",
       "            </script>\n",
       "        </div>"
      ]
     },
     "metadata": {},
     "output_type": "display_data"
    }
   ],
   "source": [
    "plot_model(plot = 'bigram')"
   ]
  },
  {
   "cell_type": "code",
   "execution_count": 13,
   "metadata": {},
   "outputs": [
    {
     "data": {
      "text/html": [
       "        <script type=\"text/javascript\">\n",
       "        window.PlotlyConfig = {MathJaxConfig: 'local'};\n",
       "        if (window.MathJax) {MathJax.Hub.Config({SVG: {font: \"STIX-Web\"}});}\n",
       "        if (typeof require !== 'undefined') {\n",
       "        require.undef(\"plotly\");\n",
       "        requirejs.config({\n",
       "            paths: {\n",
       "                'plotly': ['https://cdn.plot.ly/plotly-latest.min']\n",
       "            }\n",
       "        });\n",
       "        require(['plotly'], function(Plotly) {\n",
       "            window._Plotly = Plotly;\n",
       "        });\n",
       "        }\n",
       "        </script>\n",
       "        "
      ]
     },
     "metadata": {},
     "output_type": "display_data"
    },
    {
     "data": {
      "application/vnd.plotly.v1+json": {
       "config": {
        "linkText": "Export to plot.ly",
        "plotlyServerURL": "https://plot.ly",
        "showLink": true
       },
       "data": [
        {
         "marker": {
          "color": "rgba(255, 153, 51, 0.6)",
          "line": {
           "color": "rgba(255, 153, 51, 1.0)",
           "width": 1
          }
         },
         "name": "count",
         "orientation": "v",
         "text": "",
         "type": "bar",
         "x": [
          "business",
          "loan",
          "sell",
          "year",
          "work",
          "child",
          "product",
          "buy",
          "home",
          "help",
          "use",
          "make",
          "old",
          "start",
          "also",
          "family",
          "husband",
          "able",
          "order",
          "well",
          "store",
          "invest",
          "client",
          "customer",
          "live",
          "purchase",
          "increase",
          "hope",
          "need",
          "want",
          "grow",
          "first",
          "wife",
          "school",
          "sale",
          "small",
          "merchandise",
          "new",
          "improve",
          "ago",
          "provide",
          "continue",
          "begin",
          "item",
          "good",
          "offer",
          "give",
          "house",
          "son",
          "clothing",
          "food",
          "second",
          "money",
          "would",
          "request",
          "goal",
          "time",
          "experience",
          "marry",
          "take",
          "capital",
          "open",
          "day",
          "income",
          "go",
          "microfinance_ecuador_services_please",
          "training_educational_programs_information",
          "clothe",
          "mifex_offers_client",
          "mifex_org_www_mifex",
          "org",
          "save",
          "run",
          "description",
          "people",
          "receive",
          "currently",
          "shop",
          "investment",
          "service",
          "life",
          "daughter",
          "expand",
          "mother",
          "profit",
          "allow",
          "married",
          "part",
          "household",
          "job",
          "market",
          "area",
          "build",
          "quality",
          "demand",
          "cosmetic",
          "education",
          "restaurant",
          "study",
          "community"
         ],
         "y": [
          608,
          406,
          367,
          356,
          256,
          248,
          206,
          204,
          204,
          197,
          191,
          189,
          175,
          152,
          149,
          135,
          131,
          125,
          119,
          119,
          114,
          100,
          90,
          87,
          87,
          85,
          85,
          85,
          81,
          79,
          77,
          76,
          75,
          74,
          74,
          74,
          72,
          72,
          70,
          69,
          69,
          67,
          65,
          65,
          63,
          60,
          56,
          54,
          53,
          53,
          52,
          52,
          52,
          50,
          50,
          50,
          50,
          50,
          49,
          48,
          48,
          48,
          47,
          47,
          46,
          45,
          45,
          44,
          44,
          44,
          44,
          44,
          43,
          42,
          42,
          42,
          41,
          41,
          40,
          40,
          38,
          38,
          38,
          38,
          37,
          37,
          37,
          37,
          36,
          36,
          36,
          35,
          35,
          34,
          34,
          34,
          33,
          33,
          33,
          31
         ]
        }
       ],
       "layout": {
        "legend": {
         "bgcolor": "#F5F6F9",
         "font": {
          "color": "#4D5663"
         }
        },
        "paper_bgcolor": "#F5F6F9",
        "plot_bgcolor": "#F5F6F9",
        "template": {
         "data": {
          "bar": [
           {
            "error_x": {
             "color": "#2a3f5f"
            },
            "error_y": {
             "color": "#2a3f5f"
            },
            "marker": {
             "line": {
              "color": "#E5ECF6",
              "width": 0.5
             }
            },
            "type": "bar"
           }
          ],
          "barpolar": [
           {
            "marker": {
             "line": {
              "color": "#E5ECF6",
              "width": 0.5
             }
            },
            "type": "barpolar"
           }
          ],
          "carpet": [
           {
            "aaxis": {
             "endlinecolor": "#2a3f5f",
             "gridcolor": "white",
             "linecolor": "white",
             "minorgridcolor": "white",
             "startlinecolor": "#2a3f5f"
            },
            "baxis": {
             "endlinecolor": "#2a3f5f",
             "gridcolor": "white",
             "linecolor": "white",
             "minorgridcolor": "white",
             "startlinecolor": "#2a3f5f"
            },
            "type": "carpet"
           }
          ],
          "choropleth": [
           {
            "colorbar": {
             "outlinewidth": 0,
             "ticks": ""
            },
            "type": "choropleth"
           }
          ],
          "contour": [
           {
            "colorbar": {
             "outlinewidth": 0,
             "ticks": ""
            },
            "colorscale": [
             [
              0,
              "#0d0887"
             ],
             [
              0.1111111111111111,
              "#46039f"
             ],
             [
              0.2222222222222222,
              "#7201a8"
             ],
             [
              0.3333333333333333,
              "#9c179e"
             ],
             [
              0.4444444444444444,
              "#bd3786"
             ],
             [
              0.5555555555555556,
              "#d8576b"
             ],
             [
              0.6666666666666666,
              "#ed7953"
             ],
             [
              0.7777777777777778,
              "#fb9f3a"
             ],
             [
              0.8888888888888888,
              "#fdca26"
             ],
             [
              1,
              "#f0f921"
             ]
            ],
            "type": "contour"
           }
          ],
          "contourcarpet": [
           {
            "colorbar": {
             "outlinewidth": 0,
             "ticks": ""
            },
            "type": "contourcarpet"
           }
          ],
          "heatmap": [
           {
            "colorbar": {
             "outlinewidth": 0,
             "ticks": ""
            },
            "colorscale": [
             [
              0,
              "#0d0887"
             ],
             [
              0.1111111111111111,
              "#46039f"
             ],
             [
              0.2222222222222222,
              "#7201a8"
             ],
             [
              0.3333333333333333,
              "#9c179e"
             ],
             [
              0.4444444444444444,
              "#bd3786"
             ],
             [
              0.5555555555555556,
              "#d8576b"
             ],
             [
              0.6666666666666666,
              "#ed7953"
             ],
             [
              0.7777777777777778,
              "#fb9f3a"
             ],
             [
              0.8888888888888888,
              "#fdca26"
             ],
             [
              1,
              "#f0f921"
             ]
            ],
            "type": "heatmap"
           }
          ],
          "heatmapgl": [
           {
            "colorbar": {
             "outlinewidth": 0,
             "ticks": ""
            },
            "colorscale": [
             [
              0,
              "#0d0887"
             ],
             [
              0.1111111111111111,
              "#46039f"
             ],
             [
              0.2222222222222222,
              "#7201a8"
             ],
             [
              0.3333333333333333,
              "#9c179e"
             ],
             [
              0.4444444444444444,
              "#bd3786"
             ],
             [
              0.5555555555555556,
              "#d8576b"
             ],
             [
              0.6666666666666666,
              "#ed7953"
             ],
             [
              0.7777777777777778,
              "#fb9f3a"
             ],
             [
              0.8888888888888888,
              "#fdca26"
             ],
             [
              1,
              "#f0f921"
             ]
            ],
            "type": "heatmapgl"
           }
          ],
          "histogram": [
           {
            "marker": {
             "colorbar": {
              "outlinewidth": 0,
              "ticks": ""
             }
            },
            "type": "histogram"
           }
          ],
          "histogram2d": [
           {
            "colorbar": {
             "outlinewidth": 0,
             "ticks": ""
            },
            "colorscale": [
             [
              0,
              "#0d0887"
             ],
             [
              0.1111111111111111,
              "#46039f"
             ],
             [
              0.2222222222222222,
              "#7201a8"
             ],
             [
              0.3333333333333333,
              "#9c179e"
             ],
             [
              0.4444444444444444,
              "#bd3786"
             ],
             [
              0.5555555555555556,
              "#d8576b"
             ],
             [
              0.6666666666666666,
              "#ed7953"
             ],
             [
              0.7777777777777778,
              "#fb9f3a"
             ],
             [
              0.8888888888888888,
              "#fdca26"
             ],
             [
              1,
              "#f0f921"
             ]
            ],
            "type": "histogram2d"
           }
          ],
          "histogram2dcontour": [
           {
            "colorbar": {
             "outlinewidth": 0,
             "ticks": ""
            },
            "colorscale": [
             [
              0,
              "#0d0887"
             ],
             [
              0.1111111111111111,
              "#46039f"
             ],
             [
              0.2222222222222222,
              "#7201a8"
             ],
             [
              0.3333333333333333,
              "#9c179e"
             ],
             [
              0.4444444444444444,
              "#bd3786"
             ],
             [
              0.5555555555555556,
              "#d8576b"
             ],
             [
              0.6666666666666666,
              "#ed7953"
             ],
             [
              0.7777777777777778,
              "#fb9f3a"
             ],
             [
              0.8888888888888888,
              "#fdca26"
             ],
             [
              1,
              "#f0f921"
             ]
            ],
            "type": "histogram2dcontour"
           }
          ],
          "mesh3d": [
           {
            "colorbar": {
             "outlinewidth": 0,
             "ticks": ""
            },
            "type": "mesh3d"
           }
          ],
          "parcoords": [
           {
            "line": {
             "colorbar": {
              "outlinewidth": 0,
              "ticks": ""
             }
            },
            "type": "parcoords"
           }
          ],
          "pie": [
           {
            "automargin": true,
            "type": "pie"
           }
          ],
          "scatter": [
           {
            "marker": {
             "colorbar": {
              "outlinewidth": 0,
              "ticks": ""
             }
            },
            "type": "scatter"
           }
          ],
          "scatter3d": [
           {
            "line": {
             "colorbar": {
              "outlinewidth": 0,
              "ticks": ""
             }
            },
            "marker": {
             "colorbar": {
              "outlinewidth": 0,
              "ticks": ""
             }
            },
            "type": "scatter3d"
           }
          ],
          "scattercarpet": [
           {
            "marker": {
             "colorbar": {
              "outlinewidth": 0,
              "ticks": ""
             }
            },
            "type": "scattercarpet"
           }
          ],
          "scattergeo": [
           {
            "marker": {
             "colorbar": {
              "outlinewidth": 0,
              "ticks": ""
             }
            },
            "type": "scattergeo"
           }
          ],
          "scattergl": [
           {
            "marker": {
             "colorbar": {
              "outlinewidth": 0,
              "ticks": ""
             }
            },
            "type": "scattergl"
           }
          ],
          "scattermapbox": [
           {
            "marker": {
             "colorbar": {
              "outlinewidth": 0,
              "ticks": ""
             }
            },
            "type": "scattermapbox"
           }
          ],
          "scatterpolar": [
           {
            "marker": {
             "colorbar": {
              "outlinewidth": 0,
              "ticks": ""
             }
            },
            "type": "scatterpolar"
           }
          ],
          "scatterpolargl": [
           {
            "marker": {
             "colorbar": {
              "outlinewidth": 0,
              "ticks": ""
             }
            },
            "type": "scatterpolargl"
           }
          ],
          "scatterternary": [
           {
            "marker": {
             "colorbar": {
              "outlinewidth": 0,
              "ticks": ""
             }
            },
            "type": "scatterternary"
           }
          ],
          "surface": [
           {
            "colorbar": {
             "outlinewidth": 0,
             "ticks": ""
            },
            "colorscale": [
             [
              0,
              "#0d0887"
             ],
             [
              0.1111111111111111,
              "#46039f"
             ],
             [
              0.2222222222222222,
              "#7201a8"
             ],
             [
              0.3333333333333333,
              "#9c179e"
             ],
             [
              0.4444444444444444,
              "#bd3786"
             ],
             [
              0.5555555555555556,
              "#d8576b"
             ],
             [
              0.6666666666666666,
              "#ed7953"
             ],
             [
              0.7777777777777778,
              "#fb9f3a"
             ],
             [
              0.8888888888888888,
              "#fdca26"
             ],
             [
              1,
              "#f0f921"
             ]
            ],
            "type": "surface"
           }
          ],
          "table": [
           {
            "cells": {
             "fill": {
              "color": "#EBF0F8"
             },
             "line": {
              "color": "white"
             }
            },
            "header": {
             "fill": {
              "color": "#C8D4E3"
             },
             "line": {
              "color": "white"
             }
            },
            "type": "table"
           }
          ]
         },
         "layout": {
          "annotationdefaults": {
           "arrowcolor": "#2a3f5f",
           "arrowhead": 0,
           "arrowwidth": 1
          },
          "coloraxis": {
           "colorbar": {
            "outlinewidth": 0,
            "ticks": ""
           }
          },
          "colorscale": {
           "diverging": [
            [
             0,
             "#8e0152"
            ],
            [
             0.1,
             "#c51b7d"
            ],
            [
             0.2,
             "#de77ae"
            ],
            [
             0.3,
             "#f1b6da"
            ],
            [
             0.4,
             "#fde0ef"
            ],
            [
             0.5,
             "#f7f7f7"
            ],
            [
             0.6,
             "#e6f5d0"
            ],
            [
             0.7,
             "#b8e186"
            ],
            [
             0.8,
             "#7fbc41"
            ],
            [
             0.9,
             "#4d9221"
            ],
            [
             1,
             "#276419"
            ]
           ],
           "sequential": [
            [
             0,
             "#0d0887"
            ],
            [
             0.1111111111111111,
             "#46039f"
            ],
            [
             0.2222222222222222,
             "#7201a8"
            ],
            [
             0.3333333333333333,
             "#9c179e"
            ],
            [
             0.4444444444444444,
             "#bd3786"
            ],
            [
             0.5555555555555556,
             "#d8576b"
            ],
            [
             0.6666666666666666,
             "#ed7953"
            ],
            [
             0.7777777777777778,
             "#fb9f3a"
            ],
            [
             0.8888888888888888,
             "#fdca26"
            ],
            [
             1,
             "#f0f921"
            ]
           ],
           "sequentialminus": [
            [
             0,
             "#0d0887"
            ],
            [
             0.1111111111111111,
             "#46039f"
            ],
            [
             0.2222222222222222,
             "#7201a8"
            ],
            [
             0.3333333333333333,
             "#9c179e"
            ],
            [
             0.4444444444444444,
             "#bd3786"
            ],
            [
             0.5555555555555556,
             "#d8576b"
            ],
            [
             0.6666666666666666,
             "#ed7953"
            ],
            [
             0.7777777777777778,
             "#fb9f3a"
            ],
            [
             0.8888888888888888,
             "#fdca26"
            ],
            [
             1,
             "#f0f921"
            ]
           ]
          },
          "colorway": [
           "#636efa",
           "#EF553B",
           "#00cc96",
           "#ab63fa",
           "#FFA15A",
           "#19d3f3",
           "#FF6692",
           "#B6E880",
           "#FF97FF",
           "#FECB52"
          ],
          "font": {
           "color": "#2a3f5f"
          },
          "geo": {
           "bgcolor": "white",
           "lakecolor": "white",
           "landcolor": "#E5ECF6",
           "showlakes": true,
           "showland": true,
           "subunitcolor": "white"
          },
          "hoverlabel": {
           "align": "left"
          },
          "hovermode": "closest",
          "mapbox": {
           "style": "light"
          },
          "paper_bgcolor": "white",
          "plot_bgcolor": "#E5ECF6",
          "polar": {
           "angularaxis": {
            "gridcolor": "white",
            "linecolor": "white",
            "ticks": ""
           },
           "bgcolor": "#E5ECF6",
           "radialaxis": {
            "gridcolor": "white",
            "linecolor": "white",
            "ticks": ""
           }
          },
          "scene": {
           "xaxis": {
            "backgroundcolor": "#E5ECF6",
            "gridcolor": "white",
            "gridwidth": 2,
            "linecolor": "white",
            "showbackground": true,
            "ticks": "",
            "zerolinecolor": "white"
           },
           "yaxis": {
            "backgroundcolor": "#E5ECF6",
            "gridcolor": "white",
            "gridwidth": 2,
            "linecolor": "white",
            "showbackground": true,
            "ticks": "",
            "zerolinecolor": "white"
           },
           "zaxis": {
            "backgroundcolor": "#E5ECF6",
            "gridcolor": "white",
            "gridwidth": 2,
            "linecolor": "white",
            "showbackground": true,
            "ticks": "",
            "zerolinecolor": "white"
           }
          },
          "shapedefaults": {
           "line": {
            "color": "#2a3f5f"
           }
          },
          "ternary": {
           "aaxis": {
            "gridcolor": "white",
            "linecolor": "white",
            "ticks": ""
           },
           "baxis": {
            "gridcolor": "white",
            "linecolor": "white",
            "ticks": ""
           },
           "bgcolor": "#E5ECF6",
           "caxis": {
            "gridcolor": "white",
            "linecolor": "white",
            "ticks": ""
           }
          },
          "title": {
           "x": 0.05
          },
          "xaxis": {
           "automargin": true,
           "gridcolor": "white",
           "linecolor": "white",
           "ticks": "",
           "title": {
            "standoff": 15
           },
           "zerolinecolor": "white",
           "zerolinewidth": 2
          },
          "yaxis": {
           "automargin": true,
           "gridcolor": "white",
           "linecolor": "white",
           "ticks": "",
           "title": {
            "standoff": 15
           },
           "zerolinecolor": "white",
           "zerolinewidth": 2
          }
         }
        },
        "title": {
         "font": {
          "color": "#4D5663"
         },
         "text": "Topic 1: Top 100 words after removing stop words"
        },
        "xaxis": {
         "gridcolor": "#E1E5ED",
         "linecolor": "black",
         "showgrid": true,
         "tickfont": {
          "color": "#4D5663"
         },
         "title": {
          "font": {
           "color": "#4D5663"
          },
          "text": ""
         },
         "zerolinecolor": "#E1E5ED"
        },
        "yaxis": {
         "gridcolor": "#E1E5ED",
         "linecolor": "black",
         "showgrid": true,
         "tickfont": {
          "color": "#4D5663"
         },
         "title": {
          "font": {
           "color": "#4D5663"
          },
          "text": "Count"
         },
         "zerolinecolor": "#E1E5ED"
        }
       }
      },
      "text/html": [
       "<div>\n",
       "        \n",
       "        \n",
       "            <div id=\"0525eb8d-1ac8-446c-b456-3e92c08a5385\" class=\"plotly-graph-div\" style=\"height:525px; width:100%;\"></div>\n",
       "            <script type=\"text/javascript\">\n",
       "                require([\"plotly\"], function(Plotly) {\n",
       "                    window.PLOTLYENV=window.PLOTLYENV || {};\n",
       "                    window.PLOTLYENV.BASE_URL='https://plot.ly';\n",
       "                    \n",
       "                if (document.getElementById(\"0525eb8d-1ac8-446c-b456-3e92c08a5385\")) {\n",
       "                    Plotly.newPlot(\n",
       "                        '0525eb8d-1ac8-446c-b456-3e92c08a5385',\n",
       "                        [{\"marker\": {\"color\": \"rgba(255, 153, 51, 0.6)\", \"line\": {\"color\": \"rgba(255, 153, 51, 1.0)\", \"width\": 1}}, \"name\": \"count\", \"orientation\": \"v\", \"text\": \"\", \"type\": \"bar\", \"x\": [\"business\", \"loan\", \"sell\", \"year\", \"work\", \"child\", \"product\", \"buy\", \"home\", \"help\", \"use\", \"make\", \"old\", \"start\", \"also\", \"family\", \"husband\", \"able\", \"order\", \"well\", \"store\", \"invest\", \"client\", \"customer\", \"live\", \"purchase\", \"increase\", \"hope\", \"need\", \"want\", \"grow\", \"first\", \"wife\", \"school\", \"sale\", \"small\", \"merchandise\", \"new\", \"improve\", \"ago\", \"provide\", \"continue\", \"begin\", \"item\", \"good\", \"offer\", \"give\", \"house\", \"son\", \"clothing\", \"food\", \"second\", \"money\", \"would\", \"request\", \"goal\", \"time\", \"experience\", \"marry\", \"take\", \"capital\", \"open\", \"day\", \"income\", \"go\", \"microfinance_ecuador_services_please\", \"training_educational_programs_information\", \"clothe\", \"mifex_offers_client\", \"mifex_org_www_mifex\", \"org\", \"save\", \"run\", \"description\", \"people\", \"receive\", \"currently\", \"shop\", \"investment\", \"service\", \"life\", \"daughter\", \"expand\", \"mother\", \"profit\", \"allow\", \"married\", \"part\", \"household\", \"job\", \"market\", \"area\", \"build\", \"quality\", \"demand\", \"cosmetic\", \"education\", \"restaurant\", \"study\", \"community\"], \"y\": [608, 406, 367, 356, 256, 248, 206, 204, 204, 197, 191, 189, 175, 152, 149, 135, 131, 125, 119, 119, 114, 100, 90, 87, 87, 85, 85, 85, 81, 79, 77, 76, 75, 74, 74, 74, 72, 72, 70, 69, 69, 67, 65, 65, 63, 60, 56, 54, 53, 53, 52, 52, 52, 50, 50, 50, 50, 50, 49, 48, 48, 48, 47, 47, 46, 45, 45, 44, 44, 44, 44, 44, 43, 42, 42, 42, 41, 41, 40, 40, 38, 38, 38, 38, 37, 37, 37, 37, 36, 36, 36, 35, 35, 34, 34, 34, 33, 33, 33, 31]}],\n",
       "                        {\"legend\": {\"bgcolor\": \"#F5F6F9\", \"font\": {\"color\": \"#4D5663\"}}, \"paper_bgcolor\": \"#F5F6F9\", \"plot_bgcolor\": \"#F5F6F9\", \"template\": {\"data\": {\"bar\": [{\"error_x\": {\"color\": \"#2a3f5f\"}, \"error_y\": {\"color\": \"#2a3f5f\"}, \"marker\": {\"line\": {\"color\": \"#E5ECF6\", \"width\": 0.5}}, \"type\": \"bar\"}], \"barpolar\": [{\"marker\": {\"line\": {\"color\": \"#E5ECF6\", \"width\": 0.5}}, \"type\": \"barpolar\"}], \"carpet\": [{\"aaxis\": {\"endlinecolor\": \"#2a3f5f\", \"gridcolor\": \"white\", \"linecolor\": \"white\", \"minorgridcolor\": \"white\", \"startlinecolor\": \"#2a3f5f\"}, \"baxis\": {\"endlinecolor\": \"#2a3f5f\", \"gridcolor\": \"white\", \"linecolor\": \"white\", \"minorgridcolor\": \"white\", \"startlinecolor\": \"#2a3f5f\"}, \"type\": \"carpet\"}], \"choropleth\": [{\"colorbar\": {\"outlinewidth\": 0, \"ticks\": \"\"}, \"type\": \"choropleth\"}], \"contour\": [{\"colorbar\": {\"outlinewidth\": 0, \"ticks\": \"\"}, \"colorscale\": [[0.0, \"#0d0887\"], [0.1111111111111111, \"#46039f\"], [0.2222222222222222, \"#7201a8\"], [0.3333333333333333, \"#9c179e\"], [0.4444444444444444, \"#bd3786\"], [0.5555555555555556, \"#d8576b\"], [0.6666666666666666, \"#ed7953\"], [0.7777777777777778, \"#fb9f3a\"], [0.8888888888888888, \"#fdca26\"], [1.0, \"#f0f921\"]], \"type\": \"contour\"}], \"contourcarpet\": [{\"colorbar\": {\"outlinewidth\": 0, \"ticks\": \"\"}, \"type\": \"contourcarpet\"}], \"heatmap\": [{\"colorbar\": {\"outlinewidth\": 0, \"ticks\": \"\"}, \"colorscale\": [[0.0, \"#0d0887\"], [0.1111111111111111, \"#46039f\"], [0.2222222222222222, \"#7201a8\"], [0.3333333333333333, \"#9c179e\"], [0.4444444444444444, \"#bd3786\"], [0.5555555555555556, \"#d8576b\"], [0.6666666666666666, \"#ed7953\"], [0.7777777777777778, \"#fb9f3a\"], [0.8888888888888888, \"#fdca26\"], [1.0, \"#f0f921\"]], \"type\": \"heatmap\"}], \"heatmapgl\": [{\"colorbar\": {\"outlinewidth\": 0, \"ticks\": \"\"}, \"colorscale\": [[0.0, \"#0d0887\"], [0.1111111111111111, \"#46039f\"], [0.2222222222222222, \"#7201a8\"], [0.3333333333333333, \"#9c179e\"], [0.4444444444444444, \"#bd3786\"], [0.5555555555555556, \"#d8576b\"], [0.6666666666666666, \"#ed7953\"], [0.7777777777777778, \"#fb9f3a\"], [0.8888888888888888, \"#fdca26\"], [1.0, \"#f0f921\"]], \"type\": \"heatmapgl\"}], \"histogram\": [{\"marker\": {\"colorbar\": {\"outlinewidth\": 0, \"ticks\": \"\"}}, \"type\": \"histogram\"}], \"histogram2d\": [{\"colorbar\": {\"outlinewidth\": 0, \"ticks\": \"\"}, \"colorscale\": [[0.0, \"#0d0887\"], [0.1111111111111111, \"#46039f\"], [0.2222222222222222, \"#7201a8\"], [0.3333333333333333, \"#9c179e\"], [0.4444444444444444, \"#bd3786\"], [0.5555555555555556, \"#d8576b\"], [0.6666666666666666, \"#ed7953\"], [0.7777777777777778, \"#fb9f3a\"], [0.8888888888888888, \"#fdca26\"], [1.0, \"#f0f921\"]], \"type\": \"histogram2d\"}], \"histogram2dcontour\": [{\"colorbar\": {\"outlinewidth\": 0, \"ticks\": \"\"}, \"colorscale\": [[0.0, \"#0d0887\"], [0.1111111111111111, \"#46039f\"], [0.2222222222222222, \"#7201a8\"], [0.3333333333333333, \"#9c179e\"], [0.4444444444444444, \"#bd3786\"], [0.5555555555555556, \"#d8576b\"], [0.6666666666666666, \"#ed7953\"], [0.7777777777777778, \"#fb9f3a\"], [0.8888888888888888, \"#fdca26\"], [1.0, \"#f0f921\"]], \"type\": \"histogram2dcontour\"}], \"mesh3d\": [{\"colorbar\": {\"outlinewidth\": 0, \"ticks\": \"\"}, \"type\": \"mesh3d\"}], \"parcoords\": [{\"line\": {\"colorbar\": {\"outlinewidth\": 0, \"ticks\": \"\"}}, \"type\": \"parcoords\"}], \"pie\": [{\"automargin\": true, \"type\": \"pie\"}], \"scatter\": [{\"marker\": {\"colorbar\": {\"outlinewidth\": 0, \"ticks\": \"\"}}, \"type\": \"scatter\"}], \"scatter3d\": [{\"line\": {\"colorbar\": {\"outlinewidth\": 0, \"ticks\": \"\"}}, \"marker\": {\"colorbar\": {\"outlinewidth\": 0, \"ticks\": \"\"}}, \"type\": \"scatter3d\"}], \"scattercarpet\": [{\"marker\": {\"colorbar\": {\"outlinewidth\": 0, \"ticks\": \"\"}}, \"type\": \"scattercarpet\"}], \"scattergeo\": [{\"marker\": {\"colorbar\": {\"outlinewidth\": 0, \"ticks\": \"\"}}, \"type\": \"scattergeo\"}], \"scattergl\": [{\"marker\": {\"colorbar\": {\"outlinewidth\": 0, \"ticks\": \"\"}}, \"type\": \"scattergl\"}], \"scattermapbox\": [{\"marker\": {\"colorbar\": {\"outlinewidth\": 0, \"ticks\": \"\"}}, \"type\": \"scattermapbox\"}], \"scatterpolar\": [{\"marker\": {\"colorbar\": {\"outlinewidth\": 0, \"ticks\": \"\"}}, \"type\": \"scatterpolar\"}], \"scatterpolargl\": [{\"marker\": {\"colorbar\": {\"outlinewidth\": 0, \"ticks\": \"\"}}, \"type\": \"scatterpolargl\"}], \"scatterternary\": [{\"marker\": {\"colorbar\": {\"outlinewidth\": 0, \"ticks\": \"\"}}, \"type\": \"scatterternary\"}], \"surface\": [{\"colorbar\": {\"outlinewidth\": 0, \"ticks\": \"\"}, \"colorscale\": [[0.0, \"#0d0887\"], [0.1111111111111111, \"#46039f\"], [0.2222222222222222, \"#7201a8\"], [0.3333333333333333, \"#9c179e\"], [0.4444444444444444, \"#bd3786\"], [0.5555555555555556, \"#d8576b\"], [0.6666666666666666, \"#ed7953\"], [0.7777777777777778, \"#fb9f3a\"], [0.8888888888888888, \"#fdca26\"], [1.0, \"#f0f921\"]], \"type\": \"surface\"}], \"table\": [{\"cells\": {\"fill\": {\"color\": \"#EBF0F8\"}, \"line\": {\"color\": \"white\"}}, \"header\": {\"fill\": {\"color\": \"#C8D4E3\"}, \"line\": {\"color\": \"white\"}}, \"type\": \"table\"}]}, \"layout\": {\"annotationdefaults\": {\"arrowcolor\": \"#2a3f5f\", \"arrowhead\": 0, \"arrowwidth\": 1}, \"coloraxis\": {\"colorbar\": {\"outlinewidth\": 0, \"ticks\": \"\"}}, \"colorscale\": {\"diverging\": [[0, \"#8e0152\"], [0.1, \"#c51b7d\"], [0.2, \"#de77ae\"], [0.3, \"#f1b6da\"], [0.4, \"#fde0ef\"], [0.5, \"#f7f7f7\"], [0.6, \"#e6f5d0\"], [0.7, \"#b8e186\"], [0.8, \"#7fbc41\"], [0.9, \"#4d9221\"], [1, \"#276419\"]], \"sequential\": [[0.0, \"#0d0887\"], [0.1111111111111111, \"#46039f\"], [0.2222222222222222, \"#7201a8\"], [0.3333333333333333, \"#9c179e\"], [0.4444444444444444, \"#bd3786\"], [0.5555555555555556, \"#d8576b\"], [0.6666666666666666, \"#ed7953\"], [0.7777777777777778, \"#fb9f3a\"], [0.8888888888888888, \"#fdca26\"], [1.0, \"#f0f921\"]], \"sequentialminus\": [[0.0, \"#0d0887\"], [0.1111111111111111, \"#46039f\"], [0.2222222222222222, \"#7201a8\"], [0.3333333333333333, \"#9c179e\"], [0.4444444444444444, \"#bd3786\"], [0.5555555555555556, \"#d8576b\"], [0.6666666666666666, \"#ed7953\"], [0.7777777777777778, \"#fb9f3a\"], [0.8888888888888888, \"#fdca26\"], [1.0, \"#f0f921\"]]}, \"colorway\": [\"#636efa\", \"#EF553B\", \"#00cc96\", \"#ab63fa\", \"#FFA15A\", \"#19d3f3\", \"#FF6692\", \"#B6E880\", \"#FF97FF\", \"#FECB52\"], \"font\": {\"color\": \"#2a3f5f\"}, \"geo\": {\"bgcolor\": \"white\", \"lakecolor\": \"white\", \"landcolor\": \"#E5ECF6\", \"showlakes\": true, \"showland\": true, \"subunitcolor\": \"white\"}, \"hoverlabel\": {\"align\": \"left\"}, \"hovermode\": \"closest\", \"mapbox\": {\"style\": \"light\"}, \"paper_bgcolor\": \"white\", \"plot_bgcolor\": \"#E5ECF6\", \"polar\": {\"angularaxis\": {\"gridcolor\": \"white\", \"linecolor\": \"white\", \"ticks\": \"\"}, \"bgcolor\": \"#E5ECF6\", \"radialaxis\": {\"gridcolor\": \"white\", \"linecolor\": \"white\", \"ticks\": \"\"}}, \"scene\": {\"xaxis\": {\"backgroundcolor\": \"#E5ECF6\", \"gridcolor\": \"white\", \"gridwidth\": 2, \"linecolor\": \"white\", \"showbackground\": true, \"ticks\": \"\", \"zerolinecolor\": \"white\"}, \"yaxis\": {\"backgroundcolor\": \"#E5ECF6\", \"gridcolor\": \"white\", \"gridwidth\": 2, \"linecolor\": \"white\", \"showbackground\": true, \"ticks\": \"\", \"zerolinecolor\": \"white\"}, \"zaxis\": {\"backgroundcolor\": \"#E5ECF6\", \"gridcolor\": \"white\", \"gridwidth\": 2, \"linecolor\": \"white\", \"showbackground\": true, \"ticks\": \"\", \"zerolinecolor\": \"white\"}}, \"shapedefaults\": {\"line\": {\"color\": \"#2a3f5f\"}}, \"ternary\": {\"aaxis\": {\"gridcolor\": \"white\", \"linecolor\": \"white\", \"ticks\": \"\"}, \"baxis\": {\"gridcolor\": \"white\", \"linecolor\": \"white\", \"ticks\": \"\"}, \"bgcolor\": \"#E5ECF6\", \"caxis\": {\"gridcolor\": \"white\", \"linecolor\": \"white\", \"ticks\": \"\"}}, \"title\": {\"x\": 0.05}, \"xaxis\": {\"automargin\": true, \"gridcolor\": \"white\", \"linecolor\": \"white\", \"ticks\": \"\", \"title\": {\"standoff\": 15}, \"zerolinecolor\": \"white\", \"zerolinewidth\": 2}, \"yaxis\": {\"automargin\": true, \"gridcolor\": \"white\", \"linecolor\": \"white\", \"ticks\": \"\", \"title\": {\"standoff\": 15}, \"zerolinecolor\": \"white\", \"zerolinewidth\": 2}}}, \"title\": {\"font\": {\"color\": \"#4D5663\"}, \"text\": \"Topic 1: Top 100 words after removing stop words\"}, \"xaxis\": {\"gridcolor\": \"#E1E5ED\", \"linecolor\": \"black\", \"showgrid\": true, \"tickfont\": {\"color\": \"#4D5663\"}, \"title\": {\"font\": {\"color\": \"#4D5663\"}, \"text\": \"\"}, \"zerolinecolor\": \"#E1E5ED\"}, \"yaxis\": {\"gridcolor\": \"#E1E5ED\", \"linecolor\": \"black\", \"showgrid\": true, \"tickfont\": {\"color\": \"#4D5663\"}, \"title\": {\"font\": {\"color\": \"#4D5663\"}, \"text\": \"Count\"}, \"zerolinecolor\": \"#E1E5ED\"}},\n",
       "                        {\"showLink\": true, \"linkText\": \"Export to plot.ly\", \"plotlyServerURL\": \"https://plot.ly\", \"responsive\": true}\n",
       "                    ).then(function(){\n",
       "                            \n",
       "var gd = document.getElementById('0525eb8d-1ac8-446c-b456-3e92c08a5385');\n",
       "var x = new MutationObserver(function (mutations, observer) {{\n",
       "        var display = window.getComputedStyle(gd).display;\n",
       "        if (!display || display === 'none') {{\n",
       "            console.log([gd, 'removed!']);\n",
       "            Plotly.purge(gd);\n",
       "            observer.disconnect();\n",
       "        }}\n",
       "}});\n",
       "\n",
       "// Listen for the removal of the full notebook cells\n",
       "var notebookContainer = gd.closest('#notebook-container');\n",
       "if (notebookContainer) {{\n",
       "    x.observe(notebookContainer, {childList: true});\n",
       "}}\n",
       "\n",
       "// Listen for the clearing of the current output cell\n",
       "var outputEl = gd.closest('.output');\n",
       "if (outputEl) {{\n",
       "    x.observe(outputEl, {childList: true});\n",
       "}}\n",
       "\n",
       "                        })\n",
       "                };\n",
       "                });\n",
       "            </script>\n",
       "        </div>"
      ]
     },
     "metadata": {},
     "output_type": "display_data"
    }
   ],
   "source": [
    "plot_model(lda, plot = 'frequency', topic_num = 'Topic 1')"
   ]
  },
  {
   "cell_type": "code",
   "execution_count": 14,
   "metadata": {},
   "outputs": [
    {
     "data": {
      "text/html": [
       "        <script type=\"text/javascript\">\n",
       "        window.PlotlyConfig = {MathJaxConfig: 'local'};\n",
       "        if (window.MathJax) {MathJax.Hub.Config({SVG: {font: \"STIX-Web\"}});}\n",
       "        if (typeof require !== 'undefined') {\n",
       "        require.undef(\"plotly\");\n",
       "        requirejs.config({\n",
       "            paths: {\n",
       "                'plotly': ['https://cdn.plot.ly/plotly-latest.min']\n",
       "            }\n",
       "        });\n",
       "        require(['plotly'], function(Plotly) {\n",
       "            window._Plotly = Plotly;\n",
       "        });\n",
       "        }\n",
       "        </script>\n",
       "        "
      ]
     },
     "metadata": {},
     "output_type": "display_data"
    },
    {
     "data": {
      "application/vnd.plotly.v1+json": {
       "config": {
        "plotlyServerURL": "https://plot.ly"
       },
       "data": [
        {
         "alignmentgroup": "True",
         "customdata": [
          [
           "loan, farmer, also, farm, rice, use, small, land, area, many"
          ],
          [
           "business, sell, loan, year, product, work, home, help, make, use"
          ],
          [
           "business, loan, child, year, sell, school, buy, family, able, old"
          ],
          [
           "water, high, computer, milk, must, problem, bag, economy, come, banana"
          ]
         ],
         "hoverlabel": {
          "namelength": 0
         },
         "hovertemplate": "Topic=%{x}<br>Documents=%{y}<br>Keyword=%{customdata[0]}",
         "legendgroup": "",
         "marker": {
          "color": "#636efa"
         },
         "name": "",
         "offsetgroup": "",
         "orientation": "v",
         "showlegend": false,
         "textposition": "auto",
         "type": "bar",
         "x": [
          "Topic 0",
          "Topic 1",
          "Topic 2",
          "Topic 3"
         ],
         "xaxis": "x",
         "y": [
          45,
          238,
          713,
          4
         ],
         "yaxis": "y"
        }
       ],
       "layout": {
        "barmode": "relative",
        "legend": {
         "tracegroupgap": 0
        },
        "template": {
         "data": {
          "bar": [
           {
            "error_x": {
             "color": "#2a3f5f"
            },
            "error_y": {
             "color": "#2a3f5f"
            },
            "marker": {
             "line": {
              "color": "#E5ECF6",
              "width": 0.5
             }
            },
            "type": "bar"
           }
          ],
          "barpolar": [
           {
            "marker": {
             "line": {
              "color": "#E5ECF6",
              "width": 0.5
             }
            },
            "type": "barpolar"
           }
          ],
          "carpet": [
           {
            "aaxis": {
             "endlinecolor": "#2a3f5f",
             "gridcolor": "white",
             "linecolor": "white",
             "minorgridcolor": "white",
             "startlinecolor": "#2a3f5f"
            },
            "baxis": {
             "endlinecolor": "#2a3f5f",
             "gridcolor": "white",
             "linecolor": "white",
             "minorgridcolor": "white",
             "startlinecolor": "#2a3f5f"
            },
            "type": "carpet"
           }
          ],
          "choropleth": [
           {
            "colorbar": {
             "outlinewidth": 0,
             "ticks": ""
            },
            "type": "choropleth"
           }
          ],
          "contour": [
           {
            "colorbar": {
             "outlinewidth": 0,
             "ticks": ""
            },
            "colorscale": [
             [
              0,
              "#0d0887"
             ],
             [
              0.1111111111111111,
              "#46039f"
             ],
             [
              0.2222222222222222,
              "#7201a8"
             ],
             [
              0.3333333333333333,
              "#9c179e"
             ],
             [
              0.4444444444444444,
              "#bd3786"
             ],
             [
              0.5555555555555556,
              "#d8576b"
             ],
             [
              0.6666666666666666,
              "#ed7953"
             ],
             [
              0.7777777777777778,
              "#fb9f3a"
             ],
             [
              0.8888888888888888,
              "#fdca26"
             ],
             [
              1,
              "#f0f921"
             ]
            ],
            "type": "contour"
           }
          ],
          "contourcarpet": [
           {
            "colorbar": {
             "outlinewidth": 0,
             "ticks": ""
            },
            "type": "contourcarpet"
           }
          ],
          "heatmap": [
           {
            "colorbar": {
             "outlinewidth": 0,
             "ticks": ""
            },
            "colorscale": [
             [
              0,
              "#0d0887"
             ],
             [
              0.1111111111111111,
              "#46039f"
             ],
             [
              0.2222222222222222,
              "#7201a8"
             ],
             [
              0.3333333333333333,
              "#9c179e"
             ],
             [
              0.4444444444444444,
              "#bd3786"
             ],
             [
              0.5555555555555556,
              "#d8576b"
             ],
             [
              0.6666666666666666,
              "#ed7953"
             ],
             [
              0.7777777777777778,
              "#fb9f3a"
             ],
             [
              0.8888888888888888,
              "#fdca26"
             ],
             [
              1,
              "#f0f921"
             ]
            ],
            "type": "heatmap"
           }
          ],
          "heatmapgl": [
           {
            "colorbar": {
             "outlinewidth": 0,
             "ticks": ""
            },
            "colorscale": [
             [
              0,
              "#0d0887"
             ],
             [
              0.1111111111111111,
              "#46039f"
             ],
             [
              0.2222222222222222,
              "#7201a8"
             ],
             [
              0.3333333333333333,
              "#9c179e"
             ],
             [
              0.4444444444444444,
              "#bd3786"
             ],
             [
              0.5555555555555556,
              "#d8576b"
             ],
             [
              0.6666666666666666,
              "#ed7953"
             ],
             [
              0.7777777777777778,
              "#fb9f3a"
             ],
             [
              0.8888888888888888,
              "#fdca26"
             ],
             [
              1,
              "#f0f921"
             ]
            ],
            "type": "heatmapgl"
           }
          ],
          "histogram": [
           {
            "marker": {
             "colorbar": {
              "outlinewidth": 0,
              "ticks": ""
             }
            },
            "type": "histogram"
           }
          ],
          "histogram2d": [
           {
            "colorbar": {
             "outlinewidth": 0,
             "ticks": ""
            },
            "colorscale": [
             [
              0,
              "#0d0887"
             ],
             [
              0.1111111111111111,
              "#46039f"
             ],
             [
              0.2222222222222222,
              "#7201a8"
             ],
             [
              0.3333333333333333,
              "#9c179e"
             ],
             [
              0.4444444444444444,
              "#bd3786"
             ],
             [
              0.5555555555555556,
              "#d8576b"
             ],
             [
              0.6666666666666666,
              "#ed7953"
             ],
             [
              0.7777777777777778,
              "#fb9f3a"
             ],
             [
              0.8888888888888888,
              "#fdca26"
             ],
             [
              1,
              "#f0f921"
             ]
            ],
            "type": "histogram2d"
           }
          ],
          "histogram2dcontour": [
           {
            "colorbar": {
             "outlinewidth": 0,
             "ticks": ""
            },
            "colorscale": [
             [
              0,
              "#0d0887"
             ],
             [
              0.1111111111111111,
              "#46039f"
             ],
             [
              0.2222222222222222,
              "#7201a8"
             ],
             [
              0.3333333333333333,
              "#9c179e"
             ],
             [
              0.4444444444444444,
              "#bd3786"
             ],
             [
              0.5555555555555556,
              "#d8576b"
             ],
             [
              0.6666666666666666,
              "#ed7953"
             ],
             [
              0.7777777777777778,
              "#fb9f3a"
             ],
             [
              0.8888888888888888,
              "#fdca26"
             ],
             [
              1,
              "#f0f921"
             ]
            ],
            "type": "histogram2dcontour"
           }
          ],
          "mesh3d": [
           {
            "colorbar": {
             "outlinewidth": 0,
             "ticks": ""
            },
            "type": "mesh3d"
           }
          ],
          "parcoords": [
           {
            "line": {
             "colorbar": {
              "outlinewidth": 0,
              "ticks": ""
             }
            },
            "type": "parcoords"
           }
          ],
          "pie": [
           {
            "automargin": true,
            "type": "pie"
           }
          ],
          "scatter": [
           {
            "marker": {
             "colorbar": {
              "outlinewidth": 0,
              "ticks": ""
             }
            },
            "type": "scatter"
           }
          ],
          "scatter3d": [
           {
            "line": {
             "colorbar": {
              "outlinewidth": 0,
              "ticks": ""
             }
            },
            "marker": {
             "colorbar": {
              "outlinewidth": 0,
              "ticks": ""
             }
            },
            "type": "scatter3d"
           }
          ],
          "scattercarpet": [
           {
            "marker": {
             "colorbar": {
              "outlinewidth": 0,
              "ticks": ""
             }
            },
            "type": "scattercarpet"
           }
          ],
          "scattergeo": [
           {
            "marker": {
             "colorbar": {
              "outlinewidth": 0,
              "ticks": ""
             }
            },
            "type": "scattergeo"
           }
          ],
          "scattergl": [
           {
            "marker": {
             "colorbar": {
              "outlinewidth": 0,
              "ticks": ""
             }
            },
            "type": "scattergl"
           }
          ],
          "scattermapbox": [
           {
            "marker": {
             "colorbar": {
              "outlinewidth": 0,
              "ticks": ""
             }
            },
            "type": "scattermapbox"
           }
          ],
          "scatterpolar": [
           {
            "marker": {
             "colorbar": {
              "outlinewidth": 0,
              "ticks": ""
             }
            },
            "type": "scatterpolar"
           }
          ],
          "scatterpolargl": [
           {
            "marker": {
             "colorbar": {
              "outlinewidth": 0,
              "ticks": ""
             }
            },
            "type": "scatterpolargl"
           }
          ],
          "scatterternary": [
           {
            "marker": {
             "colorbar": {
              "outlinewidth": 0,
              "ticks": ""
             }
            },
            "type": "scatterternary"
           }
          ],
          "surface": [
           {
            "colorbar": {
             "outlinewidth": 0,
             "ticks": ""
            },
            "colorscale": [
             [
              0,
              "#0d0887"
             ],
             [
              0.1111111111111111,
              "#46039f"
             ],
             [
              0.2222222222222222,
              "#7201a8"
             ],
             [
              0.3333333333333333,
              "#9c179e"
             ],
             [
              0.4444444444444444,
              "#bd3786"
             ],
             [
              0.5555555555555556,
              "#d8576b"
             ],
             [
              0.6666666666666666,
              "#ed7953"
             ],
             [
              0.7777777777777778,
              "#fb9f3a"
             ],
             [
              0.8888888888888888,
              "#fdca26"
             ],
             [
              1,
              "#f0f921"
             ]
            ],
            "type": "surface"
           }
          ],
          "table": [
           {
            "cells": {
             "fill": {
              "color": "#EBF0F8"
             },
             "line": {
              "color": "white"
             }
            },
            "header": {
             "fill": {
              "color": "#C8D4E3"
             },
             "line": {
              "color": "white"
             }
            },
            "type": "table"
           }
          ]
         },
         "layout": {
          "annotationdefaults": {
           "arrowcolor": "#2a3f5f",
           "arrowhead": 0,
           "arrowwidth": 1
          },
          "coloraxis": {
           "colorbar": {
            "outlinewidth": 0,
            "ticks": ""
           }
          },
          "colorscale": {
           "diverging": [
            [
             0,
             "#8e0152"
            ],
            [
             0.1,
             "#c51b7d"
            ],
            [
             0.2,
             "#de77ae"
            ],
            [
             0.3,
             "#f1b6da"
            ],
            [
             0.4,
             "#fde0ef"
            ],
            [
             0.5,
             "#f7f7f7"
            ],
            [
             0.6,
             "#e6f5d0"
            ],
            [
             0.7,
             "#b8e186"
            ],
            [
             0.8,
             "#7fbc41"
            ],
            [
             0.9,
             "#4d9221"
            ],
            [
             1,
             "#276419"
            ]
           ],
           "sequential": [
            [
             0,
             "#0d0887"
            ],
            [
             0.1111111111111111,
             "#46039f"
            ],
            [
             0.2222222222222222,
             "#7201a8"
            ],
            [
             0.3333333333333333,
             "#9c179e"
            ],
            [
             0.4444444444444444,
             "#bd3786"
            ],
            [
             0.5555555555555556,
             "#d8576b"
            ],
            [
             0.6666666666666666,
             "#ed7953"
            ],
            [
             0.7777777777777778,
             "#fb9f3a"
            ],
            [
             0.8888888888888888,
             "#fdca26"
            ],
            [
             1,
             "#f0f921"
            ]
           ],
           "sequentialminus": [
            [
             0,
             "#0d0887"
            ],
            [
             0.1111111111111111,
             "#46039f"
            ],
            [
             0.2222222222222222,
             "#7201a8"
            ],
            [
             0.3333333333333333,
             "#9c179e"
            ],
            [
             0.4444444444444444,
             "#bd3786"
            ],
            [
             0.5555555555555556,
             "#d8576b"
            ],
            [
             0.6666666666666666,
             "#ed7953"
            ],
            [
             0.7777777777777778,
             "#fb9f3a"
            ],
            [
             0.8888888888888888,
             "#fdca26"
            ],
            [
             1,
             "#f0f921"
            ]
           ]
          },
          "colorway": [
           "#636efa",
           "#EF553B",
           "#00cc96",
           "#ab63fa",
           "#FFA15A",
           "#19d3f3",
           "#FF6692",
           "#B6E880",
           "#FF97FF",
           "#FECB52"
          ],
          "font": {
           "color": "#2a3f5f"
          },
          "geo": {
           "bgcolor": "white",
           "lakecolor": "white",
           "landcolor": "#E5ECF6",
           "showlakes": true,
           "showland": true,
           "subunitcolor": "white"
          },
          "hoverlabel": {
           "align": "left"
          },
          "hovermode": "closest",
          "mapbox": {
           "style": "light"
          },
          "paper_bgcolor": "white",
          "plot_bgcolor": "#E5ECF6",
          "polar": {
           "angularaxis": {
            "gridcolor": "white",
            "linecolor": "white",
            "ticks": ""
           },
           "bgcolor": "#E5ECF6",
           "radialaxis": {
            "gridcolor": "white",
            "linecolor": "white",
            "ticks": ""
           }
          },
          "scene": {
           "xaxis": {
            "backgroundcolor": "#E5ECF6",
            "gridcolor": "white",
            "gridwidth": 2,
            "linecolor": "white",
            "showbackground": true,
            "ticks": "",
            "zerolinecolor": "white"
           },
           "yaxis": {
            "backgroundcolor": "#E5ECF6",
            "gridcolor": "white",
            "gridwidth": 2,
            "linecolor": "white",
            "showbackground": true,
            "ticks": "",
            "zerolinecolor": "white"
           },
           "zaxis": {
            "backgroundcolor": "#E5ECF6",
            "gridcolor": "white",
            "gridwidth": 2,
            "linecolor": "white",
            "showbackground": true,
            "ticks": "",
            "zerolinecolor": "white"
           }
          },
          "shapedefaults": {
           "line": {
            "color": "#2a3f5f"
           }
          },
          "ternary": {
           "aaxis": {
            "gridcolor": "white",
            "linecolor": "white",
            "ticks": ""
           },
           "baxis": {
            "gridcolor": "white",
            "linecolor": "white",
            "ticks": ""
           },
           "bgcolor": "#E5ECF6",
           "caxis": {
            "gridcolor": "white",
            "linecolor": "white",
            "ticks": ""
           }
          },
          "title": {
           "x": 0.05
          },
          "xaxis": {
           "automargin": true,
           "gridcolor": "white",
           "linecolor": "white",
           "ticks": "",
           "title": {
            "standoff": 15
           },
           "zerolinecolor": "white",
           "zerolinewidth": 2
          },
          "yaxis": {
           "automargin": true,
           "gridcolor": "white",
           "linecolor": "white",
           "ticks": "",
           "title": {
            "standoff": 15
           },
           "zerolinecolor": "white",
           "zerolinewidth": 2
          }
         }
        },
        "title": {
         "text": "Document Distribution by Topics"
        },
        "xaxis": {
         "anchor": "y",
         "domain": [
          0,
          1
         ],
         "title": {
          "text": "Topic"
         }
        },
        "yaxis": {
         "anchor": "x",
         "domain": [
          0,
          1
         ],
         "title": {
          "text": "Documents"
         }
        }
       }
      },
      "text/html": [
       "<div>\n",
       "        \n",
       "        \n",
       "            <div id=\"747bb766-602a-4f4b-a1d6-269deae438ee\" class=\"plotly-graph-div\" style=\"height:525px; width:100%;\"></div>\n",
       "            <script type=\"text/javascript\">\n",
       "                require([\"plotly\"], function(Plotly) {\n",
       "                    window.PLOTLYENV=window.PLOTLYENV || {};\n",
       "                    \n",
       "                if (document.getElementById(\"747bb766-602a-4f4b-a1d6-269deae438ee\")) {\n",
       "                    Plotly.newPlot(\n",
       "                        '747bb766-602a-4f4b-a1d6-269deae438ee',\n",
       "                        [{\"alignmentgroup\": \"True\", \"customdata\": [[\"loan, farmer, also, farm, rice, use, small, land, area, many\"], [\"business, sell, loan, year, product, work, home, help, make, use\"], [\"business, loan, child, year, sell, school, buy, family, able, old\"], [\"water, high, computer, milk, must, problem, bag, economy, come, banana\"]], \"hoverlabel\": {\"namelength\": 0}, \"hovertemplate\": \"Topic=%{x}<br>Documents=%{y}<br>Keyword=%{customdata[0]}\", \"legendgroup\": \"\", \"marker\": {\"color\": \"#636efa\"}, \"name\": \"\", \"offsetgroup\": \"\", \"orientation\": \"v\", \"showlegend\": false, \"textposition\": \"auto\", \"type\": \"bar\", \"x\": [\"Topic 0\", \"Topic 1\", \"Topic 2\", \"Topic 3\"], \"xaxis\": \"x\", \"y\": [45, 238, 713, 4], \"yaxis\": \"y\"}],\n",
       "                        {\"barmode\": \"relative\", \"legend\": {\"tracegroupgap\": 0}, \"template\": {\"data\": {\"bar\": [{\"error_x\": {\"color\": \"#2a3f5f\"}, \"error_y\": {\"color\": \"#2a3f5f\"}, \"marker\": {\"line\": {\"color\": \"#E5ECF6\", \"width\": 0.5}}, \"type\": \"bar\"}], \"barpolar\": [{\"marker\": {\"line\": {\"color\": \"#E5ECF6\", \"width\": 0.5}}, \"type\": \"barpolar\"}], \"carpet\": [{\"aaxis\": {\"endlinecolor\": \"#2a3f5f\", \"gridcolor\": \"white\", \"linecolor\": \"white\", \"minorgridcolor\": \"white\", \"startlinecolor\": \"#2a3f5f\"}, \"baxis\": {\"endlinecolor\": \"#2a3f5f\", \"gridcolor\": \"white\", \"linecolor\": \"white\", \"minorgridcolor\": \"white\", \"startlinecolor\": \"#2a3f5f\"}, \"type\": \"carpet\"}], \"choropleth\": [{\"colorbar\": {\"outlinewidth\": 0, \"ticks\": \"\"}, \"type\": \"choropleth\"}], \"contour\": [{\"colorbar\": {\"outlinewidth\": 0, \"ticks\": \"\"}, \"colorscale\": [[0.0, \"#0d0887\"], [0.1111111111111111, \"#46039f\"], [0.2222222222222222, \"#7201a8\"], [0.3333333333333333, \"#9c179e\"], [0.4444444444444444, \"#bd3786\"], [0.5555555555555556, \"#d8576b\"], [0.6666666666666666, \"#ed7953\"], [0.7777777777777778, \"#fb9f3a\"], [0.8888888888888888, \"#fdca26\"], [1.0, \"#f0f921\"]], \"type\": \"contour\"}], \"contourcarpet\": [{\"colorbar\": {\"outlinewidth\": 0, \"ticks\": \"\"}, \"type\": \"contourcarpet\"}], \"heatmap\": [{\"colorbar\": {\"outlinewidth\": 0, \"ticks\": \"\"}, \"colorscale\": [[0.0, \"#0d0887\"], [0.1111111111111111, \"#46039f\"], [0.2222222222222222, \"#7201a8\"], [0.3333333333333333, \"#9c179e\"], [0.4444444444444444, \"#bd3786\"], [0.5555555555555556, \"#d8576b\"], [0.6666666666666666, \"#ed7953\"], [0.7777777777777778, \"#fb9f3a\"], [0.8888888888888888, \"#fdca26\"], [1.0, \"#f0f921\"]], \"type\": \"heatmap\"}], \"heatmapgl\": [{\"colorbar\": {\"outlinewidth\": 0, \"ticks\": \"\"}, \"colorscale\": [[0.0, \"#0d0887\"], [0.1111111111111111, \"#46039f\"], [0.2222222222222222, \"#7201a8\"], [0.3333333333333333, \"#9c179e\"], [0.4444444444444444, \"#bd3786\"], [0.5555555555555556, \"#d8576b\"], [0.6666666666666666, \"#ed7953\"], [0.7777777777777778, \"#fb9f3a\"], [0.8888888888888888, \"#fdca26\"], [1.0, \"#f0f921\"]], \"type\": \"heatmapgl\"}], \"histogram\": [{\"marker\": {\"colorbar\": {\"outlinewidth\": 0, \"ticks\": \"\"}}, \"type\": \"histogram\"}], \"histogram2d\": [{\"colorbar\": {\"outlinewidth\": 0, \"ticks\": \"\"}, \"colorscale\": [[0.0, \"#0d0887\"], [0.1111111111111111, \"#46039f\"], [0.2222222222222222, \"#7201a8\"], [0.3333333333333333, \"#9c179e\"], [0.4444444444444444, \"#bd3786\"], [0.5555555555555556, \"#d8576b\"], [0.6666666666666666, \"#ed7953\"], [0.7777777777777778, \"#fb9f3a\"], [0.8888888888888888, \"#fdca26\"], [1.0, \"#f0f921\"]], \"type\": \"histogram2d\"}], \"histogram2dcontour\": [{\"colorbar\": {\"outlinewidth\": 0, \"ticks\": \"\"}, \"colorscale\": [[0.0, \"#0d0887\"], [0.1111111111111111, \"#46039f\"], [0.2222222222222222, \"#7201a8\"], [0.3333333333333333, \"#9c179e\"], [0.4444444444444444, \"#bd3786\"], [0.5555555555555556, \"#d8576b\"], [0.6666666666666666, \"#ed7953\"], [0.7777777777777778, \"#fb9f3a\"], [0.8888888888888888, \"#fdca26\"], [1.0, \"#f0f921\"]], \"type\": \"histogram2dcontour\"}], \"mesh3d\": [{\"colorbar\": {\"outlinewidth\": 0, \"ticks\": \"\"}, \"type\": \"mesh3d\"}], \"parcoords\": [{\"line\": {\"colorbar\": {\"outlinewidth\": 0, \"ticks\": \"\"}}, \"type\": \"parcoords\"}], \"pie\": [{\"automargin\": true, \"type\": \"pie\"}], \"scatter\": [{\"marker\": {\"colorbar\": {\"outlinewidth\": 0, \"ticks\": \"\"}}, \"type\": \"scatter\"}], \"scatter3d\": [{\"line\": {\"colorbar\": {\"outlinewidth\": 0, \"ticks\": \"\"}}, \"marker\": {\"colorbar\": {\"outlinewidth\": 0, \"ticks\": \"\"}}, \"type\": \"scatter3d\"}], \"scattercarpet\": [{\"marker\": {\"colorbar\": {\"outlinewidth\": 0, \"ticks\": \"\"}}, \"type\": \"scattercarpet\"}], \"scattergeo\": [{\"marker\": {\"colorbar\": {\"outlinewidth\": 0, \"ticks\": \"\"}}, \"type\": \"scattergeo\"}], \"scattergl\": [{\"marker\": {\"colorbar\": {\"outlinewidth\": 0, \"ticks\": \"\"}}, \"type\": \"scattergl\"}], \"scattermapbox\": [{\"marker\": {\"colorbar\": {\"outlinewidth\": 0, \"ticks\": \"\"}}, \"type\": \"scattermapbox\"}], \"scatterpolar\": [{\"marker\": {\"colorbar\": {\"outlinewidth\": 0, \"ticks\": \"\"}}, \"type\": \"scatterpolar\"}], \"scatterpolargl\": [{\"marker\": {\"colorbar\": {\"outlinewidth\": 0, \"ticks\": \"\"}}, \"type\": \"scatterpolargl\"}], \"scatterternary\": [{\"marker\": {\"colorbar\": {\"outlinewidth\": 0, \"ticks\": \"\"}}, \"type\": \"scatterternary\"}], \"surface\": [{\"colorbar\": {\"outlinewidth\": 0, \"ticks\": \"\"}, \"colorscale\": [[0.0, \"#0d0887\"], [0.1111111111111111, \"#46039f\"], [0.2222222222222222, \"#7201a8\"], [0.3333333333333333, \"#9c179e\"], [0.4444444444444444, \"#bd3786\"], [0.5555555555555556, \"#d8576b\"], [0.6666666666666666, \"#ed7953\"], [0.7777777777777778, \"#fb9f3a\"], [0.8888888888888888, \"#fdca26\"], [1.0, \"#f0f921\"]], \"type\": \"surface\"}], \"table\": [{\"cells\": {\"fill\": {\"color\": \"#EBF0F8\"}, \"line\": {\"color\": \"white\"}}, \"header\": {\"fill\": {\"color\": \"#C8D4E3\"}, \"line\": {\"color\": \"white\"}}, \"type\": \"table\"}]}, \"layout\": {\"annotationdefaults\": {\"arrowcolor\": \"#2a3f5f\", \"arrowhead\": 0, \"arrowwidth\": 1}, \"coloraxis\": {\"colorbar\": {\"outlinewidth\": 0, \"ticks\": \"\"}}, \"colorscale\": {\"diverging\": [[0, \"#8e0152\"], [0.1, \"#c51b7d\"], [0.2, \"#de77ae\"], [0.3, \"#f1b6da\"], [0.4, \"#fde0ef\"], [0.5, \"#f7f7f7\"], [0.6, \"#e6f5d0\"], [0.7, \"#b8e186\"], [0.8, \"#7fbc41\"], [0.9, \"#4d9221\"], [1, \"#276419\"]], \"sequential\": [[0.0, \"#0d0887\"], [0.1111111111111111, \"#46039f\"], [0.2222222222222222, \"#7201a8\"], [0.3333333333333333, \"#9c179e\"], [0.4444444444444444, \"#bd3786\"], [0.5555555555555556, \"#d8576b\"], [0.6666666666666666, \"#ed7953\"], [0.7777777777777778, \"#fb9f3a\"], [0.8888888888888888, \"#fdca26\"], [1.0, \"#f0f921\"]], \"sequentialminus\": [[0.0, \"#0d0887\"], [0.1111111111111111, \"#46039f\"], [0.2222222222222222, \"#7201a8\"], [0.3333333333333333, \"#9c179e\"], [0.4444444444444444, \"#bd3786\"], [0.5555555555555556, \"#d8576b\"], [0.6666666666666666, \"#ed7953\"], [0.7777777777777778, \"#fb9f3a\"], [0.8888888888888888, \"#fdca26\"], [1.0, \"#f0f921\"]]}, \"colorway\": [\"#636efa\", \"#EF553B\", \"#00cc96\", \"#ab63fa\", \"#FFA15A\", \"#19d3f3\", \"#FF6692\", \"#B6E880\", \"#FF97FF\", \"#FECB52\"], \"font\": {\"color\": \"#2a3f5f\"}, \"geo\": {\"bgcolor\": \"white\", \"lakecolor\": \"white\", \"landcolor\": \"#E5ECF6\", \"showlakes\": true, \"showland\": true, \"subunitcolor\": \"white\"}, \"hoverlabel\": {\"align\": \"left\"}, \"hovermode\": \"closest\", \"mapbox\": {\"style\": \"light\"}, \"paper_bgcolor\": \"white\", \"plot_bgcolor\": \"#E5ECF6\", \"polar\": {\"angularaxis\": {\"gridcolor\": \"white\", \"linecolor\": \"white\", \"ticks\": \"\"}, \"bgcolor\": \"#E5ECF6\", \"radialaxis\": {\"gridcolor\": \"white\", \"linecolor\": \"white\", \"ticks\": \"\"}}, \"scene\": {\"xaxis\": {\"backgroundcolor\": \"#E5ECF6\", \"gridcolor\": \"white\", \"gridwidth\": 2, \"linecolor\": \"white\", \"showbackground\": true, \"ticks\": \"\", \"zerolinecolor\": \"white\"}, \"yaxis\": {\"backgroundcolor\": \"#E5ECF6\", \"gridcolor\": \"white\", \"gridwidth\": 2, \"linecolor\": \"white\", \"showbackground\": true, \"ticks\": \"\", \"zerolinecolor\": \"white\"}, \"zaxis\": {\"backgroundcolor\": \"#E5ECF6\", \"gridcolor\": \"white\", \"gridwidth\": 2, \"linecolor\": \"white\", \"showbackground\": true, \"ticks\": \"\", \"zerolinecolor\": \"white\"}}, \"shapedefaults\": {\"line\": {\"color\": \"#2a3f5f\"}}, \"ternary\": {\"aaxis\": {\"gridcolor\": \"white\", \"linecolor\": \"white\", \"ticks\": \"\"}, \"baxis\": {\"gridcolor\": \"white\", \"linecolor\": \"white\", \"ticks\": \"\"}, \"bgcolor\": \"#E5ECF6\", \"caxis\": {\"gridcolor\": \"white\", \"linecolor\": \"white\", \"ticks\": \"\"}}, \"title\": {\"x\": 0.05}, \"xaxis\": {\"automargin\": true, \"gridcolor\": \"white\", \"linecolor\": \"white\", \"ticks\": \"\", \"title\": {\"standoff\": 15}, \"zerolinecolor\": \"white\", \"zerolinewidth\": 2}, \"yaxis\": {\"automargin\": true, \"gridcolor\": \"white\", \"linecolor\": \"white\", \"ticks\": \"\", \"title\": {\"standoff\": 15}, \"zerolinecolor\": \"white\", \"zerolinewidth\": 2}}}, \"title\": {\"text\": \"Document Distribution by Topics\"}, \"xaxis\": {\"anchor\": \"y\", \"domain\": [0.0, 1.0], \"title\": {\"text\": \"Topic\"}}, \"yaxis\": {\"anchor\": \"x\", \"domain\": [0.0, 1.0], \"title\": {\"text\": \"Documents\"}}},\n",
       "                        {\"responsive\": true}\n",
       "                    ).then(function(){\n",
       "                            \n",
       "var gd = document.getElementById('747bb766-602a-4f4b-a1d6-269deae438ee');\n",
       "var x = new MutationObserver(function (mutations, observer) {{\n",
       "        var display = window.getComputedStyle(gd).display;\n",
       "        if (!display || display === 'none') {{\n",
       "            console.log([gd, 'removed!']);\n",
       "            Plotly.purge(gd);\n",
       "            observer.disconnect();\n",
       "        }}\n",
       "}});\n",
       "\n",
       "// Listen for the removal of the full notebook cells\n",
       "var notebookContainer = gd.closest('#notebook-container');\n",
       "if (notebookContainer) {{\n",
       "    x.observe(notebookContainer, {childList: true});\n",
       "}}\n",
       "\n",
       "// Listen for the clearing of the current output cell\n",
       "var outputEl = gd.closest('.output');\n",
       "if (outputEl) {{\n",
       "    x.observe(outputEl, {childList: true});\n",
       "}}\n",
       "\n",
       "                        })\n",
       "                };\n",
       "                });\n",
       "            </script>\n",
       "        </div>"
      ]
     },
     "metadata": {},
     "output_type": "display_data"
    }
   ],
   "source": [
    "plot_model(lda, plot = 'topic_distribution')"
   ]
  },
  {
   "cell_type": "code",
   "execution_count": 15,
   "metadata": {},
   "outputs": [
    {
     "data": {
      "text/html": [
       "        <script type=\"text/javascript\">\n",
       "        window.PlotlyConfig = {MathJaxConfig: 'local'};\n",
       "        if (window.MathJax) {MathJax.Hub.Config({SVG: {font: \"STIX-Web\"}});}\n",
       "        if (typeof require !== 'undefined') {\n",
       "        require.undef(\"plotly\");\n",
       "        requirejs.config({\n",
       "            paths: {\n",
       "                'plotly': ['https://cdn.plot.ly/plotly-latest.min']\n",
       "            }\n",
       "        });\n",
       "        require(['plotly'], function(Plotly) {\n",
       "            window._Plotly = Plotly;\n",
       "        });\n",
       "        }\n",
       "        </script>\n",
       "        "
      ]
     },
     "metadata": {},
     "output_type": "display_data"
    },
    {
     "data": {
      "application/vnd.plotly.v1+json": {
       "config": {
        "plotlyServerURL": "https://plot.ly"
       },
       "data": [
        {
         "hoverlabel": {
          "namelength": 0
         },
         "hovertemplate": "Dominant_Topic=Topic 0<br>0=%{x}<br>1=%{y}<br>2=%{z}",
         "legendgroup": "Dominant_Topic=Topic 0",
         "marker": {
          "color": "#636efa",
          "opacity": 0.7,
          "symbol": "circle"
         },
         "mode": "markers",
         "name": "Dominant_Topic=Topic 0",
         "scene": "scene",
         "showlegend": true,
         "type": "scatter3d",
         "x": [
          8.997366905212402,
          9.412686347961426,
          4.407586097717285,
          9.34566879272461,
          8.27720832824707,
          9.686524391174316,
          8.146326065063477,
          9.653964042663574,
          4.41333532333374,
          7.819936275482178,
          9.278473854064941,
          5.199081897735596,
          9.422155380249023,
          7.823430061340332,
          9.079663276672363,
          8.104248046875,
          9.11059284210205,
          8.922628402709961,
          8.092208862304688,
          9.262609481811523,
          7.828670024871826,
          9.66551399230957,
          7.86643648147583,
          9.550520896911621,
          8.025683403015137,
          8.792067527770996,
          9.079423904418945,
          9.58523941040039,
          7.923698425292969,
          8.447020530700684,
          8.95783519744873,
          7.898143768310547,
          9.589873313903809,
          8.952610969543457,
          8.83423900604248,
          8.132015228271484,
          9.514399528503418,
          5.966135025024414,
          7.814086437225342,
          7.8169684410095215,
          7.51877498626709,
          8.833528518676758,
          9.289528846740723,
          8.262323379516602,
          6.102834701538086
         ],
         "y": [
          -5.105642795562744,
          -5.205825328826904,
          -4.149407386779785,
          -4.7373881340026855,
          -5.485618591308594,
          -5.185085296630859,
          -5.557745456695557,
          -4.965277194976807,
          -4.151126384735107,
          -6.023341655731201,
          -5.423545837402344,
          -5.03856086730957,
          -5.018034934997559,
          -6.102020740509033,
          -4.592785358428955,
          -5.585861682891846,
          -4.637548923492432,
          -5.056573867797852,
          -5.591269016265869,
          -5.425929546356201,
          -5.909066677093506,
          -5.078699588775635,
          -5.962629318237305,
          -5.315699577331543,
          -5.660608768463135,
          -4.911100387573242,
          -5.181853294372559,
          -4.682387828826904,
          -5.737748622894287,
          -5.392524719238281,
          -4.703203201293945,
          -5.905492305755615,
          -4.700261116027832,
          -5.197312831878662,
          -5.200379848480225,
          -5.570218086242676,
          -4.655771732330322,
          -6.470082759857178,
          -6.13953161239624,
          -6.086097717285156,
          -6.2087931632995605,
          -5.134428977966309,
          -4.980122089385986,
          -5.4941301345825195,
          -5.632813930511475
         ],
         "z": [
          5.990355968475342,
          6.904907703399658,
          3.8042118549346924,
          6.886903285980225,
          4.5905070304870605,
          6.541407585144043,
          4.30574369430542,
          6.3017578125,
          3.8087520599365234,
          2.6703977584838867,
          6.584085464477539,
          2.125439405441284,
          6.083218097686768,
          2.4255893230438232,
          6.439932346343994,
          4.197348594665527,
          6.693354606628418,
          6.760195732116699,
          4.174910068511963,
          6.535866737365723,
          3.0297253131866455,
          6.755433559417725,
          2.8830177783966064,
          6.409544467926025,
          3.9206955432891846,
          6.460550785064697,
          6.861536502838135,
          6.434901237487793,
          3.6190202236175537,
          4.948633670806885,
          6.248363494873047,
          3.0803611278533936,
          6.403398513793945,
          5.85128116607666,
          5.710550785064697,
          4.259402275085449,
          6.706380367279053,
          2.580730676651001,
          2.2893545627593994,
          2.4750914573669434,
          2.2175791263580322,
          6.31577730178833,
          6.974148750305176,
          4.5547590255737305,
          3.2949728965759277
         ]
        },
        {
         "hoverlabel": {
          "namelength": 0
         },
         "hovertemplate": "Dominant_Topic=Topic 1<br>0=%{x}<br>1=%{y}<br>2=%{z}",
         "legendgroup": "Dominant_Topic=Topic 1",
         "marker": {
          "color": "#EF553B",
          "opacity": 0.7,
          "symbol": "circle"
         },
         "mode": "markers",
         "name": "Dominant_Topic=Topic 1",
         "scene": "scene",
         "showlegend": true,
         "type": "scatter3d",
         "x": [
          0.20874199271202087,
          -1.6698791980743408,
          0.2758411765098572,
          -0.20077776908874512,
          -2.067181348800659,
          8.988018035888672,
          8.1817626953125,
          7.544647216796875,
          -0.861717164516449,
          0.03232283890247345,
          2.738832712173462,
          4.445051193237305,
          7.0196099281311035,
          0.5477749705314636,
          -0.49489256739616394,
          -0.314556747674942,
          -2.8556411266326904,
          -2.5326082706451416,
          -0.6099932789802551,
          -1.1249330043792725,
          -2.4356586933135986,
          1.6385483741760254,
          6.043238639831543,
          -0.2775692939758301,
          8.689972877502441,
          2.4340660572052,
          8.514606475830078,
          3.160513401031494,
          -2.4471209049224854,
          -2.4431114196777344,
          -3.173114776611328,
          -2.7677595615386963,
          -3.1989498138427734,
          -0.4716629981994629,
          -2.4366633892059326,
          -2.369987726211548,
          -0.4870075583457947,
          -2.842064380645752,
          -2.921311855316162,
          -3.3689846992492676,
          -2.061263084411621,
          -2.432663679122925,
          0.21118740737438202,
          5.484628677368164,
          3.40224289894104,
          3.9512672424316406,
          -2.7423460483551025,
          6.729315757751465,
          -2.564788818359375,
          -2.2067806720733643,
          -0.16341234743595123,
          -0.2231578528881073,
          -3.1180503368377686,
          8.371986389160156,
          6.580211162567139,
          -1.1137959957122803,
          -2.603414297103882,
          3.160914182662964,
          -2.6514976024627686,
          4.073994159698486,
          3.5152318477630615,
          8.656417846679688,
          -2.6780126094818115,
          0.4695115387439728,
          5.765011787414551,
          2.989835262298584,
          -2.8495194911956787,
          5.390105247497559,
          0.30905812978744507,
          -1.627700924873352,
          -1.0987251996994019,
          -1.611748456954956,
          -1.080466389656067,
          5.469179153442383,
          8.646668434143066,
          1.5398237705230713,
          3.753391981124878,
          1.6045869588851929,
          2.0303592681884766,
          -0.4123867154121399,
          -2.0794503688812256,
          -2.789459228515625,
          -2.1247448921203613,
          1.4982028007507324,
          -2.5901150703430176,
          -2.1586155891418457,
          -2.479506254196167,
          8.09598159790039,
          3.1272592544555664,
          7.789158344268799,
          6.677449703216553,
          -1.8181041479110718,
          0.5049271583557129,
          3.8559114933013916,
          8.37641429901123,
          0.616761326789856,
          0.024702882394194603,
          0.3117675185203552,
          -2.0449187755584717,
          -2.358531951904297,
          -0.6127206087112427,
          -2.6714539527893066,
          2.328707456588745,
          -0.9667550921440125,
          4.499169826507568,
          -1.0305817127227783,
          -3.0381667613983154,
          -2.2943062782287598,
          -2.4532690048217773,
          2.0342257022857666,
          -1.5858815908432007,
          8.344977378845215,
          6.389063358306885,
          -2.5378153324127197,
          2.150204658508301,
          -0.41339704394340515,
          -2.6166110038757324,
          1.8741577863693237,
          6.398258209228516,
          2.210890054702759,
          -3.0310351848602295,
          -2.2988460063934326,
          -2.232944965362549,
          8.142658233642578,
          7.279238700866699,
          0.1382111757993698,
          -2.7938809394836426,
          -2.3014438152313232,
          -0.2693733274936676,
          -3.251011610031128,
          -2.2660577297210693,
          -2.6162800788879395,
          -2.1817073822021484,
          8.349892616271973,
          8.409584045410156,
          6.003870010375977,
          -1.6399201154708862,
          6.3230509757995605,
          -2.146304130554199,
          -1.523785948753357,
          6.921806335449219,
          0.22183948755264282,
          -2.3535752296447754,
          6.469267845153809,
          3.927138566970825,
          -1.8838319778442383,
          6.7250542640686035,
          1.3665615320205688,
          1.7030881643295288,
          -1.2326353788375854,
          -1.2579904794692993,
          -2.4359045028686523,
          -2.2754015922546387,
          -3.1112442016601562,
          -0.7090768218040466,
          -0.9617337584495544,
          -2.591458797454834,
          1.518101692199707,
          8.306495666503906,
          0.038277894258499146,
          2.171661615371704,
          6.334635257720947,
          4.888014316558838,
          -2.0247435569763184,
          -0.774202287197113,
          7.678192615509033,
          -2.272402048110962,
          -2.438807964324951,
          0.8472761511802673,
          -3.2480835914611816,
          -2.192282199859619,
          2.432995319366455,
          -0.9231196641921997,
          -0.7433080673217773,
          5.280591011047363,
          -0.2524084746837616,
          7.015537738800049,
          -2.3680789470672607,
          -3.220141649246216,
          -0.13954326510429382,
          -1.436330795288086,
          -2.4163050651550293,
          0.9677900075912476,
          7.980000019073486,
          6.592051982879639,
          -2.5766241550445557,
          8.362585067749023,
          -1.6206133365631104,
          -1.5293190479278564,
          4.211967945098877,
          -1.267303705215454,
          -3.0865323543548584,
          -0.28764617443084717,
          -2.6238057613372803,
          -2.2116661071777344,
          -3.419393539428711,
          -0.6638501286506653,
          1.508989691734314,
          -0.25342097878456116,
          -8.91624641418457,
          -0.20856313407421112,
          6.259335994720459,
          6.144556045532227,
          4.315807819366455,
          -2.894477605819702,
          3.8140316009521484,
          5.466814994812012,
          8.640888214111328,
          -2.9479897022247314,
          -1.4206743240356445,
          2.135464668273926,
          -2.0623741149902344,
          3.6125171184539795,
          3.3463072776794434,
          -1.9788920879364014,
          4.191222190856934,
          1.3041492700576782,
          -2.3689017295837402,
          -0.0969630777835846,
          0.9223917722702026,
          -1.4778128862380981,
          0.48911532759666443,
          -2.1172988414764404,
          1.6760218143463135,
          4.222582817077637,
          3.2140238285064697,
          8.067352294921875,
          7.203489780426025,
          3.566842794418335,
          -0.4582182466983795,
          -1.1236852407455444,
          -0.3120908737182617,
          -0.3471631407737732,
          -2.555934429168701,
          3.3071179389953613,
          -2.572103500366211,
          -0.5424901247024536,
          3.6070969104766846
         ],
         "y": [
          4.70805025100708,
          -0.4014657437801361,
          6.761518955230713,
          1.02211332321167,
          2.4925084114074707,
          11.983848571777344,
          12.149418830871582,
          11.585418701171875,
          5.70579195022583,
          6.868160724639893,
          8.468550682067871,
          9.326740264892578,
          11.161714553833008,
          7.148458480834961,
          3.7302675247192383,
          1.1935334205627441,
          -4.630743503570557,
          -4.6936163902282715,
          0.4195765554904938,
          5.24583101272583,
          -1.5372097492218018,
          7.851011276245117,
          10.507107734680176,
          6.445443630218506,
          12.391303062438965,
          8.318456649780273,
          12.314537048339844,
          7.210844039916992,
          -1.9045755863189697,
          -1.848053216934204,
          -5.323094844818115,
          -4.315508842468262,
          -5.332719802856445,
          0.6015405058860779,
          -2.534658670425415,
          -0.4836058020591736,
          3.7268974781036377,
          -1.5126997232437134,
          -4.804662227630615,
          -5.566157817840576,
          1.7833865880966187,
          -2.4043283462524414,
          7.010056972503662,
          10.000946998596191,
          8.739370346069336,
          6.004831314086914,
          -4.178502559661865,
          10.996888160705566,
          -2.091987371444702,
          1.2029500007629395,
          0.8880351185798645,
          1.0871073007583618,
          -5.38519811630249,
          12.31910514831543,
          10.744852066040039,
          5.266727924346924,
          -3.220118284225464,
          8.666631698608398,
          -3.600144624710083,
          9.093273162841797,
          8.799445152282715,
          12.461222648620605,
          -3.7705881595611572,
          6.795124053955078,
          10.174858093261719,
          8.59122371673584,
          -4.626988410949707,
          9.939935684204102,
          7.116507530212402,
          0.013788484036922455,
          5.314634799957275,
          3.9767279624938965,
          5.333755016326904,
          9.992338180541992,
          12.32419490814209,
          2.574068069458008,
          8.909723281860352,
          7.824852466583252,
          8.111979484558105,
          6.289149761199951,
          2.443429470062256,
          -4.420406818389893,
          2.3655667304992676,
          2.5366275310516357,
          -3.1451964378356934,
          1.8218992948532104,
          -5.052666664123535,
          11.965119361877441,
          8.642692565917969,
          11.805390357971191,
          10.658414840698242,
          1.8084652423858643,
          7.093294143676758,
          6.089607238769531,
          10.140996932983398,
          7.196951866149902,
          5.494570255279541,
          6.7781453132629395,
          2.371380567550659,
          -0.24824364483356476,
          3.531109571456909,
          -3.736384391784668,
          8.27031135559082,
          5.524320602416992,
          9.361956596374512,
          5.421587944030762,
          -5.085093021392822,
          0.426508367061615,
          -1.92788827419281,
          8.084945678710938,
          1.690233826637268,
          10.27830982208252,
          10.914885520935059,
          -2.5484871864318848,
          8.162382125854492,
          6.263247966766357,
          -2.4477832317352295,
          7.998852729797363,
          10.39037036895752,
          8.220393180847168,
          -5.280124664306641,
          0.4010569155216217,
          0.9152899980545044,
          12.105081558227539,
          11.379572868347168,
          6.822535991668701,
          -4.436735153198242,
          -1.9088770151138306,
          6.443552017211914,
          -5.425156593322754,
          0.6982985138893127,
          -3.337163209915161,
          -4.585246562957764,
          12.3499755859375,
          11.562263488769531,
          10.354462623596191,
          3.855466604232788,
          10.585540771484375,
          2.2551252841949463,
          4.247709274291992,
          11.110060691833496,
          6.608469486236572,
          -0.27116501331329346,
          10.451486587524414,
          9.004034042358398,
          3.0271177291870117,
          10.841660499572754,
          7.663568019866943,
          7.895625114440918,
          -6.270205974578857,
          4.9011054039001465,
          -1.5619158744812012,
          0.6725814342498779,
          -5.2098236083984375,
          5.9144439697265625,
          -6.234757900238037,
          -3.150233507156372,
          7.75885534286499,
          11.622185707092285,
          7.003656387329102,
          8.152552604675293,
          10.666574478149414,
          9.610572814941406,
          2.4370248317718506,
          0.09990967065095901,
          11.708627700805664,
          0.6995875835418701,
          -1.6143425703048706,
          7.336800575256348,
          -5.389719009399414,
          1.7439353466033936,
          8.305719375610352,
          3.010467052459717,
          3.1640734672546387,
          9.864646911621094,
          0.831630527973175,
          10.691045761108398,
          -0.37398484349250793,
          -5.35312032699585,
          6.666158676147461,
          2.4933135509490967,
          -1.1298515796661377,
          7.4109344482421875,
          12.018238067626953,
          10.988561630249023,
          -2.822216033935547,
          12.135756492614746,
          2.4323904514312744,
          4.218233108520508,
          9.177284240722656,
          4.863435745239258,
          -5.150214195251465,
          4.812331676483154,
          -3.3940725326538086,
          1.430107593536377,
          -5.600718975067139,
          0.23510974645614624,
          2.543233633041382,
          6.545222282409668,
          14.8556489944458,
          1.6579152345657349,
          10.352521896362305,
          10.753558158874512,
          9.245898246765137,
          -4.717918395996094,
          5.998149394989014,
          9.991498947143555,
          12.349843978881836,
          -4.881609916687012,
          4.5388875007629395,
          7.520259380340576,
          -4.704345226287842,
          8.855274200439453,
          7.57503080368042,
          2.4750118255615234,
          9.178315162658691,
          7.639396667480469,
          -0.4014911949634552,
          6.463562965393066,
          7.3866496086120605,
          4.357444763183594,
          6.964863300323486,
          2.1315643787384033,
          7.887474536895752,
          9.189651489257812,
          7.198072910308838,
          11.981161117553711,
          11.287686347961426,
          8.82176399230957,
          0.6638561487197876,
          2.8280322551727295,
          6.4249186515808105,
          6.330986022949219,
          -2.3604114055633545,
          7.242343425750732,
          -2.839364767074585,
          6.123302936553955,
          7.866460800170898
         ],
         "z": [
          14.775421142578125,
          14.103482246398926,
          12.198591232299805,
          11.222787857055664,
          15.547054290771484,
          4.053603649139404,
          4.057973384857178,
          4.769112586975098,
          13.873467445373535,
          11.767778396606445,
          8.726826667785645,
          7.187267780303955,
          5.212366580963135,
          11.37880802154541,
          12.7319917678833,
          11.560835838317871,
          12.922286033630371,
          12.38613510131836,
          11.807637214660645,
          14.370753288269043,
          15.30525016784668,
          9.9359712600708,
          5.879614353179932,
          12.815167427062988,
          4.004938125610352,
          9.03756332397461,
          3.93975830078125,
          8.210836410522461,
          15.227851867675781,
          15.236669540405273,
          11.680633544921875,
          13.30397891998291,
          11.68871021270752,
          11.58747673034668,
          14.938603401184082,
          15.555122375488281,
          12.711577415466309,
          14.85643482208252,
          12.692880630493164,
          10.861946105957031,
          15.433477401733398,
          14.998213768005371,
          12.098861694335938,
          6.395669937133789,
          8.071234703063965,
          7.9014787673950195,
          13.45850944519043,
          5.487996578216553,
          15.103269577026367,
          15.71277904510498,
          11.074426651000977,
          11.304512023925781,
          11.237080574035645,
          3.963338613510132,
          5.316318035125732,
          14.355497360229492,
          14.409822463989258,
          8.316926956176758,
          14.071113586425781,
          7.479443550109863,
          7.9740681648254395,
          4.04535436630249,
          13.907488822937012,
          11.837015151977539,
          6.1719136238098145,
          8.477677345275879,
          12.922205924987793,
          6.46829080581665,
          11.769844055175781,
          14.189554214477539,
          14.315439224243164,
          15.116096496582031,
          14.293173789978027,
          6.409416198730469,
          4.256720542907715,
          14.836136817932129,
          7.75738525390625,
          9.981880187988281,
          9.462024688720703,
          12.984676361083984,
          15.561551094055176,
          13.181275367736816,
          15.602234840393066,
          14.857604026794434,
          14.463788986206055,
          15.71958065032959,
          10.93602180480957,
          4.318200588226318,
          8.346475601196289,
          4.568278789520264,
          5.81339168548584,
          15.07773208618164,
          11.425641059875488,
          7.954174995422363,
          4.807898998260498,
          11.281720161437988,
          11.953182220458984,
          11.596556663513184,
          15.571029663085938,
          15.61682415008545,
          12.944583892822266,
          13.938680648803711,
          9.144571304321289,
          14.09046459197998,
          7.144608974456787,
          14.202021598815918,
          12.209153175354004,
          15.679354667663574,
          15.197948455810547,
          9.464201927185059,
          15.795302391052246,
          4.7776947021484375,
          5.76997184753418,
          14.711338996887207,
          9.335077285766602,
          12.996009826660156,
          14.914576530456543,
          9.638261795043945,
          5.883196830749512,
          9.264021873474121,
          11.502758979797363,
          15.679661750793457,
          15.697585105895996,
          4.108612537384033,
          4.973859786987305,
          11.655804634094238,
          13.160544395446777,
          14.831676483154297,
          12.675962448120117,
          11.465824127197266,
          15.70398998260498,
          14.291329383850098,
          12.037671089172363,
          4.347970008850098,
          4.35720682144165,
          5.999806880950928,
          15.142541885375977,
          5.994817733764648,
          15.669633865356445,
          15.001498222351074,
          5.266384124755859,
          12.153839111328125,
          15.57304859161377,
          5.514720916748047,
          7.609292507171631,
          15.409683227539062,
          5.725522994995117,
          10.27985668182373,
          9.86086654663086,
          7.916943550109863,
          14.635013580322266,
          15.310199737548828,
          15.711010932922363,
          11.973955154418945,
          13.57390022277832,
          7.923794746398926,
          14.467724800109863,
          10.082304954528809,
          3.687911033630371,
          11.908876419067383,
          9.309212684631348,
          5.403352737426758,
          6.847061634063721,
          15.54232406616211,
          12.005206108093262,
          4.656182289123535,
          15.712182998657227,
          15.30456829071045,
          10.973349571228027,
          11.547782897949219,
          15.725184440612793,
          9.042470932006836,
          13.471999168395996,
          13.12332534790039,
          6.547186851501465,
          11.236383438110352,
          5.3346171379089355,
          15.59096908569336,
          11.645556449890137,
          12.150247573852539,
          14.463842391967773,
          15.42072868347168,
          10.815796852111816,
          4.427297115325928,
          5.397826671600342,
          14.694197654724121,
          4.444242000579834,
          15.615426063537598,
          15.012118339538574,
          7.371701240539551,
          14.660301208496094,
          12.112415313720703,
          14.714174270629883,
          14.251128196716309,
          15.728368759155273,
          10.711823463439941,
          11.804100036621094,
          14.850031852722168,
          12.495287895202637,
          9.638009071350098,
          11.574991226196289,
          5.696652412414551,
          5.6791205406188965,
          7.287815093994141,
          12.823331832885742,
          8.006539344787598,
          6.409087181091309,
          4.247635841369629,
          12.559538841247559,
          14.861169815063477,
          9.30859375,
          11.291449546813965,
          7.8914055824279785,
          7.994965076446533,
          15.516179084777832,
          7.394890785217285,
          10.36142349243164,
          15.526887893676758,
          12.575648307800293,
          10.869405746459961,
          14.947365760803223,
          11.708239555358887,
          15.71570110321045,
          9.894918441772461,
          7.366361618041992,
          8.15733814239502,
          4.353826522827148,
          5.058262348175049,
          7.926621913909912,
          11.597586631774902,
          15.587923049926758,
          12.827167510986328,
          12.85651969909668,
          15.062044143676758,
          8.060296058654785,
          14.700364112854004,
          13.254817008972168,
          6.953055381774902
         ]
        },
        {
         "hoverlabel": {
          "namelength": 0
         },
         "hovertemplate": "Dominant_Topic=Topic 2<br>0=%{x}<br>1=%{y}<br>2=%{z}",
         "legendgroup": "Dominant_Topic=Topic 2",
         "marker": {
          "color": "#00cc96",
          "opacity": 0.7,
          "symbol": "circle"
         },
         "mode": "markers",
         "name": "Dominant_Topic=Topic 2",
         "scene": "scene",
         "showlegend": true,
         "type": "scatter3d",
         "x": [
          3.178483009338379,
          3.2885913848876953,
          -5.017777442932129,
          2.327416181564331,
          2.857165813446045,
          -4.928812503814697,
          2.1437339782714844,
          7.305780410766602,
          -5.312701225280762,
          -2.382993459701538,
          2.6408896446228027,
          -4.374304294586182,
          -5.877997875213623,
          1.821793556213379,
          -1.3141940832138062,
          -5.73383903503418,
          5.240363597869873,
          -5.061923980712891,
          -2.120990037918091,
          -1.511454463005066,
          -3.372490167617798,
          -5.045364856719971,
          2.617607831954956,
          -4.018099308013916,
          -1.7384178638458252,
          -4.299863815307617,
          2.623560667037964,
          3.2620880603790283,
          -0.9469819664955139,
          -3.3996775150299072,
          -5.252976417541504,
          -4.533943176269531,
          -5.396208763122559,
          -2.1721506118774414,
          -5.247073650360107,
          -1.858539342880249,
          -5.1529412269592285,
          -3.113931179046631,
          -5.173628807067871,
          -5.200039386749268,
          -0.7874541282653809,
          2.862185478210449,
          2.123375415802002,
          -1.616294503211975,
          -1.6784342527389526,
          -5.297951698303223,
          -5.035665035247803,
          -2.175219774246216,
          -3.2009456157684326,
          -1.0008835792541504,
          3.3196282386779785,
          -0.8741560578346252,
          7.543962478637695,
          2.0067803859710693,
          -3.971820116043091,
          3.3559718132019043,
          -3.0410330295562744,
          5.701529026031494,
          -4.590788841247559,
          2.5512561798095703,
          -1.7419644594192505,
          -2.5140633583068848,
          6.698200225830078,
          -5.52719259262085,
          -4.121830463409424,
          -5.075124263763428,
          2.372851610183716,
          0.33212846517562866,
          -2.218169927597046,
          -5.316702842712402,
          -5.318863391876221,
          -5.059333801269531,
          -5.304102897644043,
          -2.5264437198638916,
          -5.330321788787842,
          4.751709938049316,
          -5.189545631408691,
          -5.260087490081787,
          1.4686768054962158,
          -5.2284111976623535,
          -1.7455140352249146,
          -5.376399517059326,
          2.8280086517333984,
          4.434597492218018,
          -5.292819499969482,
          2.7708873748779297,
          -3.690913677215576,
          -0.22655929625034332,
          0.652177631855011,
          -5.024730205535889,
          -1.892473816871643,
          -2.9145874977111816,
          -4.523243427276611,
          2.381416082382202,
          -2.001668691635132,
          -4.764211177825928,
          -5.324895858764648,
          -4.229239463806152,
          2.915588855743408,
          -4.920685768127441,
          -3.503413438796997,
          -4.042294979095459,
          -0.9843304753303528,
          0.7113749980926514,
          -1.643343448638916,
          -2.6301345825195312,
          -1.333838701248169,
          1.6268024444580078,
          4.141232967376709,
          2.259479522705078,
          -3.879772901535034,
          -1.9857470989227295,
          -5.297783374786377,
          -5.2816972732543945,
          -2.9100682735443115,
          -3.9055516719818115,
          6.914231300354004,
          0.13186845183372498,
          -3.6193735599517822,
          -5.465307235717773,
          1.0845420360565186,
          2.1806318759918213,
          -2.530332088470459,
          -3.932694435119629,
          1.7112234830856323,
          -2.87345552444458,
          0.777906060218811,
          2.3528573513031006,
          -4.407752513885498,
          -5.36769437789917,
          -5.474266052246094,
          -5.118872165679932,
          -3.5376453399658203,
          -1.5858221054077148,
          6.419119834899902,
          -1.1456257104873657,
          6.338778018951416,
          2.271124839782715,
          -4.751554012298584,
          -2.7702977657318115,
          2.9830849170684814,
          -2.875436782836914,
          -3.160984516143799,
          -1.122488021850586,
          -0.08781812340021133,
          0.8952946066856384,
          -5.404242992401123,
          -5.040253639221191,
          -4.631188869476318,
          -3.4853408336639404,
          -4.889544486999512,
          -5.327226161956787,
          -0.1868099719285965,
          -3.464611768722534,
          -1.267274260520935,
          -5.456822395324707,
          2.0906319618225098,
          -3.8727006912231445,
          -1.0300298929214478,
          1.4813717603683472,
          3.340325355529785,
          -5.441429138183594,
          2.3584635257720947,
          2.1307313442230225,
          -1.060054898262024,
          -4.516351699829102,
          1.9418686628341675,
          2.072831869125366,
          -5.214158058166504,
          -2.479616403579712,
          0.20130062103271484,
          -3.2925162315368652,
          -4.73710298538208,
          -3.551053524017334,
          -5.414766788482666,
          2.447618246078491,
          7.731807231903076,
          -0.8348705768585205,
          -4.166044235229492,
          -2.987203359603882,
          4.714134216308594,
          1.3199208974838257,
          -0.9438700675964355,
          -3.532356023788452,
          -5.465764999389648,
          -5.326115131378174,
          -2.5515265464782715,
          2.7733678817749023,
          2.270317316055298,
          2.3984811305999756,
          -4.78528356552124,
          -3.7102720737457275,
          1.765313982963562,
          -0.9222889542579651,
          0.42557159066200256,
          6.677075386047363,
          -2.135112762451172,
          -4.500438213348389,
          -0.7900491952896118,
          -5.300720691680908,
          -5.499397277832031,
          -2.5522470474243164,
          3.632316827774048,
          -5.357486724853516,
          6.814517498016357,
          2.4458649158477783,
          2.410872220993042,
          -2.4471237659454346,
          -1.6275230646133423,
          -4.950458526611328,
          5.540874004364014,
          -4.7804083824157715,
          -3.6911327838897705,
          5.430394649505615,
          -1.4808341264724731,
          -0.7199293971061707,
          -5.45999002456665,
          -1.2372695207595825,
          -2.6642403602600098,
          3.1000912189483643,
          -3.567523956298828,
          2.2590768337249756,
          -5.010489463806152,
          0.07828465104103088,
          0.8820770382881165,
          -5.3528313636779785,
          -4.895248889923096,
          6.968096733093262,
          -2.5508460998535156,
          -0.7612262964248657,
          -3.1456985473632812,
          -4.394277095794678,
          -1.3886274099349976,
          0.006263626739382744,
          -0.286350816488266,
          -1.2397733926773071,
          -3.5935187339782715,
          5.22804069519043,
          -0.4095546007156372,
          2.156144142150879,
          -4.88367223739624,
          -2.5311763286590576,
          -3.7205302715301514,
          -2.7286036014556885,
          -3.6070048809051514,
          1.3688690662384033,
          -4.442180156707764,
          -5.2643256187438965,
          -4.978193759918213,
          -4.806689739227295,
          2.354161500930786,
          1.5721126794815063,
          -5.138590335845947,
          -5.188412666320801,
          -5.349707126617432,
          -5.0292840003967285,
          -1.415610909461975,
          -5.534493923187256,
          7.634791374206543,
          -0.023532798513770103,
          -0.9350388646125793,
          -1.334591269493103,
          1.1854987144470215,
          -5.457885265350342,
          4.829601287841797,
          -1.8594927787780762,
          2.72102689743042,
          1.8575661182403564,
          -4.971111297607422,
          1.6042094230651855,
          -1.9361649751663208,
          0.8338296413421631,
          4.811764717102051,
          -0.9556043744087219,
          -5.415345668792725,
          -0.9481874704360962,
          -5.348324298858643,
          0.05773208662867546,
          -0.5437889695167542,
          -2.903658151626587,
          -1.173628807067871,
          2.3625035285949707,
          5.8552985191345215,
          0.49368834495544434,
          -2.4677319526672363,
          5.019115924835205,
          5.057127952575684,
          -5.366371154785156,
          -3.6034932136535645,
          5.301058292388916,
          4.780587673187256,
          -5.304112434387207,
          -3.768763542175293,
          -5.213537216186523,
          -2.5732007026672363,
          0.8495611548423767,
          -5.347114562988281,
          -0.0013149392325431108,
          1.0895847082138062,
          -4.9139018058776855,
          -4.217111110687256,
          2.3849942684173584,
          -5.544605731964111,
          -4.767694473266602,
          7.047554016113281,
          -4.881524085998535,
          0.7843640446662903,
          -5.416563034057617,
          -4.587966442108154,
          3.1260366439819336,
          7.573154926300049,
          -4.292401313781738,
          2.6498382091522217,
          1.8421074151992798,
          2.910480499267578,
          -2.4293477535247803,
          -5.535953044891357,
          5.827564239501953,
          -5.494513511657715,
          2.448406457901001,
          -5.906416416168213,
          -1.1293063163757324,
          -1.5905076265335083,
          2.0609686374664307,
          1.648650884628296,
          -3.1465647220611572,
          -5.042773246765137,
          7.63889741897583,
          -1.8741666078567505,
          -3.693582534790039,
          -4.992835998535156,
          -3.066258192062378,
          -3.069279432296753,
          1.130011796951294,
          1.152842402458191,
          0.06022688373923302,
          1.2645570039749146,
          -3.6788077354431152,
          1.941788911819458,
          2.4317080974578857,
          -1.0126099586486816,
          1.4309576749801636,
          -3.7061054706573486,
          -5.23478364944458,
          -2.9495890140533447,
          -4.286191463470459,
          7.703089237213135,
          -4.797709941864014,
          -4.810935020446777,
          5.3700151443481445,
          -3.651656150817871,
          -4.8357462882995605,
          3.2690863609313965,
          -4.792461395263672,
          6.636260032653809,
          2.039658546447754,
          0.17278477549552917,
          2.353426218032837,
          -1.4775168895721436,
          -0.047730423510074615,
          1.1722124814987183,
          -4.181496620178223,
          2.7198526859283447,
          1.0115792751312256,
          4.187787055969238,
          -1.1078894138336182,
          -3.6715188026428223,
          0.44079339504241943,
          -3.8984670639038086,
          -0.1679926961660385,
          -2.1016080379486084,
          3.339611053466797,
          -1.3757460117340088,
          -3.34592342376709,
          -5.104730606079102,
          2.5587055683135986,
          5.054943084716797,
          2.382117748260498,
          -5.5004682540893555,
          3.346514940261841,
          4.078071594238281,
          -3.643684148788452,
          -4.167235851287842,
          -5.346711158752441,
          1.2535336017608643,
          2.3228890895843506,
          -4.542620658874512,
          2.555619478225708,
          -5.3639726638793945,
          -1.8647880554199219,
          -5.509396076202393,
          -1.473934531211853,
          -0.5105359554290771,
          -0.7863609790802002,
          0.5534763932228088,
          -2.259073257446289,
          -3.878418445587158,
          7.151288986206055,
          -1.139582633972168,
          -4.7540507316589355,
          -2.5092406272888184,
          2.331174373626709,
          -5.514773845672607,
          2.487489938735962,
          3.189927101135254,
          6.93120813369751,
          2.2488973140716553,
          -1.1048481464385986,
          -5.282853603363037,
          -5.318099498748779,
          2.4984817504882812,
          -3.091205596923828,
          -1.7683488130569458,
          2.3648180961608887,
          -3.356963634490967,
          4.002508640289307,
          -5.5170440673828125,
          -5.424995422363281,
          -0.5914407968521118,
          -5.310248374938965,
          1.5878764390945435,
          -5.05836296081543,
          0.3151593506336212,
          2.51296329498291,
          -3.7021563053131104,
          -5.419754505157471,
          -5.003506660461426,
          3.391719341278076,
          -4.776338577270508,
          -4.847656726837158,
          -5.4070658683776855,
          -1.8312029838562012,
          -4.636419296264648,
          -5.337124347686768,
          3.02695631980896,
          -4.6992974281311035,
          -3.276531934738159,
          -3.775381088256836,
          -4.572792053222656,
          -5.1994547843933105,
          6.485051155090332,
          -4.468410015106201,
          2.5896787643432617,
          -5.535247802734375,
          0.1632804125547409,
          2.8924665451049805,
          3.105692148208618,
          0.6383339762687683,
          -5.354289531707764,
          -4.936680316925049,
          -3.79245662689209,
          2.0378665924072266,
          0.17509713768959045,
          2.712235450744629,
          5.141941070556641,
          -5.073736190795898,
          -1.2463059425354004,
          2.6950843334198,
          -3.411853551864624,
          -1.044791340827942,
          -1.8852864503860474,
          -5.271628379821777,
          -5.100890159606934,
          1.4125688076019287,
          -4.927138805389404,
          -5.882209300994873,
          -5.292941093444824,
          1.7907781600952148,
          -1.9206453561782837,
          -1.8164403438568115,
          -2.9476075172424316,
          2.462312698364258,
          -2.3803956508636475,
          -4.920259475708008,
          2.0424532890319824,
          -1.9739298820495605,
          2.741342306137085,
          5.225597381591797,
          -5.0862956047058105,
          -5.190351963043213,
          2.1882801055908203,
          -4.938153266906738,
          3.551813840866089,
          -2.7468178272247314,
          -1.8549507856369019,
          -3.4939699172973633,
          2.494964361190796,
          -0.9908438920974731,
          2.4366278648376465,
          -1.574000358581543,
          2.2759993076324463,
          5.104074001312256,
          -4.858392238616943,
          1.9381715059280396,
          -5.432950019836426,
          -0.11220727860927582,
          -1.1739698648452759,
          -4.774862766265869,
          -1.4122036695480347,
          -1.2129485607147217,
          -4.614485263824463,
          -3.673734664916992,
          -5.034721374511719,
          -3.806251287460327,
          2.245542049407959,
          5.424266815185547,
          -0.08752398937940598,
          -1.3273481130599976,
          6.3530049324035645,
          -2.2833290100097656,
          7.754368305206299,
          4.273026943206787,
          -2.8594002723693848,
          -5.4358015060424805,
          -4.143703460693359,
          3.235701560974121,
          -0.8606436252593994,
          -0.4532744586467743,
          5.107503414154053,
          -5.438492774963379,
          2.3641247749328613,
          -1.6320630311965942,
          6.007061958312988,
          -2.078524351119995,
          2.567030906677246,
          -4.958176136016846,
          1.5014289617538452,
          -5.277934551239014,
          -1.6127127408981323,
          1.4714668989181519,
          6.705887317657471,
          -1.550981879234314,
          1.6126723289489746,
          6.256244659423828,
          2.9347760677337646,
          6.371603965759277,
          -5.4954609870910645,
          2.3923747539520264,
          3.689297914505005,
          -4.386940956115723,
          2.3354599475860596,
          -2.4243600368499756,
          5.045154571533203,
          -2.311234712600708,
          -1.7044161558151245,
          1.374815821647644,
          2.661524772644043,
          2.032824993133545,
          -5.319551467895508,
          -5.300690174102783,
          -3.4375507831573486,
          -5.378440856933594,
          2.771333932876587,
          -2.4517135620117188,
          6.538054466247559,
          2.4739673137664795,
          1.8744522333145142,
          -5.486845970153809,
          -5.368969440460205,
          -4.112659454345703,
          -1.3882560729980469,
          7.680270671844482,
          -2.5246546268463135,
          2.4862637519836426,
          -0.7132547497749329,
          -4.138967037200928,
          2.7759058475494385,
          -4.809284687042236,
          1.6408474445343018,
          -4.213791370391846,
          -0.635148286819458,
          -5.349198818206787,
          -1.4041868448257446,
          -4.862091541290283,
          2.432612180709839,
          1.5390615463256836,
          -2.5597097873687744,
          2.4343364238739014,
          -4.687025547027588,
          2.8512327671051025,
          -5.461458206176758,
          -2.588402509689331,
          -5.360160827636719,
          -4.921660900115967,
          -5.535688877105713,
          -1.2576185464859009,
          3.096090078353882,
          -2.5014777183532715,
          -5.335464000701904,
          -1.3029786348342896,
          -1.8652660846710205,
          1.9668822288513184,
          -1.1018708944320679,
          0.4109761118888855,
          1.3319863080978394,
          -2.7912914752960205,
          -5.349200248718262,
          -1.9122180938720703,
          -1.1936368942260742,
          3.3327677249908447,
          2.6717073917388916,
          -1.913288950920105,
          -4.535175800323486,
          1.7915515899658203,
          7.4358015060424805,
          -5.306971073150635,
          -2.1222407817840576,
          -4.475341796875,
          -4.901357650756836,
          6.315975666046143,
          4.367250919342041,
          -2.761909246444702,
          0.7885598540306091,
          3.1144049167633057,
          -3.7509586811065674,
          4.235416889190674,
          -2.2759571075439453,
          -5.336575984954834,
          0.15787644684314728,
          -1.8692818880081177,
          0.4378508925437927,
          0.2208194136619568,
          2.015766143798828,
          2.8680145740509033,
          -4.33161735534668,
          7.787303924560547,
          -5.532112121582031,
          1.7256332635879517,
          -3.285135507583618,
          -5.084741592407227,
          -0.8641988635063171,
          -4.931129455566406,
          -1.8016200065612793,
          -3.3607137203216553,
          6.450157642364502,
          -5.340118408203125,
          2.006141185760498,
          -5.266781806945801,
          -5.272118091583252,
          1.8436737060546875,
          3.6433098316192627,
          -0.8457958102226257,
          -2.8317642211914062,
          -5.544126510620117,
          2.3743505477905273,
          7.069895267486572,
          -3.1272802352905273,
          -2.7947559356689453,
          -5.311840057373047,
          -5.112585067749023,
          -3.9090635776519775,
          -3.7485952377319336,
          -4.594474792480469,
          -4.941042900085449,
          -0.6433813571929932,
          -0.7088775038719177,
          -5.257848739624023,
          2.865129232406616,
          -4.456705093383789,
          4.124804496765137,
          2.5673434734344482,
          -0.8013754487037659,
          -5.2695465087890625,
          0.567707359790802,
          3.330092668533325,
          -1.6335769891738892,
          -5.393178462982178,
          -3.559274911880493,
          -4.918272495269775,
          -3.9880788326263428,
          -1.0650882720947266,
          7.252161502838135,
          4.418461799621582,
          1.5006928443908691,
          2.0786962509155273,
          2.3436567783355713,
          -3.4556968212127686,
          2.684591770172119,
          -2.0673322677612305,
          7.410165309906006,
          -3.9020164012908936,
          -5.265811920166016,
          -2.438300371170044,
          4.775449752807617,
          -0.24102307856082916,
          -5.529170513153076,
          2.7450578212738037,
          1.0665959119796753,
          7.29066276550293,
          1.9453502893447876,
          -4.936059951782227,
          -5.3672051429748535,
          -0.9342576265335083,
          1.2584534883499146,
          -2.035628318786621,
          -3.088040351867676,
          -5.547418594360352,
          -1.5257266759872437,
          2.382565498352051,
          -2.6476268768310547,
          -5.346384525299072,
          -0.8486970663070679,
          2.3281378746032715,
          -2.763446092605591,
          -0.8202013969421387,
          -0.7498123049736023,
          -2.80869197845459,
          2.417294502258301,
          -3.3995702266693115,
          2.144014596939087,
          -0.8199930787086487,
          0.8204712867736816,
          -5.348790168762207
         ],
         "y": [
          -5.452152729034424,
          -7.3834228515625,
          -0.366781622171402,
          0.2963641285896301,
          11.410243034362793,
          -9.543076515197754,
          -3.650836944580078,
          -6.485537052154541,
          -1.203934669494629,
          16.02810287475586,
          11.056875228881836,
          0.7917397022247314,
          -8.543962478637695,
          8.303237915039062,
          15.451410293579102,
          -8.816076278686523,
          -5.904066562652588,
          -9.276965141296387,
          0.07579519599676132,
          6.969303607940674,
          5.187335968017578,
          -9.311396598815918,
          11.55401611328125,
          -5.9277801513671875,
          6.872302532196045,
          5.588163375854492,
          -4.890265464782715,
          -7.581958293914795,
          -1.8535634279251099,
          -1.1766374111175537,
          -4.636080265045166,
          -9.439508438110352,
          -2.612400531768799,
          15.91967487335205,
          -4.910818576812744,
          -0.666104257106781,
          -8.700661659240723,
          6.198447227478027,
          -9.029891014099121,
          -0.6356602907180786,
          1.0868024826049805,
          -7.040412425994873,
          12.32823657989502,
          -2.915534257888794,
          -3.188918352127075,
          -7.909706115722656,
          -10.251837730407715,
          -4.64404296875,
          -5.016332626342773,
          -3.078784465789795,
          -5.5077338218688965,
          1.100771427154541,
          -6.379575252532959,
          0.39955565333366394,
          -1.8466119766235352,
          -6.983713626861572,
          -3.420048952102661,
          -5.975102424621582,
          2.569124221801758,
          9.086956977844238,
          -3.2468178272247314,
          -4.456271648406982,
          -6.217615127563477,
          -8.694015502929688,
          0.8166996240615845,
          -9.265827178955078,
          0.38461488485336304,
          0.05098219960927963,
          15.945819854736328,
          -8.24404525756836,
          -1.3678549528121948,
          1.6048557758331299,
          -5.546177387237549,
          -2.890206813812256,
          -7.0769944190979,
          -5.905178546905518,
          -9.97453498840332,
          -8.968092918395996,
          13.189953804016113,
          -9.019149780273438,
          -1.395368218421936,
          -9.438862800598145,
          -6.046466827392578,
          -5.774796009063721,
          -7.635987758636475,
          10.882040977478027,
          -1.5162769556045532,
          4.58348274230957,
          14.057692527770996,
          -10.262604713439941,
          15.761571884155273,
          16.24061393737793,
          -6.21872615814209,
          11.909804344177246,
          0.3060234487056732,
          -10.006959915161133,
          -8.968932151794434,
          -8.096407890319824,
          -6.565011024475098,
          0.6703723669052124,
          -5.65043830871582,
          -7.993099689483643,
          -5.139683723449707,
          -3.826009511947632,
          -6.987748146057129,
          -4.528920650482178,
          15.455430030822754,
          12.999667167663574,
          -5.081233024597168,
          0.9304919242858887,
          -5.865934371948242,
          -4.163646697998047,
          -7.615345001220703,
          -9.55385971069336,
          -3.7243106365203857,
          -9.246940612792969,
          -6.70813512802124,
          14.486791610717773,
          -1.4575347900390625,
          -8.780474662780762,
          -4.444809913635254,
          -3.2463529109954834,
          16.045032501220703,
          17.139633178710938,
          -3.7624051570892334,
          -6.9802093505859375,
          7.87546443939209,
          2.5735199451446533,
          -6.11053466796875,
          -5.8831353187561035,
          -8.756375312805176,
          -7.808563232421875,
          -1.541229009628296,
          -5.006935119628906,
          -6.088456153869629,
          2.221665143966675,
          -6.4237823486328125,
          1.708735704421997,
          1.3524953126907349,
          6.4247145652771,
          -6.61669921875,
          16.263715744018555,
          -7.231831073760986,
          2.256293773651123,
          14.65988540649414,
          7.930025100708008,
          -1.7545760869979858,
          1.276924729347229,
          1.876685380935669,
          5.921423435211182,
          -9.590462684631348,
          -6.851516246795654,
          4.678700923919678,
          -6.62042760848999,
          -6.918238639831543,
          -8.377910614013672,
          -0.16023874282836914,
          -1.6749027967453003,
          -1.7973897457122803,
          8.152932167053223,
          -5.819604396820068,
          -2.7623226642608643,
          3.001126766204834,
          12.313369750976562,
          6.917823791503906,
          -6.217301845550537,
          1.142440915107727,
          -5.299802303314209,
          -7.675093173980713,
          -2.925313949584961,
          5.517940521240234,
          -1.6285609006881714,
          -6.433628082275391,
          -0.9054531455039978,
          -4.475341796875,
          4.319993019104004,
          -6.337296009063721,
          3.1532113552093506,
          -5.852027416229248,
          -4.696864604949951,
          -5.494380474090576,
          13.379022598266602,
          7.177468776702881,
          -8.908226013183594,
          -9.097762107849121,
          -1.161747694015503,
          -7.457552909851074,
          10.77713394165039,
          0.4013499617576599,
          8.797131538391113,
          1.5352857112884521,
          -9.069557189941406,
          12.820834159851074,
          7.186102867126465,
          -2.5083961486816406,
          -6.208027362823486,
          -2.6891398429870605,
          -1.6843016147613525,
          2.28106951713562,
          -9.453557968139648,
          -4.775120735168457,
          -0.31225767731666565,
          -8.002256393432617,
          -6.906019687652588,
          -6.255639553070068,
          -4.818620681762695,
          4.243241310119629,
          6.7261481285095215,
          -4.488534450531006,
          1.6556715965270996,
          -5.944060325622559,
          -10.027901649475098,
          5.075889587402344,
          -5.9288330078125,
          -3.861663579940796,
          0.5724785923957825,
          -2.8073878288269043,
          -6.913688659667969,
          6.458879470825195,
          -6.679800510406494,
          16.72834014892578,
          0.5035011768341064,
          0.6367031335830688,
          5.272251129150391,
          13.819086074829102,
          -1.2304576635360718,
          0.8618553280830383,
          -6.330680847167969,
          -2.7873919010162354,
          7.1688618659973145,
          -7.031822681427002,
          -0.7680779695510864,
          1.5293283462524414,
          14.588408470153809,
          1.1091299057006836,
          1.8591468334197998,
          -5.7208685874938965,
          -5.979633808135986,
          4.153312683105469,
          12.280076026916504,
          -9.839962005615234,
          -3.4506587982177734,
          5.661869525909424,
          -4.5606489181518555,
          -5.700766563415527,
          3.9129154682159424,
          0.06378191709518433,
          -8.970392227172852,
          -10.292694091796875,
          -10.094545364379883,
          12.015691757202148,
          8.19113826751709,
          -10.117164611816406,
          -4.517480850219727,
          -7.033937931060791,
          -10.244587898254395,
          15.516434669494629,
          -8.256082534790039,
          -6.190894603729248,
          5.048563003540039,
          -5.17802095413208,
          1.672351598739624,
          3.8200173377990723,
          -2.555206537246704,
          -4.9967803955078125,
          6.779494762420654,
          11.378020286560059,
          -1.1238579750061035,
          -9.270950317382812,
          -3.0354583263397217,
          -4.063985347747803,
          13.873809814453125,
          -5.854916572570801,
          15.256450653076172,
          -2.7072527408599854,
          15.252650260925293,
          -6.099930763244629,
          7.579141616821289,
          -4.622954368591309,
          -4.693613052368164,
          -3.227370262145996,
          2.7834231853485107,
          -6.024293422698975,
          -2.52211856842041,
          6.690086841583252,
          -5.90530252456665,
          -5.512089252471924,
          -8.908851623535156,
          16.76878547668457,
          -5.855828285217285,
          -4.976970672607422,
          -5.258362770080566,
          4.733465671539307,
          -9.89254379272461,
          -0.2507703900337219,
          13.858444213867188,
          -8.872952461242676,
          -2.4776487350463867,
          -3.8698694705963135,
          -9.660861015319824,
          -6.017340660095215,
          -4.75872278213501,
          -8.128457069396973,
          -6.486729145050049,
          -6.384822368621826,
          -10.175821304321289,
          -2.4657862186431885,
          -2.865072011947632,
          1.3023005723953247,
          -7.86176872253418,
          -6.448069095611572,
          -9.022841453552246,
          -3.4972667694091797,
          -4.000082969665527,
          -4.390964984893799,
          -1.0285464525222778,
          -8.215399742126465,
          -6.004691123962402,
          -4.848861217498779,
          1.4831215143203735,
          -8.395650863647461,
          -6.283111572265625,
          -3.158210515975952,
          -3.4777991771698,
          8.219614028930664,
          16.540035247802734,
          -10.263063430786133,
          -6.42129373550415,
          -0.6212081909179688,
          -9.021036148071289,
          0.8308283090591431,
          -3.807720184326172,
          -3.414139986038208,
          13.58841323852539,
          -3.255070924758911,
          14.542810440063477,
          -3.076442241668701,
          -0.7018296122550964,
          -0.8079591393470764,
          -4.816615104675293,
          -1.873305320739746,
          -3.1242480278015137,
          -6.0099101066589355,
          -8.53515338897705,
          -4.7318339347839355,
          -8.24205207824707,
          -6.3542938232421875,
          -10.05212688446045,
          -10.078888893127441,
          -5.947937965393066,
          16.82444953918457,
          -10.15633487701416,
          -4.774106502532959,
          -10.046658515930176,
          -6.193074703216553,
          -0.1356673389673233,
          -2.4035840034484863,
          8.735433578491211,
          6.979030132293701,
          -2.3181939125061035,
          13.528743743896484,
          -5.9990739822387695,
          10.668723106384277,
          13.69520378112793,
          -5.425743103027344,
          -1.668893814086914,
          4.883442401885986,
          5.982436656951904,
          -5.81843376159668,
          -3.074113607406616,
          -2.31156587600708,
          -7.989736557006836,
          -1.5747796297073364,
          16.453096389770508,
          -8.629977226257324,
          0.9270943999290466,
          -5.505620956420898,
          4.079983234405518,
          -8.7899169921875,
          -5.634176731109619,
          -5.77031135559082,
          5.757659435272217,
          -4.417388916015625,
          -1.8240938186645508,
          -2.6614725589752197,
          -5.224848747253418,
          -6.222468852996826,
          11.77892017364502,
          -3.5516719818115234,
          -3.3852710723876953,
          -4.982954025268555,
          -1.4886523485183716,
          14.954244613647461,
          -6.854994297027588,
          0.7225263118743896,
          6.461272716522217,
          -1.758119821548462,
          -6.425840377807617,
          2.2783470153808594,
          2.0669922828674316,
          5.849009037017822,
          3.3808093070983887,
          -8.086214065551758,
          11.212371826171875,
          -7.621227741241455,
          -6.700568199157715,
          8.623374938964844,
          -5.177344799041748,
          -5.428914546966553,
          -9.34046459197998,
          11.840651512145996,
          16.228473663330078,
          0.601410984992981,
          2.248140335083008,
          16.397523880004883,
          -7.751047611236572,
          -8.046716690063477,
          -7.855309963226318,
          15.006287574768066,
          -9.42467975616455,
          -2.745755434036255,
          -10.25277042388916,
          14.344094276428223,
          1.1425944566726685,
          -6.043999195098877,
          -2.942448616027832,
          -0.3153878450393677,
          -7.780348777770996,
          -10.002143859863281,
          1.0067343711853027,
          -1.9359774589538574,
          6.784722805023193,
          1.8405619859695435,
          -5.954510688781738,
          -5.301169395446777,
          2.198669910430908,
          -5.694064617156982,
          4.725767135620117,
          -6.249594688415527,
          -5.010474681854248,
          -6.321976184844971,
          2.9292845726013184,
          9.192946434020996,
          -8.457966804504395,
          -3.1186652183532715,
          -4.231963157653809,
          -4.671747207641602,
          -2.681128740310669,
          -8.806314468383789,
          -9.525213241577148,
          6.354349613189697,
          8.439624786376953,
          -3.7436866760253906,
          9.797364234924316,
          -5.119365692138672,
          -0.17883917689323425,
          -1.696158528327942,
          9.653545379638672,
          16.581674575805664,
          2.433009386062622,
          -0.3650715947151184,
          -4.920090198516846,
          -10.164586067199707,
          4.029538154602051,
          -9.51766586303711,
          -8.43309497833252,
          -7.66029167175293,
          -3.2379589080810547,
          15.779244422912598,
          15.718913078308105,
          -7.279450416564941,
          8.898533821105957,
          16.003419876098633,
          -8.026350975036621,
          12.469768524169922,
          -2.532719135284424,
          -4.632037162780762,
          -5.950160026550293,
          -9.238957405090332,
          -9.975653648376465,
          1.1637041568756104,
          1.8053629398345947,
          -8.120497703552246,
          6.437860012054443,
          -2.0935370922088623,
          5.05631160736084,
          1.2948404550552368,
          -5.053347110748291,
          -3.6284987926483154,
          0.03316235542297363,
          -0.14012616872787476,
          -5.899658203125,
          -9.790868759155273,
          0.16859346628189087,
          -8.87239933013916,
          14.678698539733887,
          15.371395111083984,
          1.5455505847930908,
          1.5117422342300415,
          -6.298490047454834,
          1.7960867881774902,
          -1.4825873374938965,
          -9.352402687072754,
          -5.826935291290283,
          -3.4343647956848145,
          -5.960531234741211,
          4.895090579986572,
          -3.303053140640259,
          -6.107156276702881,
          -5.973169326782227,
          -6.302186965942383,
          -4.898758888244629,
          -4.567901134490967,
          -8.87058162689209,
          -5.986481666564941,
          -5.452763557434082,
          -1.837714433670044,
          4.043396472930908,
          -5.526913642883301,
          -3.022740125656128,
          4.06673526763916,
          -7.14558744430542,
          -6.029222011566162,
          -3.8906922340393066,
          -3.8169684410095215,
          -9.53327751159668,
          -2.445098400115967,
          -8.216981887817383,
          -7.156471252441406,
          13.1817626953125,
          -6.254557132720947,
          6.955977916717529,
          1.1188480854034424,
          -6.284932613372803,
          -5.699225902557373,
          -6.111782073974609,
          -8.732146263122559,
          11.806994438171387,
          -5.600452423095703,
          -6.074716091156006,
          2.3739371299743652,
          -3.4546890258789062,
          -5.886734485626221,
          6.400736331939697,
          15.687530517578125,
          -3.9096803665161133,
          9.455256462097168,
          8.436351776123047,
          -8.020943641662598,
          -9.453721046447754,
          -5.119645118713379,
          -9.58123779296875,
          10.461568832397461,
          6.71994686126709,
          -6.158907413482666,
          8.917450904846191,
          -3.51517915725708,
          -8.1268310546875,
          -4.365042686462402,
          -5.971476078033447,
          15.497834205627441,
          -6.38470983505249,
          -4.095432758331299,
          -5.958101272583008,
          -5.305701732635498,
          -2.1011502742767334,
          10.459869384765625,
          -0.961199939250946,
          -3.2611989974975586,
          0.3579155504703522,
          15.032143592834473,
          -7.1221771240234375,
          15.490945816040039,
          -10.184916496276855,
          11.926133155822754,
          13.121707916259766,
          -4.347723960876465,
          2.2398672103881836,
          -6.350614070892334,
          10.952436447143555,
          -7.910543918609619,
          -4.487340450286865,
          -8.883943557739258,
          -9.625532150268555,
          -8.362044334411621,
          -6.300430774688721,
          -5.349595546722412,
          6.497832298278809,
          -7.186396598815918,
          7.037783145904541,
          -2.5034310817718506,
          -0.019167428836226463,
          -3.225893259048462,
          -2.5658345222473145,
          8.102067947387695,
          -7.296964168548584,
          -8.908242225646973,
          -1.2351446151733398,
          2.0714378356933594,
          -7.210655689239502,
          -6.373292922973633,
          -3.1567368507385254,
          -6.215696811676025,
          -4.063882350921631,
          -6.4735236167907715,
          -8.677830696105957,
          0.07508870214223862,
          -6.202887535095215,
          -9.704294204711914,
          -6.097824573516846,
          -5.057641506195068,
          6.429832935333252,
          7.8846869468688965,
          -7.239679336547852,
          4.999752998352051,
          -4.703042984008789,
          15.664074897766113,
          -6.916041851043701,
          14.470282554626465,
          0.010547380894422531,
          14.24184799194336,
          14.419816970825195,
          8.4281644821167,
          -4.365365982055664,
          -6.0781941413879395,
          -6.231532096862793,
          -8.622817993164062,
          -3.7589333057403564,
          16.30284309387207,
          -10.21987247467041,
          -1.8956478834152222,
          0.718729555606842,
          -0.9236950278282166,
          -5.356051921844482,
          -6.719038486480713,
          -8.172493934631348,
          -4.370905876159668,
          -4.781229496002197,
          -7.988633155822754,
          12.722793579101562,
          -7.177950859069824,
          -2.212068796157837,
          -4.672971248626709,
          -8.086338996887207,
          0.7459397912025452,
          -6.376259803771973,
          16.537878036499023,
          5.671095371246338,
          -9.393661499023438,
          -0.5940646529197693,
          -9.23569107055664,
          -3.369799852371216,
          -6.269964694976807,
          -10.261303901672363,
          -2.9679534435272217,
          15.085226058959961,
          -9.750675201416016,
          10.9826021194458,
          -6.19434928894043,
          -5.625657081604004,
          9.135771751403809,
          3.1699612140655518,
          -8.965576171875,
          14.127206802368164,
          -5.733633995056152,
          0.982962965965271,
          -1.7871971130371094,
          4.995270252227783,
          -10.235928535461426,
          -7.3470611572265625,
          7.124303340911865,
          -6.441566467285156,
          -5.348482608795166,
          13.141278266906738,
          -4.455707550048828,
          2.6583127975463867,
          -5.648740291595459,
          -4.20107889175415,
          15.845449447631836,
          -6.473886489868164,
          -5.717830181121826,
          -0.9400356411933899,
          -4.3183064460754395,
          -5.381156921386719,
          4.529365062713623,
          -8.706825256347656,
          11.283731460571289,
          0.7500842213630676,
          -6.428427696228027,
          -0.3631786108016968,
          -10.282615661621094,
          -5.887669563293457,
          2.810014009475708,
          13.445530891418457,
          6.870982646942139,
          -4.818235874176025,
          -8.573233604431152,
          6.5466413497924805,
          4.04133939743042,
          16.08108139038086,
          -7.638888835906982,
          15.182004928588867,
          3.6058244705200195,
          -4.587802886962891,
          -1.7940174341201782,
          15.11362361907959,
          16.16930389404297,
          11.264294624328613,
          5.1818342208862305,
          8.511856079101562,
          -1.841345191001892,
          -0.004636265803128481,
          -8.655405044555664
         ],
         "z": [
          -5.698031902313232,
          -2.414318799972534,
          -9.83627986907959,
          -8.224058151245117,
          -5.261153221130371,
          -0.5633695721626282,
          0.5858899354934692,
          0.0326644666492939,
          -9.611262321472168,
          0.09909714758396149,
          -5.085926055908203,
          -10.251534461975098,
          -5.1371636390686035,
          -7.445633411407471,
          -1.0686894655227661,
          -5.672821998596191,
          -3.9817755222320557,
          0.3002251982688904,
          -4.3507609367370605,
          -8.733272552490234,
          -10.176730155944824,
          0.20245634019374847,
          -5.398548126220703,
          9.314828872680664,
          -8.870011329650879,
          -9.545533180236816,
          1.237308382987976,
          -1.981484293937683,
          -0.7138400673866272,
          -5.39346981048584,
          -9.123432159423828,
          -1.7322053909301758,
          -9.191938400268555,
          -0.12310811132192612,
          -9.333793640136719,
          -2.636979818344116,
          -7.583224296569824,
          -9.009561538696289,
          1.0344635248184204,
          -9.826050758361816,
          -5.3963541984558105,
          -3.2769930362701416,
          -4.494793891906738,
          0.6682594418525696,
          1.1332833766937256,
          -8.395916938781738,
          -4.811844348907471,
          -7.529757976531982,
          1.5478111505508423,
          1.4900628328323364,
          -5.605624675750732,
          -5.279176712036133,
          1.1683709621429443,
          -8.068199157714844,
          -5.653924465179443,
          -3.104879140853882,
          -8.290118217468262,
          -3.2966976165771484,
          -10.477733612060547,
          -6.749530792236328,
          1.1527801752090454,
          4.368564128875732,
          -1.4938284158706665,
          2.835197687149048,
          -8.023804664611816,
          0.3559843897819519,
          -8.219542503356934,
          -8.844413757324219,
          -0.07598055899143219,
          -8.19245719909668,
          -9.525026321411133,
          -10.502653121948242,
          -9.145468711853027,
          -0.510284423828125,
          -8.82955551147461,
          -4.33192253112793,
          -5.848182201385498,
          1.3853378295898438,
          -3.8262507915496826,
          1.2058489322662354,
          -1.8570793867111206,
          -6.405381679534912,
          -4.895882606506348,
          -4.753624439239502,
          5.542571067810059,
          -5.625478744506836,
          -5.508548259735107,
          -5.648299694061279,
          -3.0525295734405518,
          -4.727405548095703,
          -0.42593321204185486,
          0.7315571904182434,
          7.762638092041016,
          -4.808501243591309,
          -4.472309589385986,
          -2.518889904022217,
          -7.124089241027832,
          0.1572415679693222,
          -3.8692593574523926,
          -10.247101783752441,
          10.500730514526367,
          0.0024071524385362864,
          -6.737864971160889,
          -7.122955322265625,
          -3.924445867538452,
          4.527027130126953,
          -1.0406519174575806,
          -3.9828896522521973,
          -0.444836288690567,
          -8.204025268554688,
          9.591812133789062,
          4.877849102020264,
          5.576759338378906,
          -6.8649516105651855,
          -8.147844314575195,
          -3.405921220779419,
          0.5305424928665161,
          -2.5416769981384277,
          -5.336876392364502,
          2.3743929862976074,
          -6.828349590301514,
          1.7381285429000854,
          0.29593485593795776,
          1.0457202196121216,
          -7.055708885192871,
          6.7297043800354,
          -8.068471908569336,
          -8.272344589233398,
          8.389692306518555,
          -9.151310920715332,
          2.4655704498291016,
          4.658106327056885,
          -6.3109235763549805,
          -7.093398571014404,
          -1.4059725999832153,
          -4.907042980194092,
          2.277735948562622,
          -8.286825180053711,
          -10.679657936096191,
          -8.951164245605469,
          -3.4617347717285156,
          0.6919182538986206,
          6.234882831573486,
          -4.936237335205078,
          -2.3258116245269775,
          -8.014443397521973,
          -9.433975219726562,
          -10.558375358581543,
          -10.326876640319824,
          -9.084774017333984,
          -0.7812281250953674,
          -8.899353981018066,
          -5.659010887145996,
          7.291679382324219,
          -4.409742832183838,
          3.5142743587493896,
          -8.054556846618652,
          -5.864044189453125,
          -2.4386253356933594,
          -7.671445846557617,
          -4.356546401977539,
          -9.218541145324707,
          -8.254929542541504,
          -4.489418983459473,
          -9.50625228881836,
          7.851406097412109,
          -8.256814002990723,
          -6.0008697509765625,
          5.335341453552246,
          -0.34385547041893005,
          -5.672324180603027,
          -9.249314308166504,
          7.185888767242432,
          -9.640727996826172,
          -9.236884117126465,
          -8.291561126708984,
          1.448935866355896,
          -5.269287109375,
          7.640266418457031,
          1.670501708984375,
          -2.195899486541748,
          -3.681964159011841,
          -8.638335227966309,
          -3.224607229232788,
          -4.0857014656066895,
          -9.644030570983887,
          5.402429103851318,
          -5.67511510848999,
          -7.962465763092041,
          -6.959585666656494,
          -10.720251083374023,
          -3.389676809310913,
          -4.121663570404053,
          -8.629977226257324,
          0.8551130890846252,
          -1.5482090711593628,
          -0.2725334167480469,
          -7.945613384246826,
          -5.290231704711914,
          -6.983121871948242,
          -9.261872291564941,
          -4.639419078826904,
          -1.0634043216705322,
          -8.902384757995605,
          -1.3251292705535889,
          -6.389114856719971,
          -8.272690773010254,
          -9.010590553283691,
          4.843940734863281,
          -10.259024620056152,
          -3.5829126834869385,
          -2.4879162311553955,
          -8.970545768737793,
          -3.7388217449188232,
          4.227087020874023,
          -5.745872974395752,
          -9.227864265441895,
          -4.4102702140808105,
          -8.828866958618164,
          -3.556309461593628,
          1.0782604217529297,
          -7.972232818603516,
          -10.272541046142578,
          -5.689041614532471,
          -3.2639999389648438,
          -9.630767822265625,
          -10.296137809753418,
          -0.9981369376182556,
          -0.6426064968109131,
          -9.093510627746582,
          6.576587200164795,
          -7.847851753234863,
          -4.692885398864746,
          -2.414919376373291,
          -5.864436149597168,
          -4.828188896179199,
          1.2371108531951904,
          -3.7637031078338623,
          -5.569736003875732,
          -4.545459747314453,
          -4.151393890380859,
          0.42480117082595825,
          -9.217723846435547,
          4.113447666168213,
          1.4477225542068481,
          -7.372931957244873,
          -8.448627471923828,
          1.38889479637146,
          -4.308929920196533,
          -2.8265531063079834,
          -4.81851053237915,
          -7.616868495941162,
          -5.587594509124756,
          -9.11638069152832,
          -8.857775688171387,
          -4.761302947998047,
          -0.9559040069580078,
          4.361981391906738,
          2.0070457458496094,
          -5.702506065368652,
          -6.684844493865967,
          -4.7374467849731445,
          -7.208906650543213,
          -9.255212783813477,
          1.5540000200271606,
          -8.720911979675293,
          -4.971158981323242,
          -7.861375331878662,
          0.07036926597356796,
          -7.282607078552246,
          5.215343475341797,
          -3.2178351879119873,
          -4.412857532501221,
          -1.448501467704773,
          -9.198993682861328,
          -1.4550511837005615,
          -9.091444969177246,
          -8.634111404418945,
          -6.962284564971924,
          4.279655933380127,
          1.7559362649917603,
          -8.264228820800781,
          -2.9150075912475586,
          0.9661694765090942,
          -9.054999351501465,
          -4.143863677978516,
          -1.2206060886383057,
          1.7973257303237915,
          1.0876408815383911,
          -3.27774715423584,
          1.5733051300048828,
          -9.15147876739502,
          -10.210115432739258,
          -6.209667682647705,
          -4.802635669708252,
          -3.2317349910736084,
          -7.694899082183838,
          0.5723257064819336,
          -7.072081565856934,
          -0.867281436920166,
          8.82852554321289,
          -6.443119049072266,
          4.744645118713379,
          7.079619884490967,
          -0.7235735058784485,
          -3.5051443576812744,
          -7.6178388595581055,
          -9.191661834716797,
          -10.435132026672363,
          -1.7995541095733643,
          0.670097291469574,
          -1.394115924835205,
          1.857131838798523,
          -6.955225944519043,
          -0.6891063451766968,
          -3.149963855743408,
          4.49424409866333,
          -3.053011655807495,
          -9.130388259887695,
          -8.266393661499023,
          -4.586312770843506,
          7.72943639755249,
          1.1617985963821411,
          0.9749646782875061,
          -7.565690040588379,
          1.0312193632125854,
          -4.884397506713867,
          0.940603494644165,
          -2.7318761348724365,
          -3.8283274173736572,
          -10.373514175415039,
          -0.1208910420536995,
          -8.300802230834961,
          -3.4979288578033447,
          -7.884134769439697,
          -2.4712681770324707,
          0.6136041879653931,
          -9.730753898620605,
          -7.944322109222412,
          -6.391144275665283,
          -2.2100143432617188,
          0.8163853287696838,
          0.7603949308395386,
          1.9709028005599976,
          4.371746063232422,
          0.1321249008178711,
          1.3859299421310425,
          -2.49645733833313,
          -2.5371148586273193,
          -3.7245962619781494,
          1.0829704999923706,
          -2.9659626483917236,
          -0.035820022225379944,
          -2.522045373916626,
          -1.620991826057434,
          -8.075714111328125,
          0.5067242980003357,
          -7.0125732421875,
          -8.721378326416016,
          0.28803327679634094,
          -3.5441160202026367,
          8.980740547180176,
          -5.4768147468566895,
          -3.391284465789795,
          -1.5720038414001465,
          -2.5913267135620117,
          -10.192663192749023,
          -5.653282642364502,
          9.128148078918457,
          -7.448118209838867,
          -0.8620197772979736,
          -1.3919068574905396,
          -1.8338489532470703,
          1.041260004043579,
          -7.6247968673706055,
          -8.183828353881836,
          -1.1320421695709229,
          -8.25721549987793,
          2.4841785430908203,
          -5.333805561065674,
          -4.858136177062988,
          -9.167202949523926,
          -8.680401802062988,
          -9.338159561157227,
          -7.548373699188232,
          1.9099253416061401,
          7.759514808654785,
          -4.851623058319092,
          -9.16223430633545,
          1.286673665046692,
          -9.270452499389648,
          -1.4552489519119263,
          -1.901425838470459,
          -4.424886703491211,
          -6.697105884552002,
          -8.779155731201172,
          -5.446335315704346,
          -0.49123746156692505,
          -4.908327102661133,
          -10.502949714660645,
          -10.10604476928711,
          -8.23440170288086,
          4.826205730438232,
          -5.511138916015625,
          -2.0908591747283936,
          0.53504878282547,
          -7.114106178283691,
          -6.749485015869141,
          -9.151926040649414,
          -7.2062578201293945,
          -4.898876667022705,
          0.8830836415290833,
          -4.167385578155518,
          -8.283327102661133,
          0.9916098713874817,
          -1.0570460557937622,
          4.922860145568848,
          5.250075817108154,
          -1.8204615116119385,
          -7.06076192855835,
          -7.378742694854736,
          -5.009370803833008,
          -2.716991662979126,
          -8.211156845092773,
          8.965215682983398,
          -9.191020965576172,
          -9.844812393188477,
          -1.6436951160430908,
          -2.3929238319396973,
          -10.212907791137695,
          -9.358530044555664,
          -8.945131301879883,
          -10.494473457336426,
          -9.110052108764648,
          -5.890748977661133,
          -10.500336647033691,
          9.406776428222656,
          -10.207984924316406,
          7.5979838371276855,
          -9.268189430236816,
          2.1580240726470947,
          -10.422133445739746,
          -6.683495998382568,
          3.640493392944336,
          -7.413915634155273,
          0.9168681502342224,
          0.08978932350873947,
          1.5164741277694702,
          -7.781581401824951,
          -0.4987630844116211,
          -9.00649356842041,
          -7.281399250030518,
          -7.203563213348389,
          -6.2897629737854,
          1.7764297723770142,
          -9.96890640258789,
          -1.0861891508102417,
          -6.378451347351074,
          1.0599223375320435,
          -5.0256733894348145,
          -3.0468077659606934,
          -9.348855018615723,
          -5.2745537757873535,
          -7.406442165374756,
          -0.5152634978294373,
          -4.551848888397217,
          -8.540501594543457,
          1.1339762210845947,
          -0.3979298174381256,
          -0.511631190776825,
          6.104744911193848,
          -6.891468048095703,
          0.11448204517364502,
          4.71964168548584,
          -4.418731689453125,
          -0.3634672164916992,
          0.9253899455070496,
          -3.8488783836364746,
          0.4275980591773987,
          -5.9521260261535645,
          -8.22109317779541,
          -10.546365737915039,
          -0.9502165913581848,
          -8.927417755126953,
          -1.0558834075927734,
          -10.209513664245605,
          -8.230380058288574,
          -6.813966751098633,
          1.284686803817749,
          -4.129672527313232,
          -8.056685447692871,
          -4.0928473472595215,
          -1.3927339315414429,
          -8.081083297729492,
          2.0687777996063232,
          -2.3012170791625977,
          -1.21392822265625,
          -10.188189506530762,
          -4.655071258544922,
          7.799742698669434,
          -10.530364036560059,
          -5.617273330688477,
          0.0965324193239212,
          9.760198593139648,
          1.384881615638733,
          -3.6254489421844482,
          -5.694985866546631,
          1.7623450756072998,
          -2.162569761276245,
          9.168778419494629,
          1.613053560256958,
          0.6865057945251465,
          1.9982455968856812,
          2.086507558822632,
          9.021498680114746,
          -5.690356731414795,
          -2.846585512161255,
          -5.547358989715576,
          -1.2304145097732544,
          -9.199514389038086,
          -8.246564865112305,
          -4.153839111328125,
          -2.814995288848877,
          2.004305124282837,
          1.0567823648452759,
          -0.4468756318092346,
          -7.49580192565918,
          2.7659189701080322,
          -4.092629909515381,
          -3.8332791328430176,
          -0.5192084312438965,
          -8.753166198730469,
          -8.470046043395996,
          2.062389850616455,
          -5.063019752502441,
          -2.1349637508392334,
          2.613565683364868,
          -4.813098907470703,
          -5.3781914710998535,
          6.622867107391357,
          -8.279040336608887,
          0.6144177913665771,
          -4.180044651031494,
          -8.850183486938477,
          -0.6440916061401367,
          -7.881775379180908,
          -6.509525299072266,
          -7.284614086151123,
          -8.339301109313965,
          -6.9828410148620605,
          5.5236711502075195,
          -4.983579635620117,
          -5.850520610809326,
          -9.020339965820312,
          -1.8122626543045044,
          -6.878602027893066,
          0.26708492636680603,
          4.7088189125061035,
          -9.21031665802002,
          9.105587005615234,
          -0.9843335151672363,
          1.2111984491348267,
          1.5958672761917114,
          -5.139602184295654,
          -6.500401496887207,
          -5.453563690185547,
          -5.865653038024902,
          -8.62533950805664,
          -7.207847595214844,
          -8.015563011169434,
          -1.7741590738296509,
          -8.827437400817871,
          -0.9612733125686646,
          -3.1979739665985107,
          -4.801117897033691,
          -3.895590305328369,
          3.143343448638916,
          -8.287989616394043,
          7.331214427947998,
          -5.535706043243408,
          5.166218280792236,
          4.23887825012207,
          1.824706792831421,
          -0.7688336372375488,
          3.993177890777588,
          7.796261787414551,
          -5.832342147827148,
          -9.082786560058594,
          -8.794246673583984,
          -8.726534843444824,
          -0.3058367371559143,
          -8.074763298034668,
          1.8564022779464722,
          0.6295195817947388,
          -7.768040657043457,
          5.9518232345581055,
          -7.662674427032471,
          -2.0924222469329834,
          -4.861635684967041,
          -2.7112817764282227,
          -4.535153865814209,
          0.8147739171981812,
          7.896198272705078,
          -6.942178726196289,
          0.2099856436252594,
          -7.841658592224121,
          -4.3510565757751465,
          7.983719348907471,
          -1.0222737789154053,
          -2.2293899059295654,
          0.17697292566299438,
          -8.9437255859375,
          -8.0709810256958,
          -2.325511932373047,
          -9.117132186889648,
          1.4137136936187744,
          0.19551365077495575,
          -8.883211135864258,
          -2.5703418254852295,
          -3.5261740684509277,
          -2.839212656021118,
          -2.6305506229400635,
          -7.305018424987793,
          -0.7276912331581116,
          8.509769439697266,
          1.9501701593399048,
          3.0623772144317627,
          -7.054192543029785,
          0.8642879128456116,
          -5.21932315826416,
          -0.7693421840667725,
          -10.290623664855957,
          -2.3098556995391846,
          8.995479583740234,
          1.3007391691207886,
          -8.264847755432129,
          -6.7608184814453125,
          -9.049115180969238,
          4.93591833114624,
          -4.200642108917236,
          -2.553912878036499,
          -0.14027664065361023,
          4.298039436340332,
          4.840447902679443,
          -8.192994117736816,
          -0.6062555909156799,
          1.0235164165496826,
          -10.102975845336914,
          -7.004576206207275,
          -9.783042907714844,
          -2.9342005252838135,
          -8.531500816345215,
          7.538448810577393,
          -3.9715871810913086,
          1.4204543828964233,
          -1.698864221572876,
          -6.41740608215332,
          -5.336515426635742,
          7.996278762817383,
          -0.7258492708206177,
          -6.7197136878967285,
          -5.280862331390381,
          1.4192852973937988,
          -2.96266770362854,
          -5.037125110626221,
          -4.41050910949707,
          -9.40717601776123,
          -10.205307960510254,
          -3.740147590637207,
          -7.855760097503662,
          -8.682485580444336,
          -0.3266909420490265,
          -1.590672492980957,
          -3.864358901977539,
          -6.69941520690918,
          -8.263795852661133,
          10.00669002532959,
          -0.48666059970855713,
          -0.2367551475763321,
          0.1539919376373291,
          8.41139030456543,
          -9.712348937988281,
          2.423513889312744,
          -0.8362870216369629,
          -5.670202732086182,
          2.8038909435272217,
          -5.600647449493408,
          -7.135382175445557,
          0.14127178490161896,
          -8.029558181762695,
          -3.823317527770996,
          -9.145831108093262,
          -5.125197410583496,
          -3.6214895248413086,
          -8.87559986114502,
          1.5487241744995117,
          3.2920100688934326,
          -9.847196578979492,
          -8.258296966552734,
          0.4306965470314026,
          -8.590847969055176,
          -1.5565217733383179,
          -8.22860336303711,
          4.167960166931152,
          -3.0890049934387207,
          -1.6611610651016235,
          0.5953938961029053,
          -5.11800479888916,
          -10.151626586914062,
          -7.196833610534668,
          -2.9572770595550537,
          -8.596678733825684,
          -7.917638301849365
         ]
        },
        {
         "hoverlabel": {
          "namelength": 0
         },
         "hovertemplate": "Dominant_Topic=Topic 3<br>0=%{x}<br>1=%{y}<br>2=%{z}",
         "legendgroup": "Dominant_Topic=Topic 3",
         "marker": {
          "color": "#ab63fa",
          "opacity": 0.7,
          "symbol": "circle"
         },
         "mode": "markers",
         "name": "Dominant_Topic=Topic 3",
         "scene": "scene",
         "showlegend": true,
         "type": "scatter3d",
         "x": [
          2.1877057552337646,
          3.1124267578125,
          4.380089282989502,
          2.1844980716705322
         ],
         "y": [
          -3.0715575218200684,
          -3.6890006065368652,
          -4.1381025314331055,
          -3.0718085765838623
         ],
         "z": [
          3.6856164932250977,
          2.1464381217956543,
          3.800964117050171,
          3.6676878929138184
         ]
        }
       ],
       "layout": {
        "height": 800,
        "legend": {
         "tracegroupgap": 0
        },
        "scene": {
         "domain": {
          "x": [
           0,
           1
          ],
          "y": [
           0,
           1
          ]
         },
         "xaxis": {
          "title": {
           "text": "0"
          }
         },
         "yaxis": {
          "title": {
           "text": "1"
          }
         },
         "zaxis": {
          "title": {
           "text": "2"
          }
         }
        },
        "template": {
         "data": {
          "bar": [
           {
            "error_x": {
             "color": "#2a3f5f"
            },
            "error_y": {
             "color": "#2a3f5f"
            },
            "marker": {
             "line": {
              "color": "#E5ECF6",
              "width": 0.5
             }
            },
            "type": "bar"
           }
          ],
          "barpolar": [
           {
            "marker": {
             "line": {
              "color": "#E5ECF6",
              "width": 0.5
             }
            },
            "type": "barpolar"
           }
          ],
          "carpet": [
           {
            "aaxis": {
             "endlinecolor": "#2a3f5f",
             "gridcolor": "white",
             "linecolor": "white",
             "minorgridcolor": "white",
             "startlinecolor": "#2a3f5f"
            },
            "baxis": {
             "endlinecolor": "#2a3f5f",
             "gridcolor": "white",
             "linecolor": "white",
             "minorgridcolor": "white",
             "startlinecolor": "#2a3f5f"
            },
            "type": "carpet"
           }
          ],
          "choropleth": [
           {
            "colorbar": {
             "outlinewidth": 0,
             "ticks": ""
            },
            "type": "choropleth"
           }
          ],
          "contour": [
           {
            "colorbar": {
             "outlinewidth": 0,
             "ticks": ""
            },
            "colorscale": [
             [
              0,
              "#0d0887"
             ],
             [
              0.1111111111111111,
              "#46039f"
             ],
             [
              0.2222222222222222,
              "#7201a8"
             ],
             [
              0.3333333333333333,
              "#9c179e"
             ],
             [
              0.4444444444444444,
              "#bd3786"
             ],
             [
              0.5555555555555556,
              "#d8576b"
             ],
             [
              0.6666666666666666,
              "#ed7953"
             ],
             [
              0.7777777777777778,
              "#fb9f3a"
             ],
             [
              0.8888888888888888,
              "#fdca26"
             ],
             [
              1,
              "#f0f921"
             ]
            ],
            "type": "contour"
           }
          ],
          "contourcarpet": [
           {
            "colorbar": {
             "outlinewidth": 0,
             "ticks": ""
            },
            "type": "contourcarpet"
           }
          ],
          "heatmap": [
           {
            "colorbar": {
             "outlinewidth": 0,
             "ticks": ""
            },
            "colorscale": [
             [
              0,
              "#0d0887"
             ],
             [
              0.1111111111111111,
              "#46039f"
             ],
             [
              0.2222222222222222,
              "#7201a8"
             ],
             [
              0.3333333333333333,
              "#9c179e"
             ],
             [
              0.4444444444444444,
              "#bd3786"
             ],
             [
              0.5555555555555556,
              "#d8576b"
             ],
             [
              0.6666666666666666,
              "#ed7953"
             ],
             [
              0.7777777777777778,
              "#fb9f3a"
             ],
             [
              0.8888888888888888,
              "#fdca26"
             ],
             [
              1,
              "#f0f921"
             ]
            ],
            "type": "heatmap"
           }
          ],
          "heatmapgl": [
           {
            "colorbar": {
             "outlinewidth": 0,
             "ticks": ""
            },
            "colorscale": [
             [
              0,
              "#0d0887"
             ],
             [
              0.1111111111111111,
              "#46039f"
             ],
             [
              0.2222222222222222,
              "#7201a8"
             ],
             [
              0.3333333333333333,
              "#9c179e"
             ],
             [
              0.4444444444444444,
              "#bd3786"
             ],
             [
              0.5555555555555556,
              "#d8576b"
             ],
             [
              0.6666666666666666,
              "#ed7953"
             ],
             [
              0.7777777777777778,
              "#fb9f3a"
             ],
             [
              0.8888888888888888,
              "#fdca26"
             ],
             [
              1,
              "#f0f921"
             ]
            ],
            "type": "heatmapgl"
           }
          ],
          "histogram": [
           {
            "marker": {
             "colorbar": {
              "outlinewidth": 0,
              "ticks": ""
             }
            },
            "type": "histogram"
           }
          ],
          "histogram2d": [
           {
            "colorbar": {
             "outlinewidth": 0,
             "ticks": ""
            },
            "colorscale": [
             [
              0,
              "#0d0887"
             ],
             [
              0.1111111111111111,
              "#46039f"
             ],
             [
              0.2222222222222222,
              "#7201a8"
             ],
             [
              0.3333333333333333,
              "#9c179e"
             ],
             [
              0.4444444444444444,
              "#bd3786"
             ],
             [
              0.5555555555555556,
              "#d8576b"
             ],
             [
              0.6666666666666666,
              "#ed7953"
             ],
             [
              0.7777777777777778,
              "#fb9f3a"
             ],
             [
              0.8888888888888888,
              "#fdca26"
             ],
             [
              1,
              "#f0f921"
             ]
            ],
            "type": "histogram2d"
           }
          ],
          "histogram2dcontour": [
           {
            "colorbar": {
             "outlinewidth": 0,
             "ticks": ""
            },
            "colorscale": [
             [
              0,
              "#0d0887"
             ],
             [
              0.1111111111111111,
              "#46039f"
             ],
             [
              0.2222222222222222,
              "#7201a8"
             ],
             [
              0.3333333333333333,
              "#9c179e"
             ],
             [
              0.4444444444444444,
              "#bd3786"
             ],
             [
              0.5555555555555556,
              "#d8576b"
             ],
             [
              0.6666666666666666,
              "#ed7953"
             ],
             [
              0.7777777777777778,
              "#fb9f3a"
             ],
             [
              0.8888888888888888,
              "#fdca26"
             ],
             [
              1,
              "#f0f921"
             ]
            ],
            "type": "histogram2dcontour"
           }
          ],
          "mesh3d": [
           {
            "colorbar": {
             "outlinewidth": 0,
             "ticks": ""
            },
            "type": "mesh3d"
           }
          ],
          "parcoords": [
           {
            "line": {
             "colorbar": {
              "outlinewidth": 0,
              "ticks": ""
             }
            },
            "type": "parcoords"
           }
          ],
          "pie": [
           {
            "automargin": true,
            "type": "pie"
           }
          ],
          "scatter": [
           {
            "marker": {
             "colorbar": {
              "outlinewidth": 0,
              "ticks": ""
             }
            },
            "type": "scatter"
           }
          ],
          "scatter3d": [
           {
            "line": {
             "colorbar": {
              "outlinewidth": 0,
              "ticks": ""
             }
            },
            "marker": {
             "colorbar": {
              "outlinewidth": 0,
              "ticks": ""
             }
            },
            "type": "scatter3d"
           }
          ],
          "scattercarpet": [
           {
            "marker": {
             "colorbar": {
              "outlinewidth": 0,
              "ticks": ""
             }
            },
            "type": "scattercarpet"
           }
          ],
          "scattergeo": [
           {
            "marker": {
             "colorbar": {
              "outlinewidth": 0,
              "ticks": ""
             }
            },
            "type": "scattergeo"
           }
          ],
          "scattergl": [
           {
            "marker": {
             "colorbar": {
              "outlinewidth": 0,
              "ticks": ""
             }
            },
            "type": "scattergl"
           }
          ],
          "scattermapbox": [
           {
            "marker": {
             "colorbar": {
              "outlinewidth": 0,
              "ticks": ""
             }
            },
            "type": "scattermapbox"
           }
          ],
          "scatterpolar": [
           {
            "marker": {
             "colorbar": {
              "outlinewidth": 0,
              "ticks": ""
             }
            },
            "type": "scatterpolar"
           }
          ],
          "scatterpolargl": [
           {
            "marker": {
             "colorbar": {
              "outlinewidth": 0,
              "ticks": ""
             }
            },
            "type": "scatterpolargl"
           }
          ],
          "scatterternary": [
           {
            "marker": {
             "colorbar": {
              "outlinewidth": 0,
              "ticks": ""
             }
            },
            "type": "scatterternary"
           }
          ],
          "surface": [
           {
            "colorbar": {
             "outlinewidth": 0,
             "ticks": ""
            },
            "colorscale": [
             [
              0,
              "#0d0887"
             ],
             [
              0.1111111111111111,
              "#46039f"
             ],
             [
              0.2222222222222222,
              "#7201a8"
             ],
             [
              0.3333333333333333,
              "#9c179e"
             ],
             [
              0.4444444444444444,
              "#bd3786"
             ],
             [
              0.5555555555555556,
              "#d8576b"
             ],
             [
              0.6666666666666666,
              "#ed7953"
             ],
             [
              0.7777777777777778,
              "#fb9f3a"
             ],
             [
              0.8888888888888888,
              "#fdca26"
             ],
             [
              1,
              "#f0f921"
             ]
            ],
            "type": "surface"
           }
          ],
          "table": [
           {
            "cells": {
             "fill": {
              "color": "#EBF0F8"
             },
             "line": {
              "color": "white"
             }
            },
            "header": {
             "fill": {
              "color": "#C8D4E3"
             },
             "line": {
              "color": "white"
             }
            },
            "type": "table"
           }
          ]
         },
         "layout": {
          "annotationdefaults": {
           "arrowcolor": "#2a3f5f",
           "arrowhead": 0,
           "arrowwidth": 1
          },
          "coloraxis": {
           "colorbar": {
            "outlinewidth": 0,
            "ticks": ""
           }
          },
          "colorscale": {
           "diverging": [
            [
             0,
             "#8e0152"
            ],
            [
             0.1,
             "#c51b7d"
            ],
            [
             0.2,
             "#de77ae"
            ],
            [
             0.3,
             "#f1b6da"
            ],
            [
             0.4,
             "#fde0ef"
            ],
            [
             0.5,
             "#f7f7f7"
            ],
            [
             0.6,
             "#e6f5d0"
            ],
            [
             0.7,
             "#b8e186"
            ],
            [
             0.8,
             "#7fbc41"
            ],
            [
             0.9,
             "#4d9221"
            ],
            [
             1,
             "#276419"
            ]
           ],
           "sequential": [
            [
             0,
             "#0d0887"
            ],
            [
             0.1111111111111111,
             "#46039f"
            ],
            [
             0.2222222222222222,
             "#7201a8"
            ],
            [
             0.3333333333333333,
             "#9c179e"
            ],
            [
             0.4444444444444444,
             "#bd3786"
            ],
            [
             0.5555555555555556,
             "#d8576b"
            ],
            [
             0.6666666666666666,
             "#ed7953"
            ],
            [
             0.7777777777777778,
             "#fb9f3a"
            ],
            [
             0.8888888888888888,
             "#fdca26"
            ],
            [
             1,
             "#f0f921"
            ]
           ],
           "sequentialminus": [
            [
             0,
             "#0d0887"
            ],
            [
             0.1111111111111111,
             "#46039f"
            ],
            [
             0.2222222222222222,
             "#7201a8"
            ],
            [
             0.3333333333333333,
             "#9c179e"
            ],
            [
             0.4444444444444444,
             "#bd3786"
            ],
            [
             0.5555555555555556,
             "#d8576b"
            ],
            [
             0.6666666666666666,
             "#ed7953"
            ],
            [
             0.7777777777777778,
             "#fb9f3a"
            ],
            [
             0.8888888888888888,
             "#fdca26"
            ],
            [
             1,
             "#f0f921"
            ]
           ]
          },
          "colorway": [
           "#636efa",
           "#EF553B",
           "#00cc96",
           "#ab63fa",
           "#FFA15A",
           "#19d3f3",
           "#FF6692",
           "#B6E880",
           "#FF97FF",
           "#FECB52"
          ],
          "font": {
           "color": "#2a3f5f"
          },
          "geo": {
           "bgcolor": "white",
           "lakecolor": "white",
           "landcolor": "#E5ECF6",
           "showlakes": true,
           "showland": true,
           "subunitcolor": "white"
          },
          "hoverlabel": {
           "align": "left"
          },
          "hovermode": "closest",
          "mapbox": {
           "style": "light"
          },
          "paper_bgcolor": "white",
          "plot_bgcolor": "#E5ECF6",
          "polar": {
           "angularaxis": {
            "gridcolor": "white",
            "linecolor": "white",
            "ticks": ""
           },
           "bgcolor": "#E5ECF6",
           "radialaxis": {
            "gridcolor": "white",
            "linecolor": "white",
            "ticks": ""
           }
          },
          "scene": {
           "xaxis": {
            "backgroundcolor": "#E5ECF6",
            "gridcolor": "white",
            "gridwidth": 2,
            "linecolor": "white",
            "showbackground": true,
            "ticks": "",
            "zerolinecolor": "white"
           },
           "yaxis": {
            "backgroundcolor": "#E5ECF6",
            "gridcolor": "white",
            "gridwidth": 2,
            "linecolor": "white",
            "showbackground": true,
            "ticks": "",
            "zerolinecolor": "white"
           },
           "zaxis": {
            "backgroundcolor": "#E5ECF6",
            "gridcolor": "white",
            "gridwidth": 2,
            "linecolor": "white",
            "showbackground": true,
            "ticks": "",
            "zerolinecolor": "white"
           }
          },
          "shapedefaults": {
           "line": {
            "color": "#2a3f5f"
           }
          },
          "ternary": {
           "aaxis": {
            "gridcolor": "white",
            "linecolor": "white",
            "ticks": ""
           },
           "baxis": {
            "gridcolor": "white",
            "linecolor": "white",
            "ticks": ""
           },
           "bgcolor": "#E5ECF6",
           "caxis": {
            "gridcolor": "white",
            "linecolor": "white",
            "ticks": ""
           }
          },
          "title": {
           "x": 0.05
          },
          "xaxis": {
           "automargin": true,
           "gridcolor": "white",
           "linecolor": "white",
           "ticks": "",
           "title": {
            "standoff": 15
           },
           "zerolinecolor": "white",
           "zerolinewidth": 2
          },
          "yaxis": {
           "automargin": true,
           "gridcolor": "white",
           "linecolor": "white",
           "ticks": "",
           "title": {
            "standoff": 15
           },
           "zerolinecolor": "white",
           "zerolinewidth": 2
          }
         }
        },
        "title": {
         "text": "3d TSNE Plot for Topic Model"
        },
        "width": 900
       }
      },
      "text/html": [
       "<div>\n",
       "        \n",
       "        \n",
       "            <div id=\"f56f9c85-3664-4999-a9b0-545133573fcc\" class=\"plotly-graph-div\" style=\"height:800px; width:900px;\"></div>\n",
       "            <script type=\"text/javascript\">\n",
       "                require([\"plotly\"], function(Plotly) {\n",
       "                    window.PLOTLYENV=window.PLOTLYENV || {};\n",
       "                    \n",
       "                if (document.getElementById(\"f56f9c85-3664-4999-a9b0-545133573fcc\")) {\n",
       "                    Plotly.newPlot(\n",
       "                        'f56f9c85-3664-4999-a9b0-545133573fcc',\n",
       "                        [{\"hoverlabel\": {\"namelength\": 0}, \"hovertemplate\": \"Dominant_Topic=Topic 0<br>0=%{x}<br>1=%{y}<br>2=%{z}\", \"legendgroup\": \"Dominant_Topic=Topic 0\", \"marker\": {\"color\": \"#636efa\", \"opacity\": 0.7, \"symbol\": \"circle\"}, \"mode\": \"markers\", \"name\": \"Dominant_Topic=Topic 0\", \"scene\": \"scene\", \"showlegend\": true, \"type\": \"scatter3d\", \"x\": [8.997366905212402, 9.412686347961426, 4.407586097717285, 9.34566879272461, 8.27720832824707, 9.686524391174316, 8.146326065063477, 9.653964042663574, 4.41333532333374, 7.819936275482178, 9.278473854064941, 5.199081897735596, 9.422155380249023, 7.823430061340332, 9.079663276672363, 8.104248046875, 9.11059284210205, 8.922628402709961, 8.092208862304688, 9.262609481811523, 7.828670024871826, 9.66551399230957, 7.86643648147583, 9.550520896911621, 8.025683403015137, 8.792067527770996, 9.079423904418945, 9.58523941040039, 7.923698425292969, 8.447020530700684, 8.95783519744873, 7.898143768310547, 9.589873313903809, 8.952610969543457, 8.83423900604248, 8.132015228271484, 9.514399528503418, 5.966135025024414, 7.814086437225342, 7.8169684410095215, 7.51877498626709, 8.833528518676758, 9.289528846740723, 8.262323379516602, 6.102834701538086], \"y\": [-5.105642795562744, -5.205825328826904, -4.149407386779785, -4.7373881340026855, -5.485618591308594, -5.185085296630859, -5.557745456695557, -4.965277194976807, -4.151126384735107, -6.023341655731201, -5.423545837402344, -5.03856086730957, -5.018034934997559, -6.102020740509033, -4.592785358428955, -5.585861682891846, -4.637548923492432, -5.056573867797852, -5.591269016265869, -5.425929546356201, -5.909066677093506, -5.078699588775635, -5.962629318237305, -5.315699577331543, -5.660608768463135, -4.911100387573242, -5.181853294372559, -4.682387828826904, -5.737748622894287, -5.392524719238281, -4.703203201293945, -5.905492305755615, -4.700261116027832, -5.197312831878662, -5.200379848480225, -5.570218086242676, -4.655771732330322, -6.470082759857178, -6.13953161239624, -6.086097717285156, -6.2087931632995605, -5.134428977966309, -4.980122089385986, -5.4941301345825195, -5.632813930511475], \"z\": [5.990355968475342, 6.904907703399658, 3.8042118549346924, 6.886903285980225, 4.5905070304870605, 6.541407585144043, 4.30574369430542, 6.3017578125, 3.8087520599365234, 2.6703977584838867, 6.584085464477539, 2.125439405441284, 6.083218097686768, 2.4255893230438232, 6.439932346343994, 4.197348594665527, 6.693354606628418, 6.760195732116699, 4.174910068511963, 6.535866737365723, 3.0297253131866455, 6.755433559417725, 2.8830177783966064, 6.409544467926025, 3.9206955432891846, 6.460550785064697, 6.861536502838135, 6.434901237487793, 3.6190202236175537, 4.948633670806885, 6.248363494873047, 3.0803611278533936, 6.403398513793945, 5.85128116607666, 5.710550785064697, 4.259402275085449, 6.706380367279053, 2.580730676651001, 2.2893545627593994, 2.4750914573669434, 2.2175791263580322, 6.31577730178833, 6.974148750305176, 4.5547590255737305, 3.2949728965759277]}, {\"hoverlabel\": {\"namelength\": 0}, \"hovertemplate\": \"Dominant_Topic=Topic 1<br>0=%{x}<br>1=%{y}<br>2=%{z}\", \"legendgroup\": \"Dominant_Topic=Topic 1\", \"marker\": {\"color\": \"#EF553B\", \"opacity\": 0.7, \"symbol\": \"circle\"}, \"mode\": \"markers\", \"name\": \"Dominant_Topic=Topic 1\", \"scene\": \"scene\", \"showlegend\": true, \"type\": \"scatter3d\", \"x\": [0.20874199271202087, -1.6698791980743408, 0.2758411765098572, -0.20077776908874512, -2.067181348800659, 8.988018035888672, 8.1817626953125, 7.544647216796875, -0.861717164516449, 0.03232283890247345, 2.738832712173462, 4.445051193237305, 7.0196099281311035, 0.5477749705314636, -0.49489256739616394, -0.314556747674942, -2.8556411266326904, -2.5326082706451416, -0.6099932789802551, -1.1249330043792725, -2.4356586933135986, 1.6385483741760254, 6.043238639831543, -0.2775692939758301, 8.689972877502441, 2.4340660572052, 8.514606475830078, 3.160513401031494, -2.4471209049224854, -2.4431114196777344, -3.173114776611328, -2.7677595615386963, -3.1989498138427734, -0.4716629981994629, -2.4366633892059326, -2.369987726211548, -0.4870075583457947, -2.842064380645752, -2.921311855316162, -3.3689846992492676, -2.061263084411621, -2.432663679122925, 0.21118740737438202, 5.484628677368164, 3.40224289894104, 3.9512672424316406, -2.7423460483551025, 6.729315757751465, -2.564788818359375, -2.2067806720733643, -0.16341234743595123, -0.2231578528881073, -3.1180503368377686, 8.371986389160156, 6.580211162567139, -1.1137959957122803, -2.603414297103882, 3.160914182662964, -2.6514976024627686, 4.073994159698486, 3.5152318477630615, 8.656417846679688, -2.6780126094818115, 0.4695115387439728, 5.765011787414551, 2.989835262298584, -2.8495194911956787, 5.390105247497559, 0.30905812978744507, -1.627700924873352, -1.0987251996994019, -1.611748456954956, -1.080466389656067, 5.469179153442383, 8.646668434143066, 1.5398237705230713, 3.753391981124878, 1.6045869588851929, 2.0303592681884766, -0.4123867154121399, -2.0794503688812256, -2.789459228515625, -2.1247448921203613, 1.4982028007507324, -2.5901150703430176, -2.1586155891418457, -2.479506254196167, 8.09598159790039, 3.1272592544555664, 7.789158344268799, 6.677449703216553, -1.8181041479110718, 0.5049271583557129, 3.8559114933013916, 8.37641429901123, 0.616761326789856, 0.024702882394194603, 0.3117675185203552, -2.0449187755584717, -2.358531951904297, -0.6127206087112427, -2.6714539527893066, 2.328707456588745, -0.9667550921440125, 4.499169826507568, -1.0305817127227783, -3.0381667613983154, -2.2943062782287598, -2.4532690048217773, 2.0342257022857666, -1.5858815908432007, 8.344977378845215, 6.389063358306885, -2.5378153324127197, 2.150204658508301, -0.41339704394340515, -2.6166110038757324, 1.8741577863693237, 6.398258209228516, 2.210890054702759, -3.0310351848602295, -2.2988460063934326, -2.232944965362549, 8.142658233642578, 7.279238700866699, 0.1382111757993698, -2.7938809394836426, -2.3014438152313232, -0.2693733274936676, -3.251011610031128, -2.2660577297210693, -2.6162800788879395, -2.1817073822021484, 8.349892616271973, 8.409584045410156, 6.003870010375977, -1.6399201154708862, 6.3230509757995605, -2.146304130554199, -1.523785948753357, 6.921806335449219, 0.22183948755264282, -2.3535752296447754, 6.469267845153809, 3.927138566970825, -1.8838319778442383, 6.7250542640686035, 1.3665615320205688, 1.7030881643295288, -1.2326353788375854, -1.2579904794692993, -2.4359045028686523, -2.2754015922546387, -3.1112442016601562, -0.7090768218040466, -0.9617337584495544, -2.591458797454834, 1.518101692199707, 8.306495666503906, 0.038277894258499146, 2.171661615371704, 6.334635257720947, 4.888014316558838, -2.0247435569763184, -0.774202287197113, 7.678192615509033, -2.272402048110962, -2.438807964324951, 0.8472761511802673, -3.2480835914611816, -2.192282199859619, 2.432995319366455, -0.9231196641921997, -0.7433080673217773, 5.280591011047363, -0.2524084746837616, 7.015537738800049, -2.3680789470672607, -3.220141649246216, -0.13954326510429382, -1.436330795288086, -2.4163050651550293, 0.9677900075912476, 7.980000019073486, 6.592051982879639, -2.5766241550445557, 8.362585067749023, -1.6206133365631104, -1.5293190479278564, 4.211967945098877, -1.267303705215454, -3.0865323543548584, -0.28764617443084717, -2.6238057613372803, -2.2116661071777344, -3.419393539428711, -0.6638501286506653, 1.508989691734314, -0.25342097878456116, -8.91624641418457, -0.20856313407421112, 6.259335994720459, 6.144556045532227, 4.315807819366455, -2.894477605819702, 3.8140316009521484, 5.466814994812012, 8.640888214111328, -2.9479897022247314, -1.4206743240356445, 2.135464668273926, -2.0623741149902344, 3.6125171184539795, 3.3463072776794434, -1.9788920879364014, 4.191222190856934, 1.3041492700576782, -2.3689017295837402, -0.0969630777835846, 0.9223917722702026, -1.4778128862380981, 0.48911532759666443, -2.1172988414764404, 1.6760218143463135, 4.222582817077637, 3.2140238285064697, 8.067352294921875, 7.203489780426025, 3.566842794418335, -0.4582182466983795, -1.1236852407455444, -0.3120908737182617, -0.3471631407737732, -2.555934429168701, 3.3071179389953613, -2.572103500366211, -0.5424901247024536, 3.6070969104766846], \"y\": [4.70805025100708, -0.4014657437801361, 6.761518955230713, 1.02211332321167, 2.4925084114074707, 11.983848571777344, 12.149418830871582, 11.585418701171875, 5.70579195022583, 6.868160724639893, 8.468550682067871, 9.326740264892578, 11.161714553833008, 7.148458480834961, 3.7302675247192383, 1.1935334205627441, -4.630743503570557, -4.6936163902282715, 0.4195765554904938, 5.24583101272583, -1.5372097492218018, 7.851011276245117, 10.507107734680176, 6.445443630218506, 12.391303062438965, 8.318456649780273, 12.314537048339844, 7.210844039916992, -1.9045755863189697, -1.848053216934204, -5.323094844818115, -4.315508842468262, -5.332719802856445, 0.6015405058860779, -2.534658670425415, -0.4836058020591736, 3.7268974781036377, -1.5126997232437134, -4.804662227630615, -5.566157817840576, 1.7833865880966187, -2.4043283462524414, 7.010056972503662, 10.000946998596191, 8.739370346069336, 6.004831314086914, -4.178502559661865, 10.996888160705566, -2.091987371444702, 1.2029500007629395, 0.8880351185798645, 1.0871073007583618, -5.38519811630249, 12.31910514831543, 10.744852066040039, 5.266727924346924, -3.220118284225464, 8.666631698608398, -3.600144624710083, 9.093273162841797, 8.799445152282715, 12.461222648620605, -3.7705881595611572, 6.795124053955078, 10.174858093261719, 8.59122371673584, -4.626988410949707, 9.939935684204102, 7.116507530212402, 0.013788484036922455, 5.314634799957275, 3.9767279624938965, 5.333755016326904, 9.992338180541992, 12.32419490814209, 2.574068069458008, 8.909723281860352, 7.824852466583252, 8.111979484558105, 6.289149761199951, 2.443429470062256, -4.420406818389893, 2.3655667304992676, 2.5366275310516357, -3.1451964378356934, 1.8218992948532104, -5.052666664123535, 11.965119361877441, 8.642692565917969, 11.805390357971191, 10.658414840698242, 1.8084652423858643, 7.093294143676758, 6.089607238769531, 10.140996932983398, 7.196951866149902, 5.494570255279541, 6.7781453132629395, 2.371380567550659, -0.24824364483356476, 3.531109571456909, -3.736384391784668, 8.27031135559082, 5.524320602416992, 9.361956596374512, 5.421587944030762, -5.085093021392822, 0.426508367061615, -1.92788827419281, 8.084945678710938, 1.690233826637268, 10.27830982208252, 10.914885520935059, -2.5484871864318848, 8.162382125854492, 6.263247966766357, -2.4477832317352295, 7.998852729797363, 10.39037036895752, 8.220393180847168, -5.280124664306641, 0.4010569155216217, 0.9152899980545044, 12.105081558227539, 11.379572868347168, 6.822535991668701, -4.436735153198242, -1.9088770151138306, 6.443552017211914, -5.425156593322754, 0.6982985138893127, -3.337163209915161, -4.585246562957764, 12.3499755859375, 11.562263488769531, 10.354462623596191, 3.855466604232788, 10.585540771484375, 2.2551252841949463, 4.247709274291992, 11.110060691833496, 6.608469486236572, -0.27116501331329346, 10.451486587524414, 9.004034042358398, 3.0271177291870117, 10.841660499572754, 7.663568019866943, 7.895625114440918, -6.270205974578857, 4.9011054039001465, -1.5619158744812012, 0.6725814342498779, -5.2098236083984375, 5.9144439697265625, -6.234757900238037, -3.150233507156372, 7.75885534286499, 11.622185707092285, 7.003656387329102, 8.152552604675293, 10.666574478149414, 9.610572814941406, 2.4370248317718506, 0.09990967065095901, 11.708627700805664, 0.6995875835418701, -1.6143425703048706, 7.336800575256348, -5.389719009399414, 1.7439353466033936, 8.305719375610352, 3.010467052459717, 3.1640734672546387, 9.864646911621094, 0.831630527973175, 10.691045761108398, -0.37398484349250793, -5.35312032699585, 6.666158676147461, 2.4933135509490967, -1.1298515796661377, 7.4109344482421875, 12.018238067626953, 10.988561630249023, -2.822216033935547, 12.135756492614746, 2.4323904514312744, 4.218233108520508, 9.177284240722656, 4.863435745239258, -5.150214195251465, 4.812331676483154, -3.3940725326538086, 1.430107593536377, -5.600718975067139, 0.23510974645614624, 2.543233633041382, 6.545222282409668, 14.8556489944458, 1.6579152345657349, 10.352521896362305, 10.753558158874512, 9.245898246765137, -4.717918395996094, 5.998149394989014, 9.991498947143555, 12.349843978881836, -4.881609916687012, 4.5388875007629395, 7.520259380340576, -4.704345226287842, 8.855274200439453, 7.57503080368042, 2.4750118255615234, 9.178315162658691, 7.639396667480469, -0.4014911949634552, 6.463562965393066, 7.3866496086120605, 4.357444763183594, 6.964863300323486, 2.1315643787384033, 7.887474536895752, 9.189651489257812, 7.198072910308838, 11.981161117553711, 11.287686347961426, 8.82176399230957, 0.6638561487197876, 2.8280322551727295, 6.4249186515808105, 6.330986022949219, -2.3604114055633545, 7.242343425750732, -2.839364767074585, 6.123302936553955, 7.866460800170898], \"z\": [14.775421142578125, 14.103482246398926, 12.198591232299805, 11.222787857055664, 15.547054290771484, 4.053603649139404, 4.057973384857178, 4.769112586975098, 13.873467445373535, 11.767778396606445, 8.726826667785645, 7.187267780303955, 5.212366580963135, 11.37880802154541, 12.7319917678833, 11.560835838317871, 12.922286033630371, 12.38613510131836, 11.807637214660645, 14.370753288269043, 15.30525016784668, 9.9359712600708, 5.879614353179932, 12.815167427062988, 4.004938125610352, 9.03756332397461, 3.93975830078125, 8.210836410522461, 15.227851867675781, 15.236669540405273, 11.680633544921875, 13.30397891998291, 11.68871021270752, 11.58747673034668, 14.938603401184082, 15.555122375488281, 12.711577415466309, 14.85643482208252, 12.692880630493164, 10.861946105957031, 15.433477401733398, 14.998213768005371, 12.098861694335938, 6.395669937133789, 8.071234703063965, 7.9014787673950195, 13.45850944519043, 5.487996578216553, 15.103269577026367, 15.71277904510498, 11.074426651000977, 11.304512023925781, 11.237080574035645, 3.963338613510132, 5.316318035125732, 14.355497360229492, 14.409822463989258, 8.316926956176758, 14.071113586425781, 7.479443550109863, 7.9740681648254395, 4.04535436630249, 13.907488822937012, 11.837015151977539, 6.1719136238098145, 8.477677345275879, 12.922205924987793, 6.46829080581665, 11.769844055175781, 14.189554214477539, 14.315439224243164, 15.116096496582031, 14.293173789978027, 6.409416198730469, 4.256720542907715, 14.836136817932129, 7.75738525390625, 9.981880187988281, 9.462024688720703, 12.984676361083984, 15.561551094055176, 13.181275367736816, 15.602234840393066, 14.857604026794434, 14.463788986206055, 15.71958065032959, 10.93602180480957, 4.318200588226318, 8.346475601196289, 4.568278789520264, 5.81339168548584, 15.07773208618164, 11.425641059875488, 7.954174995422363, 4.807898998260498, 11.281720161437988, 11.953182220458984, 11.596556663513184, 15.571029663085938, 15.61682415008545, 12.944583892822266, 13.938680648803711, 9.144571304321289, 14.09046459197998, 7.144608974456787, 14.202021598815918, 12.209153175354004, 15.679354667663574, 15.197948455810547, 9.464201927185059, 15.795302391052246, 4.7776947021484375, 5.76997184753418, 14.711338996887207, 9.335077285766602, 12.996009826660156, 14.914576530456543, 9.638261795043945, 5.883196830749512, 9.264021873474121, 11.502758979797363, 15.679661750793457, 15.697585105895996, 4.108612537384033, 4.973859786987305, 11.655804634094238, 13.160544395446777, 14.831676483154297, 12.675962448120117, 11.465824127197266, 15.70398998260498, 14.291329383850098, 12.037671089172363, 4.347970008850098, 4.35720682144165, 5.999806880950928, 15.142541885375977, 5.994817733764648, 15.669633865356445, 15.001498222351074, 5.266384124755859, 12.153839111328125, 15.57304859161377, 5.514720916748047, 7.609292507171631, 15.409683227539062, 5.725522994995117, 10.27985668182373, 9.86086654663086, 7.916943550109863, 14.635013580322266, 15.310199737548828, 15.711010932922363, 11.973955154418945, 13.57390022277832, 7.923794746398926, 14.467724800109863, 10.082304954528809, 3.687911033630371, 11.908876419067383, 9.309212684631348, 5.403352737426758, 6.847061634063721, 15.54232406616211, 12.005206108093262, 4.656182289123535, 15.712182998657227, 15.30456829071045, 10.973349571228027, 11.547782897949219, 15.725184440612793, 9.042470932006836, 13.471999168395996, 13.12332534790039, 6.547186851501465, 11.236383438110352, 5.3346171379089355, 15.59096908569336, 11.645556449890137, 12.150247573852539, 14.463842391967773, 15.42072868347168, 10.815796852111816, 4.427297115325928, 5.397826671600342, 14.694197654724121, 4.444242000579834, 15.615426063537598, 15.012118339538574, 7.371701240539551, 14.660301208496094, 12.112415313720703, 14.714174270629883, 14.251128196716309, 15.728368759155273, 10.711823463439941, 11.804100036621094, 14.850031852722168, 12.495287895202637, 9.638009071350098, 11.574991226196289, 5.696652412414551, 5.6791205406188965, 7.287815093994141, 12.823331832885742, 8.006539344787598, 6.409087181091309, 4.247635841369629, 12.559538841247559, 14.861169815063477, 9.30859375, 11.291449546813965, 7.8914055824279785, 7.994965076446533, 15.516179084777832, 7.394890785217285, 10.36142349243164, 15.526887893676758, 12.575648307800293, 10.869405746459961, 14.947365760803223, 11.708239555358887, 15.71570110321045, 9.894918441772461, 7.366361618041992, 8.15733814239502, 4.353826522827148, 5.058262348175049, 7.926621913909912, 11.597586631774902, 15.587923049926758, 12.827167510986328, 12.85651969909668, 15.062044143676758, 8.060296058654785, 14.700364112854004, 13.254817008972168, 6.953055381774902]}, {\"hoverlabel\": {\"namelength\": 0}, \"hovertemplate\": \"Dominant_Topic=Topic 2<br>0=%{x}<br>1=%{y}<br>2=%{z}\", \"legendgroup\": \"Dominant_Topic=Topic 2\", \"marker\": {\"color\": \"#00cc96\", \"opacity\": 0.7, \"symbol\": \"circle\"}, \"mode\": \"markers\", \"name\": \"Dominant_Topic=Topic 2\", \"scene\": \"scene\", \"showlegend\": true, \"type\": \"scatter3d\", \"x\": [3.178483009338379, 3.2885913848876953, -5.017777442932129, 2.327416181564331, 2.857165813446045, -4.928812503814697, 2.1437339782714844, 7.305780410766602, -5.312701225280762, -2.382993459701538, 2.6408896446228027, -4.374304294586182, -5.877997875213623, 1.821793556213379, -1.3141940832138062, -5.73383903503418, 5.240363597869873, -5.061923980712891, -2.120990037918091, -1.511454463005066, -3.372490167617798, -5.045364856719971, 2.617607831954956, -4.018099308013916, -1.7384178638458252, -4.299863815307617, 2.623560667037964, 3.2620880603790283, -0.9469819664955139, -3.3996775150299072, -5.252976417541504, -4.533943176269531, -5.396208763122559, -2.1721506118774414, -5.247073650360107, -1.858539342880249, -5.1529412269592285, -3.113931179046631, -5.173628807067871, -5.200039386749268, -0.7874541282653809, 2.862185478210449, 2.123375415802002, -1.616294503211975, -1.6784342527389526, -5.297951698303223, -5.035665035247803, -2.175219774246216, -3.2009456157684326, -1.0008835792541504, 3.3196282386779785, -0.8741560578346252, 7.543962478637695, 2.0067803859710693, -3.971820116043091, 3.3559718132019043, -3.0410330295562744, 5.701529026031494, -4.590788841247559, 2.5512561798095703, -1.7419644594192505, -2.5140633583068848, 6.698200225830078, -5.52719259262085, -4.121830463409424, -5.075124263763428, 2.372851610183716, 0.33212846517562866, -2.218169927597046, -5.316702842712402, -5.318863391876221, -5.059333801269531, -5.304102897644043, -2.5264437198638916, -5.330321788787842, 4.751709938049316, -5.189545631408691, -5.260087490081787, 1.4686768054962158, -5.2284111976623535, -1.7455140352249146, -5.376399517059326, 2.8280086517333984, 4.434597492218018, -5.292819499969482, 2.7708873748779297, -3.690913677215576, -0.22655929625034332, 0.652177631855011, -5.024730205535889, -1.892473816871643, -2.9145874977111816, -4.523243427276611, 2.381416082382202, -2.001668691635132, -4.764211177825928, -5.324895858764648, -4.229239463806152, 2.915588855743408, -4.920685768127441, -3.503413438796997, -4.042294979095459, -0.9843304753303528, 0.7113749980926514, -1.643343448638916, -2.6301345825195312, -1.333838701248169, 1.6268024444580078, 4.141232967376709, 2.259479522705078, -3.879772901535034, -1.9857470989227295, -5.297783374786377, -5.2816972732543945, -2.9100682735443115, -3.9055516719818115, 6.914231300354004, 0.13186845183372498, -3.6193735599517822, -5.465307235717773, 1.0845420360565186, 2.1806318759918213, -2.530332088470459, -3.932694435119629, 1.7112234830856323, -2.87345552444458, 0.777906060218811, 2.3528573513031006, -4.407752513885498, -5.36769437789917, -5.474266052246094, -5.118872165679932, -3.5376453399658203, -1.5858221054077148, 6.419119834899902, -1.1456257104873657, 6.338778018951416, 2.271124839782715, -4.751554012298584, -2.7702977657318115, 2.9830849170684814, -2.875436782836914, -3.160984516143799, -1.122488021850586, -0.08781812340021133, 0.8952946066856384, -5.404242992401123, -5.040253639221191, -4.631188869476318, -3.4853408336639404, -4.889544486999512, -5.327226161956787, -0.1868099719285965, -3.464611768722534, -1.267274260520935, -5.456822395324707, 2.0906319618225098, -3.8727006912231445, -1.0300298929214478, 1.4813717603683472, 3.340325355529785, -5.441429138183594, 2.3584635257720947, 2.1307313442230225, -1.060054898262024, -4.516351699829102, 1.9418686628341675, 2.072831869125366, -5.214158058166504, -2.479616403579712, 0.20130062103271484, -3.2925162315368652, -4.73710298538208, -3.551053524017334, -5.414766788482666, 2.447618246078491, 7.731807231903076, -0.8348705768585205, -4.166044235229492, -2.987203359603882, 4.714134216308594, 1.3199208974838257, -0.9438700675964355, -3.532356023788452, -5.465764999389648, -5.326115131378174, -2.5515265464782715, 2.7733678817749023, 2.270317316055298, 2.3984811305999756, -4.78528356552124, -3.7102720737457275, 1.765313982963562, -0.9222889542579651, 0.42557159066200256, 6.677075386047363, -2.135112762451172, -4.500438213348389, -0.7900491952896118, -5.300720691680908, -5.499397277832031, -2.5522470474243164, 3.632316827774048, -5.357486724853516, 6.814517498016357, 2.4458649158477783, 2.410872220993042, -2.4471237659454346, -1.6275230646133423, -4.950458526611328, 5.540874004364014, -4.7804083824157715, -3.6911327838897705, 5.430394649505615, -1.4808341264724731, -0.7199293971061707, -5.45999002456665, -1.2372695207595825, -2.6642403602600098, 3.1000912189483643, -3.567523956298828, 2.2590768337249756, -5.010489463806152, 0.07828465104103088, 0.8820770382881165, -5.3528313636779785, -4.895248889923096, 6.968096733093262, -2.5508460998535156, -0.7612262964248657, -3.1456985473632812, -4.394277095794678, -1.3886274099349976, 0.006263626739382744, -0.286350816488266, -1.2397733926773071, -3.5935187339782715, 5.22804069519043, -0.4095546007156372, 2.156144142150879, -4.88367223739624, -2.5311763286590576, -3.7205302715301514, -2.7286036014556885, -3.6070048809051514, 1.3688690662384033, -4.442180156707764, -5.2643256187438965, -4.978193759918213, -4.806689739227295, 2.354161500930786, 1.5721126794815063, -5.138590335845947, -5.188412666320801, -5.349707126617432, -5.0292840003967285, -1.415610909461975, -5.534493923187256, 7.634791374206543, -0.023532798513770103, -0.9350388646125793, -1.334591269493103, 1.1854987144470215, -5.457885265350342, 4.829601287841797, -1.8594927787780762, 2.72102689743042, 1.8575661182403564, -4.971111297607422, 1.6042094230651855, -1.9361649751663208, 0.8338296413421631, 4.811764717102051, -0.9556043744087219, -5.415345668792725, -0.9481874704360962, -5.348324298858643, 0.05773208662867546, -0.5437889695167542, -2.903658151626587, -1.173628807067871, 2.3625035285949707, 5.8552985191345215, 0.49368834495544434, -2.4677319526672363, 5.019115924835205, 5.057127952575684, -5.366371154785156, -3.6034932136535645, 5.301058292388916, 4.780587673187256, -5.304112434387207, -3.768763542175293, -5.213537216186523, -2.5732007026672363, 0.8495611548423767, -5.347114562988281, -0.0013149392325431108, 1.0895847082138062, -4.9139018058776855, -4.217111110687256, 2.3849942684173584, -5.544605731964111, -4.767694473266602, 7.047554016113281, -4.881524085998535, 0.7843640446662903, -5.416563034057617, -4.587966442108154, 3.1260366439819336, 7.573154926300049, -4.292401313781738, 2.6498382091522217, 1.8421074151992798, 2.910480499267578, -2.4293477535247803, -5.535953044891357, 5.827564239501953, -5.494513511657715, 2.448406457901001, -5.906416416168213, -1.1293063163757324, -1.5905076265335083, 2.0609686374664307, 1.648650884628296, -3.1465647220611572, -5.042773246765137, 7.63889741897583, -1.8741666078567505, -3.693582534790039, -4.992835998535156, -3.066258192062378, -3.069279432296753, 1.130011796951294, 1.152842402458191, 0.06022688373923302, 1.2645570039749146, -3.6788077354431152, 1.941788911819458, 2.4317080974578857, -1.0126099586486816, 1.4309576749801636, -3.7061054706573486, -5.23478364944458, -2.9495890140533447, -4.286191463470459, 7.703089237213135, -4.797709941864014, -4.810935020446777, 5.3700151443481445, -3.651656150817871, -4.8357462882995605, 3.2690863609313965, -4.792461395263672, 6.636260032653809, 2.039658546447754, 0.17278477549552917, 2.353426218032837, -1.4775168895721436, -0.047730423510074615, 1.1722124814987183, -4.181496620178223, 2.7198526859283447, 1.0115792751312256, 4.187787055969238, -1.1078894138336182, -3.6715188026428223, 0.44079339504241943, -3.8984670639038086, -0.1679926961660385, -2.1016080379486084, 3.339611053466797, -1.3757460117340088, -3.34592342376709, -5.104730606079102, 2.5587055683135986, 5.054943084716797, 2.382117748260498, -5.5004682540893555, 3.346514940261841, 4.078071594238281, -3.643684148788452, -4.167235851287842, -5.346711158752441, 1.2535336017608643, 2.3228890895843506, -4.542620658874512, 2.555619478225708, -5.3639726638793945, -1.8647880554199219, -5.509396076202393, -1.473934531211853, -0.5105359554290771, -0.7863609790802002, 0.5534763932228088, -2.259073257446289, -3.878418445587158, 7.151288986206055, -1.139582633972168, -4.7540507316589355, -2.5092406272888184, 2.331174373626709, -5.514773845672607, 2.487489938735962, 3.189927101135254, 6.93120813369751, 2.2488973140716553, -1.1048481464385986, -5.282853603363037, -5.318099498748779, 2.4984817504882812, -3.091205596923828, -1.7683488130569458, 2.3648180961608887, -3.356963634490967, 4.002508640289307, -5.5170440673828125, -5.424995422363281, -0.5914407968521118, -5.310248374938965, 1.5878764390945435, -5.05836296081543, 0.3151593506336212, 2.51296329498291, -3.7021563053131104, -5.419754505157471, -5.003506660461426, 3.391719341278076, -4.776338577270508, -4.847656726837158, -5.4070658683776855, -1.8312029838562012, -4.636419296264648, -5.337124347686768, 3.02695631980896, -4.6992974281311035, -3.276531934738159, -3.775381088256836, -4.572792053222656, -5.1994547843933105, 6.485051155090332, -4.468410015106201, 2.5896787643432617, -5.535247802734375, 0.1632804125547409, 2.8924665451049805, 3.105692148208618, 0.6383339762687683, -5.354289531707764, -4.936680316925049, -3.79245662689209, 2.0378665924072266, 0.17509713768959045, 2.712235450744629, 5.141941070556641, -5.073736190795898, -1.2463059425354004, 2.6950843334198, -3.411853551864624, -1.044791340827942, -1.8852864503860474, -5.271628379821777, -5.100890159606934, 1.4125688076019287, -4.927138805389404, -5.882209300994873, -5.292941093444824, 1.7907781600952148, -1.9206453561782837, -1.8164403438568115, -2.9476075172424316, 2.462312698364258, -2.3803956508636475, -4.920259475708008, 2.0424532890319824, -1.9739298820495605, 2.741342306137085, 5.225597381591797, -5.0862956047058105, -5.190351963043213, 2.1882801055908203, -4.938153266906738, 3.551813840866089, -2.7468178272247314, -1.8549507856369019, -3.4939699172973633, 2.494964361190796, -0.9908438920974731, 2.4366278648376465, -1.574000358581543, 2.2759993076324463, 5.104074001312256, -4.858392238616943, 1.9381715059280396, -5.432950019836426, -0.11220727860927582, -1.1739698648452759, -4.774862766265869, -1.4122036695480347, -1.2129485607147217, -4.614485263824463, -3.673734664916992, -5.034721374511719, -3.806251287460327, 2.245542049407959, 5.424266815185547, -0.08752398937940598, -1.3273481130599976, 6.3530049324035645, -2.2833290100097656, 7.754368305206299, 4.273026943206787, -2.8594002723693848, -5.4358015060424805, -4.143703460693359, 3.235701560974121, -0.8606436252593994, -0.4532744586467743, 5.107503414154053, -5.438492774963379, 2.3641247749328613, -1.6320630311965942, 6.007061958312988, -2.078524351119995, 2.567030906677246, -4.958176136016846, 1.5014289617538452, -5.277934551239014, -1.6127127408981323, 1.4714668989181519, 6.705887317657471, -1.550981879234314, 1.6126723289489746, 6.256244659423828, 2.9347760677337646, 6.371603965759277, -5.4954609870910645, 2.3923747539520264, 3.689297914505005, -4.386940956115723, 2.3354599475860596, -2.4243600368499756, 5.045154571533203, -2.311234712600708, -1.7044161558151245, 1.374815821647644, 2.661524772644043, 2.032824993133545, -5.319551467895508, -5.300690174102783, -3.4375507831573486, -5.378440856933594, 2.771333932876587, -2.4517135620117188, 6.538054466247559, 2.4739673137664795, 1.8744522333145142, -5.486845970153809, -5.368969440460205, -4.112659454345703, -1.3882560729980469, 7.680270671844482, -2.5246546268463135, 2.4862637519836426, -0.7132547497749329, -4.138967037200928, 2.7759058475494385, -4.809284687042236, 1.6408474445343018, -4.213791370391846, -0.635148286819458, -5.349198818206787, -1.4041868448257446, -4.862091541290283, 2.432612180709839, 1.5390615463256836, -2.5597097873687744, 2.4343364238739014, -4.687025547027588, 2.8512327671051025, -5.461458206176758, -2.588402509689331, -5.360160827636719, -4.921660900115967, -5.535688877105713, -1.2576185464859009, 3.096090078353882, -2.5014777183532715, -5.335464000701904, -1.3029786348342896, -1.8652660846710205, 1.9668822288513184, -1.1018708944320679, 0.4109761118888855, 1.3319863080978394, -2.7912914752960205, -5.349200248718262, -1.9122180938720703, -1.1936368942260742, 3.3327677249908447, 2.6717073917388916, -1.913288950920105, -4.535175800323486, 1.7915515899658203, 7.4358015060424805, -5.306971073150635, -2.1222407817840576, -4.475341796875, -4.901357650756836, 6.315975666046143, 4.367250919342041, -2.761909246444702, 0.7885598540306091, 3.1144049167633057, -3.7509586811065674, 4.235416889190674, -2.2759571075439453, -5.336575984954834, 0.15787644684314728, -1.8692818880081177, 0.4378508925437927, 0.2208194136619568, 2.015766143798828, 2.8680145740509033, -4.33161735534668, 7.787303924560547, -5.532112121582031, 1.7256332635879517, -3.285135507583618, -5.084741592407227, -0.8641988635063171, -4.931129455566406, -1.8016200065612793, -3.3607137203216553, 6.450157642364502, -5.340118408203125, 2.006141185760498, -5.266781806945801, -5.272118091583252, 1.8436737060546875, 3.6433098316192627, -0.8457958102226257, -2.8317642211914062, -5.544126510620117, 2.3743505477905273, 7.069895267486572, -3.1272802352905273, -2.7947559356689453, -5.311840057373047, -5.112585067749023, -3.9090635776519775, -3.7485952377319336, -4.594474792480469, -4.941042900085449, -0.6433813571929932, -0.7088775038719177, -5.257848739624023, 2.865129232406616, -4.456705093383789, 4.124804496765137, 2.5673434734344482, -0.8013754487037659, -5.2695465087890625, 0.567707359790802, 3.330092668533325, -1.6335769891738892, -5.393178462982178, -3.559274911880493, -4.918272495269775, -3.9880788326263428, -1.0650882720947266, 7.252161502838135, 4.418461799621582, 1.5006928443908691, 2.0786962509155273, 2.3436567783355713, -3.4556968212127686, 2.684591770172119, -2.0673322677612305, 7.410165309906006, -3.9020164012908936, -5.265811920166016, -2.438300371170044, 4.775449752807617, -0.24102307856082916, -5.529170513153076, 2.7450578212738037, 1.0665959119796753, 7.29066276550293, 1.9453502893447876, -4.936059951782227, -5.3672051429748535, -0.9342576265335083, 1.2584534883499146, -2.035628318786621, -3.088040351867676, -5.547418594360352, -1.5257266759872437, 2.382565498352051, -2.6476268768310547, -5.346384525299072, -0.8486970663070679, 2.3281378746032715, -2.763446092605591, -0.8202013969421387, -0.7498123049736023, -2.80869197845459, 2.417294502258301, -3.3995702266693115, 2.144014596939087, -0.8199930787086487, 0.8204712867736816, -5.348790168762207], \"y\": [-5.452152729034424, -7.3834228515625, -0.366781622171402, 0.2963641285896301, 11.410243034362793, -9.543076515197754, -3.650836944580078, -6.485537052154541, -1.203934669494629, 16.02810287475586, 11.056875228881836, 0.7917397022247314, -8.543962478637695, 8.303237915039062, 15.451410293579102, -8.816076278686523, -5.904066562652588, -9.276965141296387, 0.07579519599676132, 6.969303607940674, 5.187335968017578, -9.311396598815918, 11.55401611328125, -5.9277801513671875, 6.872302532196045, 5.588163375854492, -4.890265464782715, -7.581958293914795, -1.8535634279251099, -1.1766374111175537, -4.636080265045166, -9.439508438110352, -2.612400531768799, 15.91967487335205, -4.910818576812744, -0.666104257106781, -8.700661659240723, 6.198447227478027, -9.029891014099121, -0.6356602907180786, 1.0868024826049805, -7.040412425994873, 12.32823657989502, -2.915534257888794, -3.188918352127075, -7.909706115722656, -10.251837730407715, -4.64404296875, -5.016332626342773, -3.078784465789795, -5.5077338218688965, 1.100771427154541, -6.379575252532959, 0.39955565333366394, -1.8466119766235352, -6.983713626861572, -3.420048952102661, -5.975102424621582, 2.569124221801758, 9.086956977844238, -3.2468178272247314, -4.456271648406982, -6.217615127563477, -8.694015502929688, 0.8166996240615845, -9.265827178955078, 0.38461488485336304, 0.05098219960927963, 15.945819854736328, -8.24404525756836, -1.3678549528121948, 1.6048557758331299, -5.546177387237549, -2.890206813812256, -7.0769944190979, -5.905178546905518, -9.97453498840332, -8.968092918395996, 13.189953804016113, -9.019149780273438, -1.395368218421936, -9.438862800598145, -6.046466827392578, -5.774796009063721, -7.635987758636475, 10.882040977478027, -1.5162769556045532, 4.58348274230957, 14.057692527770996, -10.262604713439941, 15.761571884155273, 16.24061393737793, -6.21872615814209, 11.909804344177246, 0.3060234487056732, -10.006959915161133, -8.968932151794434, -8.096407890319824, -6.565011024475098, 0.6703723669052124, -5.65043830871582, -7.993099689483643, -5.139683723449707, -3.826009511947632, -6.987748146057129, -4.528920650482178, 15.455430030822754, 12.999667167663574, -5.081233024597168, 0.9304919242858887, -5.865934371948242, -4.163646697998047, -7.615345001220703, -9.55385971069336, -3.7243106365203857, -9.246940612792969, -6.70813512802124, 14.486791610717773, -1.4575347900390625, -8.780474662780762, -4.444809913635254, -3.2463529109954834, 16.045032501220703, 17.139633178710938, -3.7624051570892334, -6.9802093505859375, 7.87546443939209, 2.5735199451446533, -6.11053466796875, -5.8831353187561035, -8.756375312805176, -7.808563232421875, -1.541229009628296, -5.006935119628906, -6.088456153869629, 2.221665143966675, -6.4237823486328125, 1.708735704421997, 1.3524953126907349, 6.4247145652771, -6.61669921875, 16.263715744018555, -7.231831073760986, 2.256293773651123, 14.65988540649414, 7.930025100708008, -1.7545760869979858, 1.276924729347229, 1.876685380935669, 5.921423435211182, -9.590462684631348, -6.851516246795654, 4.678700923919678, -6.62042760848999, -6.918238639831543, -8.377910614013672, -0.16023874282836914, -1.6749027967453003, -1.7973897457122803, 8.152932167053223, -5.819604396820068, -2.7623226642608643, 3.001126766204834, 12.313369750976562, 6.917823791503906, -6.217301845550537, 1.142440915107727, -5.299802303314209, -7.675093173980713, -2.925313949584961, 5.517940521240234, -1.6285609006881714, -6.433628082275391, -0.9054531455039978, -4.475341796875, 4.319993019104004, -6.337296009063721, 3.1532113552093506, -5.852027416229248, -4.696864604949951, -5.494380474090576, 13.379022598266602, 7.177468776702881, -8.908226013183594, -9.097762107849121, -1.161747694015503, -7.457552909851074, 10.77713394165039, 0.4013499617576599, 8.797131538391113, 1.5352857112884521, -9.069557189941406, 12.820834159851074, 7.186102867126465, -2.5083961486816406, -6.208027362823486, -2.6891398429870605, -1.6843016147613525, 2.28106951713562, -9.453557968139648, -4.775120735168457, -0.31225767731666565, -8.002256393432617, -6.906019687652588, -6.255639553070068, -4.818620681762695, 4.243241310119629, 6.7261481285095215, -4.488534450531006, 1.6556715965270996, -5.944060325622559, -10.027901649475098, 5.075889587402344, -5.9288330078125, -3.861663579940796, 0.5724785923957825, -2.8073878288269043, -6.913688659667969, 6.458879470825195, -6.679800510406494, 16.72834014892578, 0.5035011768341064, 0.6367031335830688, 5.272251129150391, 13.819086074829102, -1.2304576635360718, 0.8618553280830383, -6.330680847167969, -2.7873919010162354, 7.1688618659973145, -7.031822681427002, -0.7680779695510864, 1.5293283462524414, 14.588408470153809, 1.1091299057006836, 1.8591468334197998, -5.7208685874938965, -5.979633808135986, 4.153312683105469, 12.280076026916504, -9.839962005615234, -3.4506587982177734, 5.661869525909424, -4.5606489181518555, -5.700766563415527, 3.9129154682159424, 0.06378191709518433, -8.970392227172852, -10.292694091796875, -10.094545364379883, 12.015691757202148, 8.19113826751709, -10.117164611816406, -4.517480850219727, -7.033937931060791, -10.244587898254395, 15.516434669494629, -8.256082534790039, -6.190894603729248, 5.048563003540039, -5.17802095413208, 1.672351598739624, 3.8200173377990723, -2.555206537246704, -4.9967803955078125, 6.779494762420654, 11.378020286560059, -1.1238579750061035, -9.270950317382812, -3.0354583263397217, -4.063985347747803, 13.873809814453125, -5.854916572570801, 15.256450653076172, -2.7072527408599854, 15.252650260925293, -6.099930763244629, 7.579141616821289, -4.622954368591309, -4.693613052368164, -3.227370262145996, 2.7834231853485107, -6.024293422698975, -2.52211856842041, 6.690086841583252, -5.90530252456665, -5.512089252471924, -8.908851623535156, 16.76878547668457, -5.855828285217285, -4.976970672607422, -5.258362770080566, 4.733465671539307, -9.89254379272461, -0.2507703900337219, 13.858444213867188, -8.872952461242676, -2.4776487350463867, -3.8698694705963135, -9.660861015319824, -6.017340660095215, -4.75872278213501, -8.128457069396973, -6.486729145050049, -6.384822368621826, -10.175821304321289, -2.4657862186431885, -2.865072011947632, 1.3023005723953247, -7.86176872253418, -6.448069095611572, -9.022841453552246, -3.4972667694091797, -4.000082969665527, -4.390964984893799, -1.0285464525222778, -8.215399742126465, -6.004691123962402, -4.848861217498779, 1.4831215143203735, -8.395650863647461, -6.283111572265625, -3.158210515975952, -3.4777991771698, 8.219614028930664, 16.540035247802734, -10.263063430786133, -6.42129373550415, -0.6212081909179688, -9.021036148071289, 0.8308283090591431, -3.807720184326172, -3.414139986038208, 13.58841323852539, -3.255070924758911, 14.542810440063477, -3.076442241668701, -0.7018296122550964, -0.8079591393470764, -4.816615104675293, -1.873305320739746, -3.1242480278015137, -6.0099101066589355, -8.53515338897705, -4.7318339347839355, -8.24205207824707, -6.3542938232421875, -10.05212688446045, -10.078888893127441, -5.947937965393066, 16.82444953918457, -10.15633487701416, -4.774106502532959, -10.046658515930176, -6.193074703216553, -0.1356673389673233, -2.4035840034484863, 8.735433578491211, 6.979030132293701, -2.3181939125061035, 13.528743743896484, -5.9990739822387695, 10.668723106384277, 13.69520378112793, -5.425743103027344, -1.668893814086914, 4.883442401885986, 5.982436656951904, -5.81843376159668, -3.074113607406616, -2.31156587600708, -7.989736557006836, -1.5747796297073364, 16.453096389770508, -8.629977226257324, 0.9270943999290466, -5.505620956420898, 4.079983234405518, -8.7899169921875, -5.634176731109619, -5.77031135559082, 5.757659435272217, -4.417388916015625, -1.8240938186645508, -2.6614725589752197, -5.224848747253418, -6.222468852996826, 11.77892017364502, -3.5516719818115234, -3.3852710723876953, -4.982954025268555, -1.4886523485183716, 14.954244613647461, -6.854994297027588, 0.7225263118743896, 6.461272716522217, -1.758119821548462, -6.425840377807617, 2.2783470153808594, 2.0669922828674316, 5.849009037017822, 3.3808093070983887, -8.086214065551758, 11.212371826171875, -7.621227741241455, -6.700568199157715, 8.623374938964844, -5.177344799041748, -5.428914546966553, -9.34046459197998, 11.840651512145996, 16.228473663330078, 0.601410984992981, 2.248140335083008, 16.397523880004883, -7.751047611236572, -8.046716690063477, -7.855309963226318, 15.006287574768066, -9.42467975616455, -2.745755434036255, -10.25277042388916, 14.344094276428223, 1.1425944566726685, -6.043999195098877, -2.942448616027832, -0.3153878450393677, -7.780348777770996, -10.002143859863281, 1.0067343711853027, -1.9359774589538574, 6.784722805023193, 1.8405619859695435, -5.954510688781738, -5.301169395446777, 2.198669910430908, -5.694064617156982, 4.725767135620117, -6.249594688415527, -5.010474681854248, -6.321976184844971, 2.9292845726013184, 9.192946434020996, -8.457966804504395, -3.1186652183532715, -4.231963157653809, -4.671747207641602, -2.681128740310669, -8.806314468383789, -9.525213241577148, 6.354349613189697, 8.439624786376953, -3.7436866760253906, 9.797364234924316, -5.119365692138672, -0.17883917689323425, -1.696158528327942, 9.653545379638672, 16.581674575805664, 2.433009386062622, -0.3650715947151184, -4.920090198516846, -10.164586067199707, 4.029538154602051, -9.51766586303711, -8.43309497833252, -7.66029167175293, -3.2379589080810547, 15.779244422912598, 15.718913078308105, -7.279450416564941, 8.898533821105957, 16.003419876098633, -8.026350975036621, 12.469768524169922, -2.532719135284424, -4.632037162780762, -5.950160026550293, -9.238957405090332, -9.975653648376465, 1.1637041568756104, 1.8053629398345947, -8.120497703552246, 6.437860012054443, -2.0935370922088623, 5.05631160736084, 1.2948404550552368, -5.053347110748291, -3.6284987926483154, 0.03316235542297363, -0.14012616872787476, -5.899658203125, -9.790868759155273, 0.16859346628189087, -8.87239933013916, 14.678698539733887, 15.371395111083984, 1.5455505847930908, 1.5117422342300415, -6.298490047454834, 1.7960867881774902, -1.4825873374938965, -9.352402687072754, -5.826935291290283, -3.4343647956848145, -5.960531234741211, 4.895090579986572, -3.303053140640259, -6.107156276702881, -5.973169326782227, -6.302186965942383, -4.898758888244629, -4.567901134490967, -8.87058162689209, -5.986481666564941, -5.452763557434082, -1.837714433670044, 4.043396472930908, -5.526913642883301, -3.022740125656128, 4.06673526763916, -7.14558744430542, -6.029222011566162, -3.8906922340393066, -3.8169684410095215, -9.53327751159668, -2.445098400115967, -8.216981887817383, -7.156471252441406, 13.1817626953125, -6.254557132720947, 6.955977916717529, 1.1188480854034424, -6.284932613372803, -5.699225902557373, -6.111782073974609, -8.732146263122559, 11.806994438171387, -5.600452423095703, -6.074716091156006, 2.3739371299743652, -3.4546890258789062, -5.886734485626221, 6.400736331939697, 15.687530517578125, -3.9096803665161133, 9.455256462097168, 8.436351776123047, -8.020943641662598, -9.453721046447754, -5.119645118713379, -9.58123779296875, 10.461568832397461, 6.71994686126709, -6.158907413482666, 8.917450904846191, -3.51517915725708, -8.1268310546875, -4.365042686462402, -5.971476078033447, 15.497834205627441, -6.38470983505249, -4.095432758331299, -5.958101272583008, -5.305701732635498, -2.1011502742767334, 10.459869384765625, -0.961199939250946, -3.2611989974975586, 0.3579155504703522, 15.032143592834473, -7.1221771240234375, 15.490945816040039, -10.184916496276855, 11.926133155822754, 13.121707916259766, -4.347723960876465, 2.2398672103881836, -6.350614070892334, 10.952436447143555, -7.910543918609619, -4.487340450286865, -8.883943557739258, -9.625532150268555, -8.362044334411621, -6.300430774688721, -5.349595546722412, 6.497832298278809, -7.186396598815918, 7.037783145904541, -2.5034310817718506, -0.019167428836226463, -3.225893259048462, -2.5658345222473145, 8.102067947387695, -7.296964168548584, -8.908242225646973, -1.2351446151733398, 2.0714378356933594, -7.210655689239502, -6.373292922973633, -3.1567368507385254, -6.215696811676025, -4.063882350921631, -6.4735236167907715, -8.677830696105957, 0.07508870214223862, -6.202887535095215, -9.704294204711914, -6.097824573516846, -5.057641506195068, 6.429832935333252, 7.8846869468688965, -7.239679336547852, 4.999752998352051, -4.703042984008789, 15.664074897766113, -6.916041851043701, 14.470282554626465, 0.010547380894422531, 14.24184799194336, 14.419816970825195, 8.4281644821167, -4.365365982055664, -6.0781941413879395, -6.231532096862793, -8.622817993164062, -3.7589333057403564, 16.30284309387207, -10.21987247467041, -1.8956478834152222, 0.718729555606842, -0.9236950278282166, -5.356051921844482, -6.719038486480713, -8.172493934631348, -4.370905876159668, -4.781229496002197, -7.988633155822754, 12.722793579101562, -7.177950859069824, -2.212068796157837, -4.672971248626709, -8.086338996887207, 0.7459397912025452, -6.376259803771973, 16.537878036499023, 5.671095371246338, -9.393661499023438, -0.5940646529197693, -9.23569107055664, -3.369799852371216, -6.269964694976807, -10.261303901672363, -2.9679534435272217, 15.085226058959961, -9.750675201416016, 10.9826021194458, -6.19434928894043, -5.625657081604004, 9.135771751403809, 3.1699612140655518, -8.965576171875, 14.127206802368164, -5.733633995056152, 0.982962965965271, -1.7871971130371094, 4.995270252227783, -10.235928535461426, -7.3470611572265625, 7.124303340911865, -6.441566467285156, -5.348482608795166, 13.141278266906738, -4.455707550048828, 2.6583127975463867, -5.648740291595459, -4.20107889175415, 15.845449447631836, -6.473886489868164, -5.717830181121826, -0.9400356411933899, -4.3183064460754395, -5.381156921386719, 4.529365062713623, -8.706825256347656, 11.283731460571289, 0.7500842213630676, -6.428427696228027, -0.3631786108016968, -10.282615661621094, -5.887669563293457, 2.810014009475708, 13.445530891418457, 6.870982646942139, -4.818235874176025, -8.573233604431152, 6.5466413497924805, 4.04133939743042, 16.08108139038086, -7.638888835906982, 15.182004928588867, 3.6058244705200195, -4.587802886962891, -1.7940174341201782, 15.11362361907959, 16.16930389404297, 11.264294624328613, 5.1818342208862305, 8.511856079101562, -1.841345191001892, -0.004636265803128481, -8.655405044555664], \"z\": [-5.698031902313232, -2.414318799972534, -9.83627986907959, -8.224058151245117, -5.261153221130371, -0.5633695721626282, 0.5858899354934692, 0.0326644666492939, -9.611262321472168, 0.09909714758396149, -5.085926055908203, -10.251534461975098, -5.1371636390686035, -7.445633411407471, -1.0686894655227661, -5.672821998596191, -3.9817755222320557, 0.3002251982688904, -4.3507609367370605, -8.733272552490234, -10.176730155944824, 0.20245634019374847, -5.398548126220703, 9.314828872680664, -8.870011329650879, -9.545533180236816, 1.237308382987976, -1.981484293937683, -0.7138400673866272, -5.39346981048584, -9.123432159423828, -1.7322053909301758, -9.191938400268555, -0.12310811132192612, -9.333793640136719, -2.636979818344116, -7.583224296569824, -9.009561538696289, 1.0344635248184204, -9.826050758361816, -5.3963541984558105, -3.2769930362701416, -4.494793891906738, 0.6682594418525696, 1.1332833766937256, -8.395916938781738, -4.811844348907471, -7.529757976531982, 1.5478111505508423, 1.4900628328323364, -5.605624675750732, -5.279176712036133, 1.1683709621429443, -8.068199157714844, -5.653924465179443, -3.104879140853882, -8.290118217468262, -3.2966976165771484, -10.477733612060547, -6.749530792236328, 1.1527801752090454, 4.368564128875732, -1.4938284158706665, 2.835197687149048, -8.023804664611816, 0.3559843897819519, -8.219542503356934, -8.844413757324219, -0.07598055899143219, -8.19245719909668, -9.525026321411133, -10.502653121948242, -9.145468711853027, -0.510284423828125, -8.82955551147461, -4.33192253112793, -5.848182201385498, 1.3853378295898438, -3.8262507915496826, 1.2058489322662354, -1.8570793867111206, -6.405381679534912, -4.895882606506348, -4.753624439239502, 5.542571067810059, -5.625478744506836, -5.508548259735107, -5.648299694061279, -3.0525295734405518, -4.727405548095703, -0.42593321204185486, 0.7315571904182434, 7.762638092041016, -4.808501243591309, -4.472309589385986, -2.518889904022217, -7.124089241027832, 0.1572415679693222, -3.8692593574523926, -10.247101783752441, 10.500730514526367, 0.0024071524385362864, -6.737864971160889, -7.122955322265625, -3.924445867538452, 4.527027130126953, -1.0406519174575806, -3.9828896522521973, -0.444836288690567, -8.204025268554688, 9.591812133789062, 4.877849102020264, 5.576759338378906, -6.8649516105651855, -8.147844314575195, -3.405921220779419, 0.5305424928665161, -2.5416769981384277, -5.336876392364502, 2.3743929862976074, -6.828349590301514, 1.7381285429000854, 0.29593485593795776, 1.0457202196121216, -7.055708885192871, 6.7297043800354, -8.068471908569336, -8.272344589233398, 8.389692306518555, -9.151310920715332, 2.4655704498291016, 4.658106327056885, -6.3109235763549805, -7.093398571014404, -1.4059725999832153, -4.907042980194092, 2.277735948562622, -8.286825180053711, -10.679657936096191, -8.951164245605469, -3.4617347717285156, 0.6919182538986206, 6.234882831573486, -4.936237335205078, -2.3258116245269775, -8.014443397521973, -9.433975219726562, -10.558375358581543, -10.326876640319824, -9.084774017333984, -0.7812281250953674, -8.899353981018066, -5.659010887145996, 7.291679382324219, -4.409742832183838, 3.5142743587493896, -8.054556846618652, -5.864044189453125, -2.4386253356933594, -7.671445846557617, -4.356546401977539, -9.218541145324707, -8.254929542541504, -4.489418983459473, -9.50625228881836, 7.851406097412109, -8.256814002990723, -6.0008697509765625, 5.335341453552246, -0.34385547041893005, -5.672324180603027, -9.249314308166504, 7.185888767242432, -9.640727996826172, -9.236884117126465, -8.291561126708984, 1.448935866355896, -5.269287109375, 7.640266418457031, 1.670501708984375, -2.195899486541748, -3.681964159011841, -8.638335227966309, -3.224607229232788, -4.0857014656066895, -9.644030570983887, 5.402429103851318, -5.67511510848999, -7.962465763092041, -6.959585666656494, -10.720251083374023, -3.389676809310913, -4.121663570404053, -8.629977226257324, 0.8551130890846252, -1.5482090711593628, -0.2725334167480469, -7.945613384246826, -5.290231704711914, -6.983121871948242, -9.261872291564941, -4.639419078826904, -1.0634043216705322, -8.902384757995605, -1.3251292705535889, -6.389114856719971, -8.272690773010254, -9.010590553283691, 4.843940734863281, -10.259024620056152, -3.5829126834869385, -2.4879162311553955, -8.970545768737793, -3.7388217449188232, 4.227087020874023, -5.745872974395752, -9.227864265441895, -4.4102702140808105, -8.828866958618164, -3.556309461593628, 1.0782604217529297, -7.972232818603516, -10.272541046142578, -5.689041614532471, -3.2639999389648438, -9.630767822265625, -10.296137809753418, -0.9981369376182556, -0.6426064968109131, -9.093510627746582, 6.576587200164795, -7.847851753234863, -4.692885398864746, -2.414919376373291, -5.864436149597168, -4.828188896179199, 1.2371108531951904, -3.7637031078338623, -5.569736003875732, -4.545459747314453, -4.151393890380859, 0.42480117082595825, -9.217723846435547, 4.113447666168213, 1.4477225542068481, -7.372931957244873, -8.448627471923828, 1.38889479637146, -4.308929920196533, -2.8265531063079834, -4.81851053237915, -7.616868495941162, -5.587594509124756, -9.11638069152832, -8.857775688171387, -4.761302947998047, -0.9559040069580078, 4.361981391906738, 2.0070457458496094, -5.702506065368652, -6.684844493865967, -4.7374467849731445, -7.208906650543213, -9.255212783813477, 1.5540000200271606, -8.720911979675293, -4.971158981323242, -7.861375331878662, 0.07036926597356796, -7.282607078552246, 5.215343475341797, -3.2178351879119873, -4.412857532501221, -1.448501467704773, -9.198993682861328, -1.4550511837005615, -9.091444969177246, -8.634111404418945, -6.962284564971924, 4.279655933380127, 1.7559362649917603, -8.264228820800781, -2.9150075912475586, 0.9661694765090942, -9.054999351501465, -4.143863677978516, -1.2206060886383057, 1.7973257303237915, 1.0876408815383911, -3.27774715423584, 1.5733051300048828, -9.15147876739502, -10.210115432739258, -6.209667682647705, -4.802635669708252, -3.2317349910736084, -7.694899082183838, 0.5723257064819336, -7.072081565856934, -0.867281436920166, 8.82852554321289, -6.443119049072266, 4.744645118713379, 7.079619884490967, -0.7235735058784485, -3.5051443576812744, -7.6178388595581055, -9.191661834716797, -10.435132026672363, -1.7995541095733643, 0.670097291469574, -1.394115924835205, 1.857131838798523, -6.955225944519043, -0.6891063451766968, -3.149963855743408, 4.49424409866333, -3.053011655807495, -9.130388259887695, -8.266393661499023, -4.586312770843506, 7.72943639755249, 1.1617985963821411, 0.9749646782875061, -7.565690040588379, 1.0312193632125854, -4.884397506713867, 0.940603494644165, -2.7318761348724365, -3.8283274173736572, -10.373514175415039, -0.1208910420536995, -8.300802230834961, -3.4979288578033447, -7.884134769439697, -2.4712681770324707, 0.6136041879653931, -9.730753898620605, -7.944322109222412, -6.391144275665283, -2.2100143432617188, 0.8163853287696838, 0.7603949308395386, 1.9709028005599976, 4.371746063232422, 0.1321249008178711, 1.3859299421310425, -2.49645733833313, -2.5371148586273193, -3.7245962619781494, 1.0829704999923706, -2.9659626483917236, -0.035820022225379944, -2.522045373916626, -1.620991826057434, -8.075714111328125, 0.5067242980003357, -7.0125732421875, -8.721378326416016, 0.28803327679634094, -3.5441160202026367, 8.980740547180176, -5.4768147468566895, -3.391284465789795, -1.5720038414001465, -2.5913267135620117, -10.192663192749023, -5.653282642364502, 9.128148078918457, -7.448118209838867, -0.8620197772979736, -1.3919068574905396, -1.8338489532470703, 1.041260004043579, -7.6247968673706055, -8.183828353881836, -1.1320421695709229, -8.25721549987793, 2.4841785430908203, -5.333805561065674, -4.858136177062988, -9.167202949523926, -8.680401802062988, -9.338159561157227, -7.548373699188232, 1.9099253416061401, 7.759514808654785, -4.851623058319092, -9.16223430633545, 1.286673665046692, -9.270452499389648, -1.4552489519119263, -1.901425838470459, -4.424886703491211, -6.697105884552002, -8.779155731201172, -5.446335315704346, -0.49123746156692505, -4.908327102661133, -10.502949714660645, -10.10604476928711, -8.23440170288086, 4.826205730438232, -5.511138916015625, -2.0908591747283936, 0.53504878282547, -7.114106178283691, -6.749485015869141, -9.151926040649414, -7.2062578201293945, -4.898876667022705, 0.8830836415290833, -4.167385578155518, -8.283327102661133, 0.9916098713874817, -1.0570460557937622, 4.922860145568848, 5.250075817108154, -1.8204615116119385, -7.06076192855835, -7.378742694854736, -5.009370803833008, -2.716991662979126, -8.211156845092773, 8.965215682983398, -9.191020965576172, -9.844812393188477, -1.6436951160430908, -2.3929238319396973, -10.212907791137695, -9.358530044555664, -8.945131301879883, -10.494473457336426, -9.110052108764648, -5.890748977661133, -10.500336647033691, 9.406776428222656, -10.207984924316406, 7.5979838371276855, -9.268189430236816, 2.1580240726470947, -10.422133445739746, -6.683495998382568, 3.640493392944336, -7.413915634155273, 0.9168681502342224, 0.08978932350873947, 1.5164741277694702, -7.781581401824951, -0.4987630844116211, -9.00649356842041, -7.281399250030518, -7.203563213348389, -6.2897629737854, 1.7764297723770142, -9.96890640258789, -1.0861891508102417, -6.378451347351074, 1.0599223375320435, -5.0256733894348145, -3.0468077659606934, -9.348855018615723, -5.2745537757873535, -7.406442165374756, -0.5152634978294373, -4.551848888397217, -8.540501594543457, 1.1339762210845947, -0.3979298174381256, -0.511631190776825, 6.104744911193848, -6.891468048095703, 0.11448204517364502, 4.71964168548584, -4.418731689453125, -0.3634672164916992, 0.9253899455070496, -3.8488783836364746, 0.4275980591773987, -5.9521260261535645, -8.22109317779541, -10.546365737915039, -0.9502165913581848, -8.927417755126953, -1.0558834075927734, -10.209513664245605, -8.230380058288574, -6.813966751098633, 1.284686803817749, -4.129672527313232, -8.056685447692871, -4.0928473472595215, -1.3927339315414429, -8.081083297729492, 2.0687777996063232, -2.3012170791625977, -1.21392822265625, -10.188189506530762, -4.655071258544922, 7.799742698669434, -10.530364036560059, -5.617273330688477, 0.0965324193239212, 9.760198593139648, 1.384881615638733, -3.6254489421844482, -5.694985866546631, 1.7623450756072998, -2.162569761276245, 9.168778419494629, 1.613053560256958, 0.6865057945251465, 1.9982455968856812, 2.086507558822632, 9.021498680114746, -5.690356731414795, -2.846585512161255, -5.547358989715576, -1.2304145097732544, -9.199514389038086, -8.246564865112305, -4.153839111328125, -2.814995288848877, 2.004305124282837, 1.0567823648452759, -0.4468756318092346, -7.49580192565918, 2.7659189701080322, -4.092629909515381, -3.8332791328430176, -0.5192084312438965, -8.753166198730469, -8.470046043395996, 2.062389850616455, -5.063019752502441, -2.1349637508392334, 2.613565683364868, -4.813098907470703, -5.3781914710998535, 6.622867107391357, -8.279040336608887, 0.6144177913665771, -4.180044651031494, -8.850183486938477, -0.6440916061401367, -7.881775379180908, -6.509525299072266, -7.284614086151123, -8.339301109313965, -6.9828410148620605, 5.5236711502075195, -4.983579635620117, -5.850520610809326, -9.020339965820312, -1.8122626543045044, -6.878602027893066, 0.26708492636680603, 4.7088189125061035, -9.21031665802002, 9.105587005615234, -0.9843335151672363, 1.2111984491348267, 1.5958672761917114, -5.139602184295654, -6.500401496887207, -5.453563690185547, -5.865653038024902, -8.62533950805664, -7.207847595214844, -8.015563011169434, -1.7741590738296509, -8.827437400817871, -0.9612733125686646, -3.1979739665985107, -4.801117897033691, -3.895590305328369, 3.143343448638916, -8.287989616394043, 7.331214427947998, -5.535706043243408, 5.166218280792236, 4.23887825012207, 1.824706792831421, -0.7688336372375488, 3.993177890777588, 7.796261787414551, -5.832342147827148, -9.082786560058594, -8.794246673583984, -8.726534843444824, -0.3058367371559143, -8.074763298034668, 1.8564022779464722, 0.6295195817947388, -7.768040657043457, 5.9518232345581055, -7.662674427032471, -2.0924222469329834, -4.861635684967041, -2.7112817764282227, -4.535153865814209, 0.8147739171981812, 7.896198272705078, -6.942178726196289, 0.2099856436252594, -7.841658592224121, -4.3510565757751465, 7.983719348907471, -1.0222737789154053, -2.2293899059295654, 0.17697292566299438, -8.9437255859375, -8.0709810256958, -2.325511932373047, -9.117132186889648, 1.4137136936187744, 0.19551365077495575, -8.883211135864258, -2.5703418254852295, -3.5261740684509277, -2.839212656021118, -2.6305506229400635, -7.305018424987793, -0.7276912331581116, 8.509769439697266, 1.9501701593399048, 3.0623772144317627, -7.054192543029785, 0.8642879128456116, -5.21932315826416, -0.7693421840667725, -10.290623664855957, -2.3098556995391846, 8.995479583740234, 1.3007391691207886, -8.264847755432129, -6.7608184814453125, -9.049115180969238, 4.93591833114624, -4.200642108917236, -2.553912878036499, -0.14027664065361023, 4.298039436340332, 4.840447902679443, -8.192994117736816, -0.6062555909156799, 1.0235164165496826, -10.102975845336914, -7.004576206207275, -9.783042907714844, -2.9342005252838135, -8.531500816345215, 7.538448810577393, -3.9715871810913086, 1.4204543828964233, -1.698864221572876, -6.41740608215332, -5.336515426635742, 7.996278762817383, -0.7258492708206177, -6.7197136878967285, -5.280862331390381, 1.4192852973937988, -2.96266770362854, -5.037125110626221, -4.41050910949707, -9.40717601776123, -10.205307960510254, -3.740147590637207, -7.855760097503662, -8.682485580444336, -0.3266909420490265, -1.590672492980957, -3.864358901977539, -6.69941520690918, -8.263795852661133, 10.00669002532959, -0.48666059970855713, -0.2367551475763321, 0.1539919376373291, 8.41139030456543, -9.712348937988281, 2.423513889312744, -0.8362870216369629, -5.670202732086182, 2.8038909435272217, -5.600647449493408, -7.135382175445557, 0.14127178490161896, -8.029558181762695, -3.823317527770996, -9.145831108093262, -5.125197410583496, -3.6214895248413086, -8.87559986114502, 1.5487241744995117, 3.2920100688934326, -9.847196578979492, -8.258296966552734, 0.4306965470314026, -8.590847969055176, -1.5565217733383179, -8.22860336303711, 4.167960166931152, -3.0890049934387207, -1.6611610651016235, 0.5953938961029053, -5.11800479888916, -10.151626586914062, -7.196833610534668, -2.9572770595550537, -8.596678733825684, -7.917638301849365]}, {\"hoverlabel\": {\"namelength\": 0}, \"hovertemplate\": \"Dominant_Topic=Topic 3<br>0=%{x}<br>1=%{y}<br>2=%{z}\", \"legendgroup\": \"Dominant_Topic=Topic 3\", \"marker\": {\"color\": \"#ab63fa\", \"opacity\": 0.7, \"symbol\": \"circle\"}, \"mode\": \"markers\", \"name\": \"Dominant_Topic=Topic 3\", \"scene\": \"scene\", \"showlegend\": true, \"type\": \"scatter3d\", \"x\": [2.1877057552337646, 3.1124267578125, 4.380089282989502, 2.1844980716705322], \"y\": [-3.0715575218200684, -3.6890006065368652, -4.1381025314331055, -3.0718085765838623], \"z\": [3.6856164932250977, 2.1464381217956543, 3.800964117050171, 3.6676878929138184]}],\n",
       "                        {\"height\": 800, \"legend\": {\"tracegroupgap\": 0}, \"scene\": {\"domain\": {\"x\": [0.0, 1.0], \"y\": [0.0, 1.0]}, \"xaxis\": {\"title\": {\"text\": \"0\"}}, \"yaxis\": {\"title\": {\"text\": \"1\"}}, \"zaxis\": {\"title\": {\"text\": \"2\"}}}, \"template\": {\"data\": {\"bar\": [{\"error_x\": {\"color\": \"#2a3f5f\"}, \"error_y\": {\"color\": \"#2a3f5f\"}, \"marker\": {\"line\": {\"color\": \"#E5ECF6\", \"width\": 0.5}}, \"type\": \"bar\"}], \"barpolar\": [{\"marker\": {\"line\": {\"color\": \"#E5ECF6\", \"width\": 0.5}}, \"type\": \"barpolar\"}], \"carpet\": [{\"aaxis\": {\"endlinecolor\": \"#2a3f5f\", \"gridcolor\": \"white\", \"linecolor\": \"white\", \"minorgridcolor\": \"white\", \"startlinecolor\": \"#2a3f5f\"}, \"baxis\": {\"endlinecolor\": \"#2a3f5f\", \"gridcolor\": \"white\", \"linecolor\": \"white\", \"minorgridcolor\": \"white\", \"startlinecolor\": \"#2a3f5f\"}, \"type\": \"carpet\"}], \"choropleth\": [{\"colorbar\": {\"outlinewidth\": 0, \"ticks\": \"\"}, \"type\": \"choropleth\"}], \"contour\": [{\"colorbar\": {\"outlinewidth\": 0, \"ticks\": \"\"}, \"colorscale\": [[0.0, \"#0d0887\"], [0.1111111111111111, \"#46039f\"], [0.2222222222222222, \"#7201a8\"], [0.3333333333333333, \"#9c179e\"], [0.4444444444444444, \"#bd3786\"], [0.5555555555555556, \"#d8576b\"], [0.6666666666666666, \"#ed7953\"], [0.7777777777777778, \"#fb9f3a\"], [0.8888888888888888, \"#fdca26\"], [1.0, \"#f0f921\"]], \"type\": \"contour\"}], \"contourcarpet\": [{\"colorbar\": {\"outlinewidth\": 0, \"ticks\": \"\"}, \"type\": \"contourcarpet\"}], \"heatmap\": [{\"colorbar\": {\"outlinewidth\": 0, \"ticks\": \"\"}, \"colorscale\": [[0.0, \"#0d0887\"], [0.1111111111111111, \"#46039f\"], [0.2222222222222222, \"#7201a8\"], [0.3333333333333333, \"#9c179e\"], [0.4444444444444444, \"#bd3786\"], [0.5555555555555556, \"#d8576b\"], [0.6666666666666666, \"#ed7953\"], [0.7777777777777778, \"#fb9f3a\"], [0.8888888888888888, \"#fdca26\"], [1.0, \"#f0f921\"]], \"type\": \"heatmap\"}], \"heatmapgl\": [{\"colorbar\": {\"outlinewidth\": 0, \"ticks\": \"\"}, \"colorscale\": [[0.0, \"#0d0887\"], [0.1111111111111111, \"#46039f\"], [0.2222222222222222, \"#7201a8\"], [0.3333333333333333, \"#9c179e\"], [0.4444444444444444, \"#bd3786\"], [0.5555555555555556, \"#d8576b\"], [0.6666666666666666, \"#ed7953\"], [0.7777777777777778, \"#fb9f3a\"], [0.8888888888888888, \"#fdca26\"], [1.0, \"#f0f921\"]], \"type\": \"heatmapgl\"}], \"histogram\": [{\"marker\": {\"colorbar\": {\"outlinewidth\": 0, \"ticks\": \"\"}}, \"type\": \"histogram\"}], \"histogram2d\": [{\"colorbar\": {\"outlinewidth\": 0, \"ticks\": \"\"}, \"colorscale\": [[0.0, \"#0d0887\"], [0.1111111111111111, \"#46039f\"], [0.2222222222222222, \"#7201a8\"], [0.3333333333333333, \"#9c179e\"], [0.4444444444444444, \"#bd3786\"], [0.5555555555555556, \"#d8576b\"], [0.6666666666666666, \"#ed7953\"], [0.7777777777777778, \"#fb9f3a\"], [0.8888888888888888, \"#fdca26\"], [1.0, \"#f0f921\"]], \"type\": \"histogram2d\"}], \"histogram2dcontour\": [{\"colorbar\": {\"outlinewidth\": 0, \"ticks\": \"\"}, \"colorscale\": [[0.0, \"#0d0887\"], [0.1111111111111111, \"#46039f\"], [0.2222222222222222, \"#7201a8\"], [0.3333333333333333, \"#9c179e\"], [0.4444444444444444, \"#bd3786\"], [0.5555555555555556, \"#d8576b\"], [0.6666666666666666, \"#ed7953\"], [0.7777777777777778, \"#fb9f3a\"], [0.8888888888888888, \"#fdca26\"], [1.0, \"#f0f921\"]], \"type\": \"histogram2dcontour\"}], \"mesh3d\": [{\"colorbar\": {\"outlinewidth\": 0, \"ticks\": \"\"}, \"type\": \"mesh3d\"}], \"parcoords\": [{\"line\": {\"colorbar\": {\"outlinewidth\": 0, \"ticks\": \"\"}}, \"type\": \"parcoords\"}], \"pie\": [{\"automargin\": true, \"type\": \"pie\"}], \"scatter\": [{\"marker\": {\"colorbar\": {\"outlinewidth\": 0, \"ticks\": \"\"}}, \"type\": \"scatter\"}], \"scatter3d\": [{\"line\": {\"colorbar\": {\"outlinewidth\": 0, \"ticks\": \"\"}}, \"marker\": {\"colorbar\": {\"outlinewidth\": 0, \"ticks\": \"\"}}, \"type\": \"scatter3d\"}], \"scattercarpet\": [{\"marker\": {\"colorbar\": {\"outlinewidth\": 0, \"ticks\": \"\"}}, \"type\": \"scattercarpet\"}], \"scattergeo\": [{\"marker\": {\"colorbar\": {\"outlinewidth\": 0, \"ticks\": \"\"}}, \"type\": \"scattergeo\"}], \"scattergl\": [{\"marker\": {\"colorbar\": {\"outlinewidth\": 0, \"ticks\": \"\"}}, \"type\": \"scattergl\"}], \"scattermapbox\": [{\"marker\": {\"colorbar\": {\"outlinewidth\": 0, \"ticks\": \"\"}}, \"type\": \"scattermapbox\"}], \"scatterpolar\": [{\"marker\": {\"colorbar\": {\"outlinewidth\": 0, \"ticks\": \"\"}}, \"type\": \"scatterpolar\"}], \"scatterpolargl\": [{\"marker\": {\"colorbar\": {\"outlinewidth\": 0, \"ticks\": \"\"}}, \"type\": \"scatterpolargl\"}], \"scatterternary\": [{\"marker\": {\"colorbar\": {\"outlinewidth\": 0, \"ticks\": \"\"}}, \"type\": \"scatterternary\"}], \"surface\": [{\"colorbar\": {\"outlinewidth\": 0, \"ticks\": \"\"}, \"colorscale\": [[0.0, \"#0d0887\"], [0.1111111111111111, \"#46039f\"], [0.2222222222222222, \"#7201a8\"], [0.3333333333333333, \"#9c179e\"], [0.4444444444444444, \"#bd3786\"], [0.5555555555555556, \"#d8576b\"], [0.6666666666666666, \"#ed7953\"], [0.7777777777777778, \"#fb9f3a\"], [0.8888888888888888, \"#fdca26\"], [1.0, \"#f0f921\"]], \"type\": \"surface\"}], \"table\": [{\"cells\": {\"fill\": {\"color\": \"#EBF0F8\"}, \"line\": {\"color\": \"white\"}}, \"header\": {\"fill\": {\"color\": \"#C8D4E3\"}, \"line\": {\"color\": \"white\"}}, \"type\": \"table\"}]}, \"layout\": {\"annotationdefaults\": {\"arrowcolor\": \"#2a3f5f\", \"arrowhead\": 0, \"arrowwidth\": 1}, \"coloraxis\": {\"colorbar\": {\"outlinewidth\": 0, \"ticks\": \"\"}}, \"colorscale\": {\"diverging\": [[0, \"#8e0152\"], [0.1, \"#c51b7d\"], [0.2, \"#de77ae\"], [0.3, \"#f1b6da\"], [0.4, \"#fde0ef\"], [0.5, \"#f7f7f7\"], [0.6, \"#e6f5d0\"], [0.7, \"#b8e186\"], [0.8, \"#7fbc41\"], [0.9, \"#4d9221\"], [1, \"#276419\"]], \"sequential\": [[0.0, \"#0d0887\"], [0.1111111111111111, \"#46039f\"], [0.2222222222222222, \"#7201a8\"], [0.3333333333333333, \"#9c179e\"], [0.4444444444444444, \"#bd3786\"], [0.5555555555555556, \"#d8576b\"], [0.6666666666666666, \"#ed7953\"], [0.7777777777777778, \"#fb9f3a\"], [0.8888888888888888, \"#fdca26\"], [1.0, \"#f0f921\"]], \"sequentialminus\": [[0.0, \"#0d0887\"], [0.1111111111111111, \"#46039f\"], [0.2222222222222222, \"#7201a8\"], [0.3333333333333333, \"#9c179e\"], [0.4444444444444444, \"#bd3786\"], [0.5555555555555556, \"#d8576b\"], [0.6666666666666666, \"#ed7953\"], [0.7777777777777778, \"#fb9f3a\"], [0.8888888888888888, \"#fdca26\"], [1.0, \"#f0f921\"]]}, \"colorway\": [\"#636efa\", \"#EF553B\", \"#00cc96\", \"#ab63fa\", \"#FFA15A\", \"#19d3f3\", \"#FF6692\", \"#B6E880\", \"#FF97FF\", \"#FECB52\"], \"font\": {\"color\": \"#2a3f5f\"}, \"geo\": {\"bgcolor\": \"white\", \"lakecolor\": \"white\", \"landcolor\": \"#E5ECF6\", \"showlakes\": true, \"showland\": true, \"subunitcolor\": \"white\"}, \"hoverlabel\": {\"align\": \"left\"}, \"hovermode\": \"closest\", \"mapbox\": {\"style\": \"light\"}, \"paper_bgcolor\": \"white\", \"plot_bgcolor\": \"#E5ECF6\", \"polar\": {\"angularaxis\": {\"gridcolor\": \"white\", \"linecolor\": \"white\", \"ticks\": \"\"}, \"bgcolor\": \"#E5ECF6\", \"radialaxis\": {\"gridcolor\": \"white\", \"linecolor\": \"white\", \"ticks\": \"\"}}, \"scene\": {\"xaxis\": {\"backgroundcolor\": \"#E5ECF6\", \"gridcolor\": \"white\", \"gridwidth\": 2, \"linecolor\": \"white\", \"showbackground\": true, \"ticks\": \"\", \"zerolinecolor\": \"white\"}, \"yaxis\": {\"backgroundcolor\": \"#E5ECF6\", \"gridcolor\": \"white\", \"gridwidth\": 2, \"linecolor\": \"white\", \"showbackground\": true, \"ticks\": \"\", \"zerolinecolor\": \"white\"}, \"zaxis\": {\"backgroundcolor\": \"#E5ECF6\", \"gridcolor\": \"white\", \"gridwidth\": 2, \"linecolor\": \"white\", \"showbackground\": true, \"ticks\": \"\", \"zerolinecolor\": \"white\"}}, \"shapedefaults\": {\"line\": {\"color\": \"#2a3f5f\"}}, \"ternary\": {\"aaxis\": {\"gridcolor\": \"white\", \"linecolor\": \"white\", \"ticks\": \"\"}, \"baxis\": {\"gridcolor\": \"white\", \"linecolor\": \"white\", \"ticks\": \"\"}, \"bgcolor\": \"#E5ECF6\", \"caxis\": {\"gridcolor\": \"white\", \"linecolor\": \"white\", \"ticks\": \"\"}}, \"title\": {\"x\": 0.05}, \"xaxis\": {\"automargin\": true, \"gridcolor\": \"white\", \"linecolor\": \"white\", \"ticks\": \"\", \"title\": {\"standoff\": 15}, \"zerolinecolor\": \"white\", \"zerolinewidth\": 2}, \"yaxis\": {\"automargin\": true, \"gridcolor\": \"white\", \"linecolor\": \"white\", \"ticks\": \"\", \"title\": {\"standoff\": 15}, \"zerolinecolor\": \"white\", \"zerolinewidth\": 2}}}, \"title\": {\"text\": \"3d TSNE Plot for Topic Model\"}, \"width\": 900},\n",
       "                        {\"responsive\": true}\n",
       "                    ).then(function(){\n",
       "                            \n",
       "var gd = document.getElementById('f56f9c85-3664-4999-a9b0-545133573fcc');\n",
       "var x = new MutationObserver(function (mutations, observer) {{\n",
       "        var display = window.getComputedStyle(gd).display;\n",
       "        if (!display || display === 'none') {{\n",
       "            console.log([gd, 'removed!']);\n",
       "            Plotly.purge(gd);\n",
       "            observer.disconnect();\n",
       "        }}\n",
       "}});\n",
       "\n",
       "// Listen for the removal of the full notebook cells\n",
       "var notebookContainer = gd.closest('#notebook-container');\n",
       "if (notebookContainer) {{\n",
       "    x.observe(notebookContainer, {childList: true});\n",
       "}}\n",
       "\n",
       "// Listen for the clearing of the current output cell\n",
       "var outputEl = gd.closest('.output');\n",
       "if (outputEl) {{\n",
       "    x.observe(outputEl, {childList: true});\n",
       "}}\n",
       "\n",
       "                        })\n",
       "                };\n",
       "                });\n",
       "            </script>\n",
       "        </div>"
      ]
     },
     "metadata": {},
     "output_type": "display_data"
    }
   ],
   "source": [
    "plot_model(lda, plot = 'tsne')"
   ]
  },
  {
   "cell_type": "code",
   "execution_count": 16,
   "metadata": {},
   "outputs": [
    {
     "data": {
      "text/html": [
       "        <script type=\"text/javascript\">\n",
       "        window.PlotlyConfig = {MathJaxConfig: 'local'};\n",
       "        if (window.MathJax) {MathJax.Hub.Config({SVG: {font: \"STIX-Web\"}});}\n",
       "        if (typeof require !== 'undefined') {\n",
       "        require.undef(\"plotly\");\n",
       "        requirejs.config({\n",
       "            paths: {\n",
       "                'plotly': ['https://cdn.plot.ly/plotly-latest.min']\n",
       "            }\n",
       "        });\n",
       "        require(['plotly'], function(Plotly) {\n",
       "            window._Plotly = Plotly;\n",
       "        });\n",
       "        }\n",
       "        </script>\n",
       "        "
      ]
     },
     "metadata": {},
     "output_type": "display_data"
    },
    {
     "data": {
      "image/png": "[encoded data removed]",
      "text/plain": [
       "<Figure size 720x432 with 1 Axes>"
      ]
     },
     "metadata": {},
     "output_type": "display_data"
    }
   ],
   "source": [
    "plot_model(lda, plot = 'umap')"
   ]
  },
  {
   "cell_type": "markdown",
   "metadata": {},
   "source": [
    "# Model Evaluation, Saving, Loading"
   ]
  },
  {
   "cell_type": "code",
   "execution_count": 17,
   "metadata": {},
   "outputs": [
    {
     "data": {
      "application/vnd.jupyter.widget-view+json": {
       "model_id": "57b43256b3304d02bbff5f35aa5a5d7f",
       "version_major": 2,
       "version_minor": 0
      },
      "text/plain": [
       "interactive(children=(ToggleButtons(description='Plot Type:', icons=('',), options=(('Frequency Plot', 'freque…"
      ]
     },
     "metadata": {},
     "output_type": "display_data"
    }
   ],
   "source": [
    "evaluate_model(lda)"
   ]
  },
  {
   "cell_type": "code",
   "execution_count": 18,
   "metadata": {},
   "outputs": [
    {
     "name": "stdout",
     "output_type": "stream",
     "text": [
      "Model Succesfully Saved\n"
     ]
    }
   ],
   "source": [
    "save_model(lda,'Final LDA Model 08Feb2020')"
   ]
  },
  {
   "cell_type": "code",
   "execution_count": 19,
   "metadata": {},
   "outputs": [
    {
     "name": "stdout",
     "output_type": "stream",
     "text": [
      "Model Sucessfully Loaded\n"
     ]
    }
   ],
   "source": [
    "saved_lda = load_model('Final LDA Model 08Feb2020')"
   ]
  },
  {
   "cell_type": "code",
   "execution_count": 20,
   "metadata": {},
   "outputs": [
    {
     "name": "stdout",
     "output_type": "stream",
     "text": [
      "LdaModel(num_terms=4573, num_topics=4, decay=0.5, chunksize=100)\n"
     ]
    }
   ],
   "source": [
    "print(saved_lda)"
   ]
  },
  {
   "cell_type": "markdown",
   "metadata": {},
   "source": [
    "# Text Preprocessing"
   ]
  },
  {
   "cell_type": "code",
   "execution_count": 22,
   "metadata": {},
   "outputs": [
    {
     "data": {
      "text/html": [
       "<style  type=\"text/css\" >\n",
       "</style><table id=\"T_b38d310a_9db3_11ea_b6d8_f40f241df08e\" ><thead>    <tr>        <th class=\"col_heading level0 col0\" >Description</th>        <th class=\"col_heading level0 col1\" >Value</th>    </tr></thead><tbody>\n",
       "                <tr>\n",
       "                                <td id=\"T_b38d310a_9db3_11ea_b6d8_f40f241df08erow0_col0\" class=\"data row0 col0\" >session_id</td>\n",
       "                        <td id=\"T_b38d310a_9db3_11ea_b6d8_f40f241df08erow0_col1\" class=\"data row0 col1\" >123</td>\n",
       "            </tr>\n",
       "            <tr>\n",
       "                                <td id=\"T_b38d310a_9db3_11ea_b6d8_f40f241df08erow1_col0\" class=\"data row1 col0\" ># Documents</td>\n",
       "                        <td id=\"T_b38d310a_9db3_11ea_b6d8_f40f241df08erow1_col1\" class=\"data row1 col1\" >1000</td>\n",
       "            </tr>\n",
       "            <tr>\n",
       "                                <td id=\"T_b38d310a_9db3_11ea_b6d8_f40f241df08erow2_col0\" class=\"data row2 col0\" >Vocab Size</td>\n",
       "                        <td id=\"T_b38d310a_9db3_11ea_b6d8_f40f241df08erow2_col1\" class=\"data row2 col1\" >4552</td>\n",
       "            </tr>\n",
       "            <tr>\n",
       "                                <td id=\"T_b38d310a_9db3_11ea_b6d8_f40f241df08erow3_col0\" class=\"data row3 col0\" >Custom Stopwords</td>\n",
       "                        <td id=\"T_b38d310a_9db3_11ea_b6d8_f40f241df08erow3_col1\" class=\"data row3 col1\" >True</td>\n",
       "            </tr>\n",
       "    </tbody></table>"
      ],
      "text/plain": [
       "<pandas.io.formats.style.Styler at 0x16e4e1e10>"
      ]
     },
     "metadata": {},
     "output_type": "display_data"
    }
   ],
   "source": [
    "from pycaret.nlp import *\n",
    "exp_nlp102 = setup(data = data, target = 'en', session_id = 123,\n",
    "                   custom_stopwords = ['loan', 'income', 'usd', 'many', 'also', 'make', 'business', 'buy', \n",
    "                                       'sell', 'purchase','year', 'people', 'able', 'enable', 'old', 'woman',\n",
    "                                       'child', 'school'])"
   ]
  },
  {
   "cell_type": "code",
   "execution_count": null,
   "metadata": {},
   "outputs": [],
   "source": [
    "lda = create_model('lda')\n",
    "plot_model(lda, plot = 'topic_distribution')"
   ]
  },
  {
   "cell_type": "markdown",
   "metadata": {},
   "source": [
    "# Model Tuning/Evaluation"
   ]
  },
  {
   "cell_type": "code",
   "execution_count": null,
   "metadata": {},
   "outputs": [
    {
     "data": {
      "application/vnd.jupyter.widget-view+json": {
       "model_id": "854890d7edaf4d19adab69a357c37c56",
       "version_major": 2,
       "version_minor": 0
      },
      "text/plain": [
       "IntProgress(value=0, description='Processing: ', max=25)"
      ]
     },
     "metadata": {},
     "output_type": "display_data"
    },
    {
     "data": {
      "application/vnd.jupyter.widget-view+json": {
       "model_id": "447bf82cad64487c9adf422c30466895",
       "version_major": 2,
       "version_minor": 0
      },
      "text/plain": [
       "Output()"
      ]
     },
     "metadata": {},
     "output_type": "display_data"
    },
    {
     "data": {
      "text/html": [
       "        <script type=\"text/javascript\">\n",
       "        window.PlotlyConfig = {MathJaxConfig: 'local'};\n",
       "        if (window.MathJax) {MathJax.Hub.Config({SVG: {font: \"STIX-Web\"}});}\n",
       "        if (typeof require !== 'undefined') {\n",
       "        require.undef(\"plotly\");\n",
       "        requirejs.config({\n",
       "            paths: {\n",
       "                'plotly': ['https://cdn.plot.ly/plotly-latest.min']\n",
       "            }\n",
       "        });\n",
       "        require(['plotly'], function(Plotly) {\n",
       "            window._Plotly = Plotly;\n",
       "        });\n",
       "        }\n",
       "        </script>\n",
       "        "
      ]
     },
     "metadata": {},
     "output_type": "display_data"
    }
   ],
   "source": [
    "tuned_unsupervised = tune_model(model = 'lda', multi_core = True)"
   ]
  },
  {
   "cell_type": "code",
   "execution_count": null,
   "metadata": {},
   "outputs": [],
   "source": [
    "tuned_classification = tune_model(model = 'lda', multi_core = True, supervised_target = 'status')"
   ]
  },
  {
   "cell_type": "code",
   "execution_count": null,
   "metadata": {},
   "outputs": [],
   "source": [
    "save_experiment('Experiment_123 08Feb2020')"
   ]
  },
  {
   "cell_type": "code",
   "execution_count": null,
   "metadata": {},
   "outputs": [],
   "source": [
    "saved_experiment = load_experiment('Experiment_123 08Feb2020')"
   ]
  },
  {
   "cell_type": "code",
   "execution_count": null,
   "metadata": {},
   "outputs": [],
   "source": [
    "saved_lda = saved_experiment[5]\n",
    "print(saved_lda)"
   ]
  }
 ],
 "metadata": {
  "kernelspec": {
   "display_name": "Python 3",
   "language": "python",
   "name": "python3"
  },
  "language_info": {
   "codemirror_mode": {
    "name": "ipython",
    "version": 3
   },
   "file_extension": ".py",
   "mimetype": "text/x-python",
   "name": "python",
   "nbconvert_exporter": "python",
   "pygments_lexer": "ipython3",
   "version": "3.7.5"
  }
 },
 "nbformat": 4,
 "nbformat_minor": 2
}
